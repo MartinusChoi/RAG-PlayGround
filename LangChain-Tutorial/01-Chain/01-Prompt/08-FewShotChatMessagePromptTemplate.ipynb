{
 "cells": [
  {
   "cell_type": "markdown",
   "metadata": {},
   "source": [
    "# FewShotChatMessagePromptTemplate"
   ]
  },
  {
   "cell_type": "markdown",
   "metadata": {},
   "source": [
    "## 1. Set API Keys"
   ]
  },
  {
   "cell_type": "code",
   "execution_count": 1,
   "metadata": {},
   "outputs": [
    {
     "data": {
      "text/plain": [
       "True"
      ]
     },
     "execution_count": 1,
     "metadata": {},
     "output_type": "execute_result"
    }
   ],
   "source": [
    "from dotenv import load_dotenv\n",
    "\n",
    "load_dotenv()"
   ]
  },
  {
   "cell_type": "markdown",
   "metadata": {},
   "source": [
    "## 2. FewShotChatMessagesPromptTemplate\n",
    "\n",
    "- 세부 key값은 자유롭게 구성하되, 추후 `example_prompt`의 변수명과 동일하게 작성해야함"
   ]
  },
  {
   "cell_type": "code",
   "execution_count": 3,
   "metadata": {},
   "outputs": [],
   "source": [
    "examples = [\n",
    "    {\n",
    "        \"instruction\": \"당신은 회의록 작성 전문가 입니다. 주어진 정보를 바탕으로 회의록을 작성해 주세요\",\n",
    "        \"input\": \"\"\"\n",
    "            2023년 12월 25일, XYZ 회사의 마케팅 전략 회의가 오후 3시에 시작되었다. \n",
    "            \n",
    "            회의에는 마케팅 팀장인 김수진, 디지털 마케팅 담당자인 박지민, 소셜 미디어 관리자인 이준호가 참석했다. \n",
    "            \n",
    "            회의의 주요 목적은 2024년 상반기 마케팅 전략을 수립하고, 새로운 소셜 미디어 캠페인에 대한 아이디어를 논의하는 것이었다. \n",
    "            \n",
    "            팀장인 김수진은 최근 시장 동향에 대한 간략한 개요를 제공했으며, 이어서 각 팀원이 자신의 분야에서의 전략적 아이디어를 발표했다.\n",
    "        \"\"\",\n",
    "        \"answer\": \"\"\"\n",
    "            회의록: XYZ 회사 마케팅 전략 회의\n",
    "            일시: 2023년 12월 25일\n",
    "            장소: XYZ 회사 회의실\n",
    "            참석자: 김수진 (마케팅 팀장), 박지민 (디지털 마케팅 담당자), 이준호 (소셜 미디어 관리자)\n",
    "\n",
    "            1. 개회\n",
    "            - 회의는 김수진 팀장의 개회사로 시작됨.\n",
    "            - 회의의 목적은 2024년 상반기 마케팅 전략 수립 및 새로운 소셜 미디어 캠페인 아이디어 논의.\n",
    "\n",
    "            2. 시장 동향 개요 (김수진)\n",
    "            - 김수진 팀장은 최근 시장 동향에 대한 분석을 제시.\n",
    "            - 소비자 행동 변화와 경쟁사 전략에 대한 통찰 공유.\n",
    "\n",
    "            3. 디지털 마케팅 전략 (박지민)\n",
    "            - 박지민은 디지털 마케팅 전략에 대해 발표.\n",
    "            - 온라인 광고와 SEO 최적화 방안에 중점을 둠.\n",
    "\n",
    "            4. 소셜 미디어 캠페인 (이준호)\n",
    "            - 이준호는 새로운 소셜 미디어 캠페인에 대한 아이디어를 제안.\n",
    "            - 인플루언서 마케팅과 콘텐츠 전략에 대한 계획을 설명함.\n",
    "\n",
    "            5. 종합 논의\n",
    "            - 팀원들 간의 아이디어 공유 및 토론.\n",
    "            - 각 전략에 대한 예산 및 자원 배분에 대해 논의.\n",
    "\n",
    "            6. 마무리\n",
    "            - 다음 회의 날짜 및 시간 확정.\n",
    "            - 회의록 정리 및 배포는 박지민 담당.\n",
    "        \"\"\",\n",
    "    },\n",
    "    {\n",
    "        \"instruction\": \"당신은 요약 전문가 입니다. 다음 주어진 정보를 바탕으로 내용을 요약해 주세요\",\n",
    "        \"input\": \"\"\"\n",
    "            이 문서는 '지속 가능한 도시 개발을 위한 전략'에 대한 20페이지 분량의 보고서입니다. \n",
    "            \n",
    "            보고서는 지속 가능한 도시 개발의 중요성, 현재 도시화의 문제점, 그리고 도시 개발을 지속 가능하게 만들기 위한 다양한 전략을 포괄적으로 다루고 있습니다. \n",
    "            \n",
    "            이 보고서는 또한 성공적인 지속 가능한 도시 개발 사례를 여러 국가에서 소개하고, 이러한 사례들을 통해 얻은 교훈을 요약하고 있습니다.\n",
    "        \"\"\",\n",
    "        \"answer\": \"\"\"\n",
    "            문서 요약: 지속 가능한 도시 개발을 위한 전략 보고서\n",
    "\n",
    "            - 중요성: 지속 가능한 도시 개발이 필수적인 이유와 그에 따른 사회적, 경제적, 환경적 이익을 강조.\n",
    "            - 현 문제점: 현재의 도시화 과정에서 발생하는 주요 문제점들, 예를 들어 환경 오염, 자원 고갈, 불평등 증가 등을 분석.\n",
    "            - 전략: 지속 가능한 도시 개발을 달성하기 위한 다양한 전략 제시. 이에는 친환경 건축, 대중교통 개선, 에너지 효율성 증대, 지역사회 참여 강화 등이 포함됨.\n",
    "            - 사례 연구: 전 세계 여러 도시의 성공적인 지속 가능한 개발 사례를 소개. 예를 들어, 덴마크의 코펜하겐, 일본의 요코하마 등의 사례를 통해 실현 가능한 전략들을 설명.\n",
    "            - 교훈: 이러한 사례들에서 얻은 주요 교훈을 요약. 강조된 교훈에는 다각적 접근의 중요성, 지역사회와의 협력, 장기적 계획의 필요성 등이 포함됨.\n",
    "\n",
    "            이 보고서는 지속 가능한 도시 개발이 어떻게 현실적이고 효과적인 형태로 이루어질 수 있는지에 대한 심도 있는 분석을 제공합니다.\n",
    "        \"\"\",\n",
    "    },\n",
    "    {\n",
    "        \"instruction\": \"당신은 문장 교정 전문가 입니다. 다음 주어진 문장을 교정해 주세요\",\n",
    "        \"input\": \"우리 회사는 새로운 마케팅 전략을 도입하려고 한다. 이를 통해 고객과의 소통이 더 효과적이 될 것이다.\",\n",
    "        \"answer\": \"본 회사는 새로운 마케팅 전략을 도입함으로써, 고객과의 소통을 보다 효과적으로 개선할 수 있을 것으로 기대된다.\",\n",
    "    },\n",
    "]"
   ]
  },
  {
   "cell_type": "code",
   "execution_count": 4,
   "metadata": {},
   "outputs": [],
   "source": [
    "from langchain_core.prompts.few_shot import FewShotChatMessagePromptTemplate\n",
    "from langchain_core.prompts import ChatPromptTemplate\n",
    "from langchain_core.example_selectors import (\n",
    "    MaxMarginalRelevanceExampleSelector,\n",
    "    SemanticSimilarityExampleSelector\n",
    ")\n",
    "from langchain_openai import OpenAIEmbeddings\n",
    "from langchain_chroma import Chroma\n",
    "\n",
    "example_prompt = ChatPromptTemplate.from_messages(\n",
    "    [\n",
    "        (\"human\", \"{instruction}:\\n{input}\"),\n",
    "        (\"ai\", \"{answer}\")\n",
    "    ]\n",
    ")\n",
    "\n",
    "example_selector = SemanticSimilarityExampleSelector.from_examples(\n",
    "    examples=examples,\n",
    "    embeddings=OpenAIEmbeddings(),\n",
    "    vectorstore_cls=Chroma,\n",
    "    k=1\n",
    ")\n",
    "\n",
    "few_shot_prompt = FewShotChatMessagePromptTemplate(\n",
    "    example_selector=example_selector,\n",
    "    example_prompt=example_prompt,\n",
    ")"
   ]
  },
  {
   "cell_type": "code",
   "execution_count": 6,
   "metadata": {},
   "outputs": [],
   "source": [
    "question = {\n",
    "    \"instruction\": \"회의록을 작성해 주세요\",\n",
    "    \"input\": \"2023년 12월 26일, ABC 기술 회사의 제품 개발 팀은 새로운 모바일 애플리케이션 프로젝트에 대한 주간 진행 상황 회의를 가졌다. 이 회의에는 프로젝트 매니저인 최현수, 주요 개발자인 황지연, UI/UX 디자이너인 김태영이 참석했다. 회의의 주요 목적은 프로젝트의 현재 진행 상황을 검토하고, 다가오는 마일스톤에 대한 계획을 수립하는 것이었다. 각 팀원은 자신의 작업 영역에 대한 업데이트를 제공했고, 팀은 다음 주까지의 목표를 설정했다.\",\n",
    "}"
   ]
  },
  {
   "cell_type": "code",
   "execution_count": 7,
   "metadata": {},
   "outputs": [
    {
     "data": {
      "text/plain": [
       "[{'answer': '\\n            회의록: XYZ 회사 마케팅 전략 회의\\n            일시: 2023년 12월 25일\\n            장소: XYZ 회사 회의실\\n            참석자: 김수진 (마케팅 팀장), 박지민 (디지털 마케팅 담당자), 이준호 (소셜 미디어 관리자)\\n\\n            1. 개회\\n            - 회의는 김수진 팀장의 개회사로 시작됨.\\n            - 회의의 목적은 2024년 상반기 마케팅 전략 수립 및 새로운 소셜 미디어 캠페인 아이디어 논의.\\n\\n            2. 시장 동향 개요 (김수진)\\n            - 김수진 팀장은 최근 시장 동향에 대한 분석을 제시.\\n            - 소비자 행동 변화와 경쟁사 전략에 대한 통찰 공유.\\n\\n            3. 디지털 마케팅 전략 (박지민)\\n            - 박지민은 디지털 마케팅 전략에 대해 발표.\\n            - 온라인 광고와 SEO 최적화 방안에 중점을 둠.\\n\\n            4. 소셜 미디어 캠페인 (이준호)\\n            - 이준호는 새로운 소셜 미디어 캠페인에 대한 아이디어를 제안.\\n            - 인플루언서 마케팅과 콘텐츠 전략에 대한 계획을 설명함.\\n\\n            5. 종합 논의\\n            - 팀원들 간의 아이디어 공유 및 토론.\\n            - 각 전략에 대한 예산 및 자원 배분에 대해 논의.\\n\\n            6. 마무리\\n            - 다음 회의 날짜 및 시간 확정.\\n            - 회의록 정리 및 배포는 박지민 담당.\\n        ',\n",
       "  'input': '\\n            2023년 12월 25일, XYZ 회사의 마케팅 전략 회의가 오후 3시에 시작되었다. \\n            \\n            회의에는 마케팅 팀장인 김수진, 디지털 마케팅 담당자인 박지민, 소셜 미디어 관리자인 이준호가 참석했다. \\n            \\n            회의의 주요 목적은 2024년 상반기 마케팅 전략을 수립하고, 새로운 소셜 미디어 캠페인에 대한 아이디어를 논의하는 것이었다. \\n            \\n            팀장인 김수진은 최근 시장 동향에 대한 간략한 개요를 제공했으며, 이어서 각 팀원이 자신의 분야에서의 전략적 아이디어를 발표했다.\\n        ',\n",
       "  'instruction': '당신은 회의록 작성 전문가 입니다. 주어진 정보를 바탕으로 회의록을 작성해 주세요'}]"
      ]
     },
     "execution_count": 7,
     "metadata": {},
     "output_type": "execute_result"
    }
   ],
   "source": [
    "example_selector.select_examples(question)"
   ]
  },
  {
   "cell_type": "code",
   "execution_count": 8,
   "metadata": {},
   "outputs": [],
   "source": [
    "final_prompt = ChatPromptTemplate.from_messages(\n",
    "    [\n",
    "        (\n",
    "            \"system\",\n",
    "            \"You are a helpful assistant.\",\n",
    "        ),\n",
    "        few_shot_prompt,\n",
    "        (\n",
    "            \"human\", \n",
    "            \"{instruction}\\n{input}\"\n",
    "        ),\n",
    "    ]\n",
    ")"
   ]
  },
  {
   "cell_type": "code",
   "execution_count": 9,
   "metadata": {},
   "outputs": [
    {
     "name": "stdout",
     "output_type": "stream",
     "text": [
      "회의록: ABC 기술 회사 제품 개발 팀 주간 진행 상황 회의  \n",
      "일시: 2023년 12월 26일  \n",
      "장소: ABC 기술 회사 회의실  \n",
      "참석자: 최현수 (프로젝트 매니저), 황지연 (주요 개발자), 김태영 (UI/UX 디자이너)  \n",
      "\n",
      "1. 개회\n",
      "- 회의는 최현수 프로젝트 매니저의 주재로 시작됨.\n",
      "- 회의의 목적은 프로젝트의 현재 진행 상황을 검토하고 다가오는 마일스톤에 대한 계획을 수립하는 것임.\n",
      "\n",
      "2. 진행 상황 업데이트\n",
      "- **최현수 (프로젝트 매니저)**: 프로젝트 전반에 대한 진행 상황을 개괄적으로 설명. 현재까지의 성과와 해결해야 할 문제점들을 공유.\n",
      "  \n",
      "- **황지연 (주요 개발자)**: 개발 진행 상황에 대한 업데이트 제공. 주요 기능 구현 상태와 기술적 도전 과제에 대해 설명. 버그 수정 및 코드 최적화 작업에 대한 진행 상황 보고.\n",
      "\n",
      "- **김태영 (UI/UX 디자이너)**: 디자인 진행 상황 및 사용자 피드백 반영 현황을 공유. 새로운 UI/UX 시안에 대한 팀의 의견을 수렴하고, 디자인 개선 사항 논의.\n",
      "\n",
      "3. 다가오는 마일스톤 계획\n",
      "- 각 팀원은 다음 주까지 달성해야 할 목표를 설정.\n",
      "- **최현수**: 프로젝트 일정 조정 및 리소스 배분 계획 수립.\n",
      "- **황지연**: 다음 주까지 완료할 기능 목록과 예상되는 기술적 문제 해결 방안 제시.\n",
      "- **김태영**: 사용자 테스트 계획 및 피드백 수집 일정 조정.\n",
      "\n",
      "4. 종합 논의\n",
      "- 팀원들 간의 협업 방안 및 지원 필요 사항 논의.\n",
      "- 프로젝트의 성공적인 진행을 위한 추가적인 자원 필요 여부 검토.\n",
      "\n",
      "5. 마무리\n",
      "- 다음 회의 날짜 및 시간 확정.\n",
      "- 회의록 정리 및 배포는 최현수 담당."
     ]
    }
   ],
   "source": [
    "from langchain_openai import ChatOpenAI\n",
    "\n",
    "llm = ChatOpenAI(\n",
    "    model=\"gpt-4o\",\n",
    "    temperature=0\n",
    ")\n",
    "\n",
    "chain = final_prompt | llm\n",
    "\n",
    "# 실행 및 결과 출력\n",
    "answer = chain.stream(question)\n",
    "for chunk in answer:\n",
    "    print(chunk.content, end=\"\", flush=True)"
   ]
  },
  {
   "cell_type": "markdown",
   "metadata": {},
   "source": []
  }
 ],
 "metadata": {
  "kernelspec": {
   "display_name": "llm",
   "language": "python",
   "name": "python3"
  },
  "language_info": {
   "codemirror_mode": {
    "name": "ipython",
    "version": 3
   },
   "file_extension": ".py",
   "mimetype": "text/x-python",
   "name": "python",
   "nbconvert_exporter": "python",
   "pygments_lexer": "ipython3",
   "version": "3.11.11"
  }
 },
 "nbformat": 4,
 "nbformat_minor": 2
}
