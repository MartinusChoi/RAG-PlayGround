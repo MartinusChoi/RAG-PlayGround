{
 "cells": [
  {
   "cell_type": "markdown",
   "metadata": {},
   "source": [
    "# CustomExampleSelector"
   ]
  },
  {
   "cell_type": "markdown",
   "metadata": {},
   "source": [
    "## 1. Set API Keys"
   ]
  },
  {
   "cell_type": "code",
   "execution_count": 1,
   "metadata": {},
   "outputs": [
    {
     "data": {
      "text/plain": [
       "True"
      ]
     },
     "execution_count": 1,
     "metadata": {},
     "output_type": "execute_result"
    }
   ],
   "source": [
    "from dotenv import load_dotenv\n",
    "\n",
    "load_dotenv()"
   ]
  },
  {
   "cell_type": "markdown",
   "metadata": {},
   "source": [
    "## 2. CustomExampleSelector"
   ]
  },
  {
   "cell_type": "markdown",
   "metadata": {},
   "source": [
    "현재까지는 유사도 계산시 instruction과 input을 사용하고 있다고 가정해보자.\n",
    "- 이떄, insturction만 사용해 검색하면 제대로된 유사도 결과가 나오지 않을 수 있음 \n",
    "- 즉, instruction만 제대로 지정하고 input을 잘못 지정한 경우 예제 선택기에서 올바른 검색이 되지 않을 수 있음\n",
    "\n",
    "> 커스텀 유사도 계산을 위한 클래스 정의가 필요\n",
    ">> `from langchain_core.example_selectors.base import BaseExampleSelector` 상속"
   ]
  },
  {
   "cell_type": "code",
   "execution_count": null,
   "metadata": {},
   "outputs": [],
   "source": [
    "from langchain_core.example_selectors.base import BaseExampleSelector\n",
    "import numpy as np\n",
    "\n",
    "class CustomExampleSelector(BaseExampleSelector):\n",
    "    def __init__(self, examples, embedding_model, search_key=\"instruction\"):\n",
    "        \"\"\"\n",
    "        Example Selector 객체를 초기화 합니다.\n",
    "\n",
    "        Args:\n",
    "            examples (list): 예제 데이터 목록\n",
    "            embedding_model (object): 임베딩 벡터를 게산할 모델 객체\n",
    "            search_key (str) : 예제에서 입력 값과 비교할 대상의 키\n",
    "        \"\"\"\n",
    "        self.examples = examples\n",
    "        self.embedding_model = embedding_model\n",
    "        self.search_key = search_key\n",
    "\n",
    "        # Calculate all embedding-vectors for examples\n",
    "        self.example_embeddings = [\n",
    "            (example, self.embedding_model.embed_query(example[self.search_key]))\n",
    "            for example in self.examples\n",
    "        ]\n",
    "    \n",
    "    def calc_cosine_similarity(self, vector_1, vector_2):\n",
    "        \"\"\"Calculate Cosine Similarity for two embedding-vectors\"\"\"\n",
    "        return np.dot(vector_1, vector_2) / (np.linalg.norm(vector_1) * np.linalg.norm(vector_2))\n",
    "    \n",
    "    def add_example(self, example):\n",
    "        self.examples.append(example)\n",
    "        self."
   ]
  },
  {
   "cell_type": "markdown",
   "metadata": {},
   "source": []
  }
 ],
 "metadata": {
  "kernelspec": {
   "display_name": "llm",
   "language": "python",
   "name": "python3"
  },
  "language_info": {
   "codemirror_mode": {
    "name": "ipython",
    "version": 3
   },
   "file_extension": ".py",
   "mimetype": "text/x-python",
   "name": "python",
   "nbconvert_exporter": "python",
   "pygments_lexer": "ipython3",
   "version": "3.11.11"
  }
 },
 "nbformat": 4,
 "nbformat_minor": 2
}
