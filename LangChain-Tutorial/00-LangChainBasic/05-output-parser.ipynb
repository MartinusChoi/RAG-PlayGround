{
 "cells": [
  {
   "cell_type": "markdown",
   "metadata": {},
   "source": [
    "# Chain에 Output Parser 연결하기"
   ]
  },
  {
   "cell_type": "markdown",
   "metadata": {},
   "source": [
    "## 1. Set API Keys"
   ]
  },
  {
   "cell_type": "code",
   "execution_count": 1,
   "metadata": {},
   "outputs": [
    {
     "data": {
      "text/plain": [
       "True"
      ]
     },
     "execution_count": 1,
     "metadata": {},
     "output_type": "execute_result"
    }
   ],
   "source": [
    "from dotenv import load_dotenv\n",
    "\n",
    "load_dotenv()"
   ]
  },
  {
   "cell_type": "markdown",
   "metadata": {},
   "source": [
    "## 2. Output Parser\n",
    "\n",
    "LCEL로 연결한 체인에서 모델이 생성한 답변은 AIMessage 객체이며, 실제 답변은 이 객체의 `content` 내부에 들어있음.\n",
    "- Output Parser의 역할은 이 AIMessage 객체로 반환된 답변에서 content에 들어있는 실제 답변만 추출해줌."
   ]
  },
  {
   "cell_type": "code",
   "execution_count": 3,
   "metadata": {},
   "outputs": [],
   "source": [
    "from langchain_core.prompts import PromptTemplate\n",
    "from langchain_openai import ChatOpenAI\n",
    "from langchain_core.output_parsers import StrOutputParser\n",
    "\n",
    "template = \"{topic}에 대해 {how} 설명하주세요.\"\n",
    "\n",
    "prompt_template = PromptTemplate.from_template(template)\n",
    "\n",
    "llm = ChatOpenAI(\n",
    "    model=\"gpt-4o-mini\",\n",
    "    temperature=0.1\n",
    ")\n",
    "\n",
    "output_parser = StrOutputParser()\n",
    "\n",
    "\n",
    "chain = prompt_template | llm | output_parser"
   ]
  },
  {
   "cell_type": "code",
   "execution_count": 4,
   "metadata": {},
   "outputs": [
    {
     "name": "stdout",
     "output_type": "stream",
     "text": [
      "인공지능(AI) 모델의 학습 원리는 주로 머신러닝(Machine Learning)과 딥러닝(Deep Learning)이라는 두 가지 주요 분야로 나눌 수 있습니다. 이 두 분야는 데이터에서 패턴을 학습하고 예측을 수행하는 데 중점을 두고 있습니다. 아래에서 이들 원리를 자세히 설명하겠습니다.\n",
      "\n",
      "### 1. 머신러닝의 기본 원리\n",
      "\n",
      "머신러닝은 데이터에서 학습하여 특정 작업을 수행하는 알고리즘을 개발하는 분야입니다. 머신러닝의 학습 과정은 일반적으로 다음과 같은 단계로 이루어집니다.\n",
      "\n",
      "#### a. 데이터 수집\n",
      "모델을 학습시키기 위해서는 먼저 데이터를 수집해야 합니다. 이 데이터는 모델이 학습할 수 있는 입력(features)과 출력(target)으로 구성됩니다.\n",
      "\n",
      "#### b. 데이터 전처리\n",
      "수집된 데이터는 종종 노이즈가 있거나 불완전합니다. 따라서 데이터 전처리 과정이 필요합니다. 이 과정에는 결측값 처리, 정규화, 범주형 변수 인코딩 등이 포함됩니다.\n",
      "\n",
      "#### c. 모델 선택\n",
      "문제에 적합한 머신러닝 알고리즘을 선택합니다. 예를 들어, 회귀 문제에는 선형 회귀, 분류 문제에는 로지스틱 회귀, 결정 트리, 서포트 벡터 머신(SVM) 등을 사용할 수 있습니다.\n",
      "\n",
      "#### d. 학습\n",
      "선택한 모델을 사용하여 데이터를 학습합니다. 이 과정에서 모델은 입력 데이터와 해당하는 출력 데이터를 기반으로 패턴을 찾아내고, 이를 통해 예측을 수행할 수 있는 능력을 갖추게 됩니다.\n",
      "\n",
      "#### e. 평가\n",
      "학습된 모델의 성능을 평가하기 위해 테스트 데이터를 사용합니다. 일반적으로 정확도, 정밀도, 재현율, F1-score 등의 지표를 사용하여 모델의 성능을 측정합니다.\n",
      "\n",
      "#### f. 하이퍼파라미터 튜닝\n",
      "모델의 성능을 개선하기 위해 하이퍼파라미터를 조정합니다. 하이퍼파라미터는 모델의 구조나 학습 과정에 영향을 미치는 매개변수로, 예를 들어 학습률, 트리의 깊이 등이 있습니다.\n",
      "\n",
      "### 2. 딥러닝의 기본 원리\n",
      "\n",
      "딥러닝은 머신러닝의 한 분야로, 인공신경망(Artificial Neural Networks)을 기반으로 합니다. 딥러닝의 학습 원리는 다음과 같습니다.\n",
      "\n",
      "#### a. 인공신경망 구조\n",
      "딥러닝 모델은 여러 층(layer)으로 구성된 인공신경망으로 이루어져 있습니다. 각 층은 노드(node)로 구성되며, 노드 간의 연결은 가중치(weight)로 표현됩니다. 입력층, 은닉층(hidden layer), 출력층으로 구성됩니다.\n",
      "\n",
      "#### b. 순전파(Forward Propagation)\n",
      "입력 데이터가 모델에 들어오면, 각 층을 거치면서 가중치와 활성화 함수(activation function)를 통해 변환됩니다. 이 과정을 통해 최종 출력이 생성됩니다.\n",
      "\n",
      "#### c. 손실 함수(Loss Function)\n",
      "모델의 예측 결과와 실제 값 간의 차이를 측정하기 위해 손실 함수를 사용합니다. 손실 함수는 모델의 성능을 평가하는 기준이 됩니다.\n",
      "\n",
      "#### d. 역전파(Backpropagation)\n",
      "모델의 예측이 실제 값과 얼마나 다른지를 기반으로 가중치를 조정하는 과정입니다. 손실 함수의 기울기를 계산하여 가중치를 업데이트합니다. 이 과정은 경량화된 경로를 통해 이루어지며, 일반적으로 경사 하강법(Gradient Descent) 알고리즘을 사용합니다.\n",
      "\n",
      "#### e. 반복 학습\n",
      "순전파와 역전파 과정을 여러 번 반복하여 모델이 점점 더 정확한 예측을 할 수 있도록 학습합니다. 이 과정을 에포크(epoch)라고 하며, 각 에포크마다 모델의 가중치가 업데이트됩니다.\n",
      "\n",
      "### 3. 결론\n",
      "\n",
      "인공지능 모델의 학습 원리는 데이터에서 패턴을 찾아내고 이를 기반으로 예측을 수행하는 과정입니다. 머신러닝과 딥러닝은 각각의 방법론을 통해 이러한 학습을 수행하며, 데이터의 특성과 문제의 유형에 따라 적절한 방법을 선택하여 적용합니다. 이러한 과정은 AI의 다양한 응용 분야에서 중요한 역할을 하고 있습니다.\n"
     ]
    }
   ],
   "source": [
    "input = {\n",
    "    \"topic\" : \"인공지능 모델의 학습 원리\",\n",
    "    \"how\" : \"자세하게\"\n",
    "}\n",
    "\n",
    "print(chain.invoke(input))"
   ]
  },
  {
   "cell_type": "markdown",
   "metadata": {},
   "source": []
  }
 ],
 "metadata": {
  "kernelspec": {
   "display_name": "llm",
   "language": "python",
   "name": "python3"
  },
  "language_info": {
   "codemirror_mode": {
    "name": "ipython",
    "version": 3
   },
   "file_extension": ".py",
   "mimetype": "text/x-python",
   "name": "python",
   "nbconvert_exporter": "python",
   "pygments_lexer": "ipython3",
   "version": "3.11.11"
  }
 },
 "nbformat": 4,
 "nbformat_minor": 2
}
