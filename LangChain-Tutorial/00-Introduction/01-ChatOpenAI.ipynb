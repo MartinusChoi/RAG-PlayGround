{
 "cells": [
  {
   "cell_type": "markdown",
   "metadata": {},
   "source": [
    "# OpenAI의 ChatGPT 모델 LangChain에서 사용해보기\n",
    "\n",
    "---"
   ]
  },
  {
   "cell_type": "markdown",
   "metadata": {},
   "source": [
    "## 1. Set API Keys"
   ]
  },
  {
   "cell_type": "code",
   "execution_count": 1,
   "metadata": {},
   "outputs": [
    {
     "data": {
      "text/plain": [
       "True"
      ]
     },
     "execution_count": 1,
     "metadata": {},
     "output_type": "execute_result"
    }
   ],
   "source": [
    "from dotenv import load_dotenv\n",
    "\n",
    "load_dotenv()"
   ]
  },
  {
   "cell_type": "markdown",
   "metadata": {},
   "source": [
    "## 2. `ChatOpenAI`\n",
    "\n",
    "- requirements\n",
    "    ```\n",
    "    pip install langchain langchain-openai\n",
    "    ```\n",
    "- langchain-openai : OpenAI와 LangChain이 협력하여 ChatGPT를 LangChain에서 쓰기 쉽도록 만든 패키지"
   ]
  },
  {
   "cell_type": "code",
   "execution_count": 2,
   "metadata": {},
   "outputs": [
    {
     "name": "stdout",
     "output_type": "stream",
     "text": [
      "Answer : \n",
      "content='대한민국의 수도는 서울입니다.' additional_kwargs={'refusal': None} response_metadata={'token_usage': {'completion_tokens': 9, 'prompt_tokens': 16, 'total_tokens': 25, 'completion_tokens_details': {'accepted_prediction_tokens': 0, 'audio_tokens': 0, 'reasoning_tokens': 0, 'rejected_prediction_tokens': 0}, 'prompt_tokens_details': {'audio_tokens': 0, 'cached_tokens': 0}}, 'model_name': 'gpt-4o-mini-2024-07-18', 'system_fingerprint': 'fp_7fcd609668', 'finish_reason': 'stop', 'logprobs': None} id='run-0815e4a4-805a-4c88-9c43-c005dc5d6452-0' usage_metadata={'input_tokens': 16, 'output_tokens': 9, 'total_tokens': 25, 'input_token_details': {'audio': 0, 'cache_read': 0}, 'output_token_details': {'audio': 0, 'reasoning': 0}}\n"
     ]
    }
   ],
   "source": [
    "from langchain_openai import ChatOpenAI\n",
    "\n",
    "llm = ChatOpenAI(\n",
    "    model_name = \"gpt-4o-mini\",      # 사용할 모델명\n",
    "    temperature=0.1,                 # 창의성 (0.0 ~ 2.0)\n",
    "    max_tokens=1000                  # 생성할 최대 토큰 수\n",
    ")\n",
    "\n",
    "question = \"대한민국의 수도는 어디입니까?\"\n",
    "\n",
    "print(f\"Answer : \\n{llm.invoke(question)}\")"
   ]
  },
  {
   "cell_type": "markdown",
   "metadata": {},
   "source": [
    "### 2-1. 답변의 형식 살펴보기"
   ]
  },
  {
   "cell_type": "code",
   "execution_count": 3,
   "metadata": {},
   "outputs": [
    {
     "data": {
      "text/plain": [
       "AIMessage(content='대한민국의 수도는 서울입니다.', additional_kwargs={'refusal': None}, response_metadata={'token_usage': {'completion_tokens': 9, 'prompt_tokens': 16, 'total_tokens': 25, 'completion_tokens_details': {'accepted_prediction_tokens': 0, 'audio_tokens': 0, 'reasoning_tokens': 0, 'rejected_prediction_tokens': 0}, 'prompt_tokens_details': {'audio_tokens': 0, 'cached_tokens': 0}}, 'model_name': 'gpt-4o-mini-2024-07-18', 'system_fingerprint': 'fp_709714d124', 'finish_reason': 'stop', 'logprobs': None}, id='run-5749bd3b-d7c0-4b1a-a833-10c93345ff7d-0', usage_metadata={'input_tokens': 16, 'output_tokens': 9, 'total_tokens': 25, 'input_token_details': {'audio': 0, 'cache_read': 0}, 'output_token_details': {'audio': 0, 'reasoning': 0}})"
      ]
     },
     "execution_count": 3,
     "metadata": {},
     "output_type": "execute_result"
    }
   ],
   "source": [
    "question = \"대한민국의 수도는 어디입니까?\"\n",
    "\n",
    "response = llm.invoke(question)\n",
    "\n",
    "response # AIMessage 라는 객체! 즉, ChatOpenAI로 생성한 LLM 클라이언트의 응답은 AIMessage 객체로 반환된다."
   ]
  },
  {
   "cell_type": "code",
   "execution_count": 4,
   "metadata": {},
   "outputs": [
    {
     "name": "stdout",
     "output_type": "stream",
     "text": [
      "Key : content\n",
      "Value : 대한민국의 수도는 서울입니다.\n",
      "\n",
      "Key : additional_kwargs\n",
      "Value : {'refusal': None}\n",
      "\n",
      "Key : response_metadata\n",
      "Value : {'token_usage': {'completion_tokens': 9, 'prompt_tokens': 16, 'total_tokens': 25, 'completion_tokens_details': {'accepted_prediction_tokens': 0, 'audio_tokens': 0, 'reasoning_tokens': 0, 'rejected_prediction_tokens': 0}, 'prompt_tokens_details': {'audio_tokens': 0, 'cached_tokens': 0}}, 'model_name': 'gpt-4o-mini-2024-07-18', 'system_fingerprint': 'fp_709714d124', 'finish_reason': 'stop', 'logprobs': None}\n",
      "\n",
      "Key : type\n",
      "Value : ai\n",
      "\n",
      "Key : name\n",
      "Value : None\n",
      "\n",
      "Key : id\n",
      "Value : run-5749bd3b-d7c0-4b1a-a833-10c93345ff7d-0\n",
      "\n",
      "Key : example\n",
      "Value : False\n",
      "\n",
      "Key : tool_calls\n",
      "Value : []\n",
      "\n",
      "Key : invalid_tool_calls\n",
      "Value : []\n",
      "\n",
      "Key : usage_metadata\n",
      "Value : {'input_tokens': 16, 'output_tokens': 9, 'total_tokens': 25, 'input_token_details': {'audio': 0, 'cache_read': 0}, 'output_token_details': {'audio': 0, 'reasoning': 0}}\n",
      "\n"
     ]
    }
   ],
   "source": [
    "for key, val in dict(response).items():\n",
    "    print(f\"Key : {key}\")\n",
    "    print(f\"Value : {val}\")\n",
    "    print()"
   ]
  },
  {
   "cell_type": "code",
   "execution_count": 5,
   "metadata": {},
   "outputs": [
    {
     "name": "stdout",
     "output_type": "stream",
     "text": [
      "Key : token_usage\n",
      "Value : {'completion_tokens': 9, 'prompt_tokens': 16, 'total_tokens': 25, 'completion_tokens_details': {'accepted_prediction_tokens': 0, 'audio_tokens': 0, 'reasoning_tokens': 0, 'rejected_prediction_tokens': 0}, 'prompt_tokens_details': {'audio_tokens': 0, 'cached_tokens': 0}}\n",
      "\n",
      "Key : model_name\n",
      "Value : gpt-4o-mini-2024-07-18\n",
      "\n",
      "Key : system_fingerprint\n",
      "Value : fp_709714d124\n",
      "\n",
      "Key : finish_reason\n",
      "Value : stop\n",
      "\n",
      "Key : logprobs\n",
      "Value : None\n",
      "\n"
     ]
    }
   ],
   "source": [
    "for key, val in response.response_metadata.items():\n",
    "    print(f\"Key : {key}\")\n",
    "    print(f\"Value : {val}\")\n",
    "    print()"
   ]
  },
  {
   "cell_type": "code",
   "execution_count": 6,
   "metadata": {},
   "outputs": [
    {
     "name": "stdout",
     "output_type": "stream",
     "text": [
      "Key : completion_tokens\n",
      "Value : 9\n",
      "\n",
      "Key : prompt_tokens\n",
      "Value : 16\n",
      "\n",
      "Key : total_tokens\n",
      "Value : 25\n",
      "\n",
      "Key : completion_tokens_details\n",
      "Value : {'accepted_prediction_tokens': 0, 'audio_tokens': 0, 'reasoning_tokens': 0, 'rejected_prediction_tokens': 0}\n",
      "\n",
      "Key : prompt_tokens_details\n",
      "Value : {'audio_tokens': 0, 'cached_tokens': 0}\n",
      "\n"
     ]
    }
   ],
   "source": [
    "for key, val in response.response_metadata[\"token_usage\"].items():\n",
    "    print(f\"Key : {key}\")\n",
    "    print(f\"Value : {val}\")\n",
    "    print()"
   ]
  },
  {
   "cell_type": "markdown",
   "metadata": {},
   "source": [
    "### 2-2. LogProb 활성화 하기\n",
    "\n",
    "LLM 모델은 문장을 생성할 때, 특정 토큰 다음에 어떤 토큰이 올 지 확률적으로 계산하여 가장 가능성 높은 토큰을 선택하는 방식으로 문장 생성.\n",
    "\n",
    "이때 GPT까 생성한 문장의 각 토큰이 어느정도 확률값을 가지고 생성되었는 지 확인하고 싶다면 `lobgprobs` 옵션을 활성화하면 됨. (0에 가까울 수록 높은 확률)"
   ]
  },
  {
   "cell_type": "code",
   "execution_count": 7,
   "metadata": {},
   "outputs": [],
   "source": [
    "llm_with_logprob = ChatOpenAI(\n",
    "    model_name=\"gpt-4o-mini\",\n",
    "    temperature=0.1\n",
    ").bind(logprobs=True)"
   ]
  },
  {
   "cell_type": "code",
   "execution_count": 8,
   "metadata": {},
   "outputs": [],
   "source": [
    "question = \"대한민국의 수도는 어디입니까?\"\n",
    "\n",
    "response = llm_with_logprob.invoke(question)"
   ]
  },
  {
   "cell_type": "code",
   "execution_count": 9,
   "metadata": {},
   "outputs": [
    {
     "name": "stdout",
     "output_type": "stream",
     "text": [
      "key : token\n",
      "value : 대한\n",
      "--------------------------------------------------\n",
      "key : bytes\n",
      "value : [235, 140, 128, 237, 149, 156]\n",
      "--------------------------------------------------\n",
      "key : logprob\n",
      "value : -2.9160103e-05\n",
      "--------------------------------------------------\n",
      "key : top_logprobs\n",
      "value : []\n",
      "--------------------------------------------------\n",
      "\n",
      "key : token\n",
      "value : 민국\n",
      "--------------------------------------------------\n",
      "key : bytes\n",
      "value : [235, 175, 188, 234, 181, 173]\n",
      "--------------------------------------------------\n",
      "key : logprob\n",
      "value : -1.147242e-06\n",
      "--------------------------------------------------\n",
      "key : top_logprobs\n",
      "value : []\n",
      "--------------------------------------------------\n",
      "\n",
      "key : token\n",
      "value : 의\n",
      "--------------------------------------------------\n",
      "key : bytes\n",
      "value : [236, 157, 152]\n",
      "--------------------------------------------------\n",
      "key : logprob\n",
      "value : -2.4749568e-05\n",
      "--------------------------------------------------\n",
      "key : top_logprobs\n",
      "value : []\n",
      "--------------------------------------------------\n",
      "\n",
      "key : token\n",
      "value :  수도\n",
      "--------------------------------------------------\n",
      "key : bytes\n",
      "value : [32, 236, 136, 152, 235, 143, 132]\n",
      "--------------------------------------------------\n",
      "key : logprob\n",
      "value : -0.00010640408\n",
      "--------------------------------------------------\n",
      "key : top_logprobs\n",
      "value : []\n",
      "--------------------------------------------------\n",
      "\n",
      "key : token\n",
      "value : 는\n",
      "--------------------------------------------------\n",
      "key : bytes\n",
      "value : [235, 138, 148]\n",
      "--------------------------------------------------\n",
      "key : logprob\n",
      "value : -4.8471098e-05\n",
      "--------------------------------------------------\n",
      "key : top_logprobs\n",
      "value : []\n",
      "--------------------------------------------------\n",
      "\n",
      "key : token\n",
      "value :  서울\n",
      "--------------------------------------------------\n",
      "key : bytes\n",
      "value : [32, 236, 132, 156, 236, 154, 184]\n",
      "--------------------------------------------------\n",
      "key : logprob\n",
      "value : -0.00014180024\n",
      "--------------------------------------------------\n",
      "key : top_logprobs\n",
      "value : []\n",
      "--------------------------------------------------\n",
      "\n",
      "key : token\n",
      "value : 입니다\n",
      "--------------------------------------------------\n",
      "key : bytes\n",
      "value : [236, 158, 133, 235, 139, 136, 235, 139, 164]\n",
      "--------------------------------------------------\n",
      "key : logprob\n",
      "value : -0.0029759184\n",
      "--------------------------------------------------\n",
      "key : top_logprobs\n",
      "value : []\n",
      "--------------------------------------------------\n",
      "\n",
      "key : token\n",
      "value : .\n",
      "--------------------------------------------------\n",
      "key : bytes\n",
      "value : [46]\n",
      "--------------------------------------------------\n",
      "key : logprob\n",
      "value : -1.9361265e-07\n",
      "--------------------------------------------------\n",
      "key : top_logprobs\n",
      "value : []\n",
      "--------------------------------------------------\n",
      "\n"
     ]
    }
   ],
   "source": [
    "for prob_dict in response.response_metadata[\"logprobs\"][\"content\"]:\n",
    "    for key, val in prob_dict.items():\n",
    "        print(f\"key : {key}\")\n",
    "        print(f\"value : {val}\")\n",
    "        print(\"-\"*50)\n",
    "    print()"
   ]
  },
  {
   "cell_type": "markdown",
   "metadata": {},
   "source": [
    "### 2-3. LLM의 답변을 Streaming으로 출력해보기"
   ]
  },
  {
   "cell_type": "code",
   "execution_count": 10,
   "metadata": {},
   "outputs": [],
   "source": [
    "llm = ChatOpenAI(\n",
    "    model_name = \"gpt-4o-mini\",      # 사용할 모델명\n",
    "    temperature=0.1,                 # 창의성 (0.0 ~ 2.0)\n",
    ")"
   ]
  },
  {
   "cell_type": "code",
   "execution_count": 11,
   "metadata": {},
   "outputs": [],
   "source": [
    "answer = llm.stream(\"대한민국에서 방문할 만한 관광지 10을 추려서 정리해주세요\")"
   ]
  },
  {
   "cell_type": "code",
   "execution_count": 12,
   "metadata": {},
   "outputs": [
    {
     "data": {
      "text/plain": [
       "<generator object BaseChatModel.stream at 0x000001BE2058EA70>"
      ]
     },
     "execution_count": 12,
     "metadata": {},
     "output_type": "execute_result"
    }
   ],
   "source": [
    "answer"
   ]
  },
  {
   "cell_type": "code",
   "execution_count": 13,
   "metadata": {},
   "outputs": [
    {
     "name": "stdout",
     "output_type": "stream",
     "text": [
      "대한민국에는 다양한 매력을 가진 관광지가 많습니다. 아래는 방문할 만한 관광지 10곳을 정리한 목록입니다.\n",
      "\n",
      "1. **경복궁 (Seoul)**  \n",
      "   - 조선 왕조의 주요 궁궐로, 아름다운 건축물과 정원이 인상적입니다. 국립민속박물관과 국립고궁박물관도 인근에 있어 함께 방문하기 좋습니다.\n",
      "\n",
      "2. **부산 해운대 (Busan)**  \n",
      "   - 아름다운 해변과 다양한 해양 레저 활동이 가능한 곳으로, 여름철에 특히 많은 관광객이 찾습니다. 해운대 시장과 동백섬도 인기 있는 명소입니다.\n",
      "\n",
      "3. **제주도 (Jeju Island)**  \n",
      "   - 자연 경관이 뛰어난 섬으로, 한라산, 성산일출봉, 만장굴 등 다양한 관광지가 있습니다. 또한, 제주 특산물과 음식도 즐길 수 있습니다.\n",
      "\n",
      "4. **경주 (Gyeongju)**  \n",
      "   - 신라의 수도로, 불국사, 석굴암, 경주 역사유적지구 등 유네스코 세계문화유산이 많습니다. 역사와 문화를 체험할 수 있는 곳입니다.\n",
      "\n",
      "5. **남이섬 (Nami Island)**  \n",
      "   - 아름다운 자연경관과 다양한 문화행사가 열리는 섬으로, 특히 가을철 단풍이 아름답습니다. 자전거 타기와 산책하기 좋은 장소입니다.\n",
      "\n",
      "6. **서울 남산타워 (Namsan Tower)**  \n",
      "   - 서울의 랜드마크 중 하나로, 전망대에서 서울 전경을 감상할 수 있습니다. 케이블카를 타고 올라가는 재미도 있습니다.\n",
      "\n",
      "7. **전주 한옥마을 (Jeonju Hanok Village)**  \n",
      "   - 전통 한옥이 잘 보존된 마을로, 한국 전통 음식인 비빔밥과 다양한 전통 체험을 할 수 있습니다. 문화와 역사를 느낄 수 있는 곳입니다.\n",
      "\n",
      "8. **속초 (Sokcho)**  \n",
      "   - 설악산 국립공원과 가까워 자연을 즐기기에 좋은 곳입니다. 속초 해변과 아바이 마을도 유명합니다.\n",
      "\n",
      "9. **인사동 (Insadong, Seoul)**  \n",
      "   - 전통과 현대가 어우러진 거리로, 한국의 전통 공예품과 예술작품을 구경하고 구매할 수 있습니다. 다양한 찻집과 음식점도 많습니다.\n",
      "\n",
      "10. **DMZ (Demilitarized Zone)**  \n",
      "    - 남북한의 경계선으로, 역사적인 의미가 깊은 장소입니다. 투어를 통해 북한과의 경계를 직접 보고 배울 수 있는 기회를 제공합니다.\n",
      "\n",
      "이 외에도 대한민국에는 많은 매력적인 관광지가 있으니, 방문 계획에 따라 다양한 장소를 탐방해 보시기 바랍니다!"
     ]
    }
   ],
   "source": [
    "for token in answer: # 조각난 토큰들을 이어서 출력만 하는 역할! 나중에 활용할 수 없음\n",
    "    print(token.content, end=\"\", flush=True)"
   ]
  },
  {
   "cell_type": "code",
   "execution_count": 14,
   "metadata": {},
   "outputs": [
    {
     "name": "stdout",
     "output_type": "stream",
     "text": [
      "대한민국에는 다양한 매력을 가진 관광지가 많습니다. 아래는 방문할 만한 관광지 10곳을 정리해 보았습니다.\n",
      "\n",
      "1. **경복궁 (Seoul)**  \n",
      "   - 조선 왕조의 대표적인 궁궐로, 아름다운 건축물과 정원이 인상적입니다. 국립민속박물관과 국립고궁박물관도 인근에 위치해 있습니다.\n",
      "\n",
      "2. **부산 해운대 (Busan)**  \n",
      "   - 아름다운 해변과 다양한 해양 스포츠, 맛있는 해산물 요리를 즐길 수 있는 인기 관광지입니다. 해운대 마린시티의 야경도 매력적입니다.\n",
      "\n",
      "3. **제주도 (Jeju Island)**  \n",
      "   - 자연경관이 뛰어난 섬으로, 한라산, 성산일출봉, 만장굴 등 다양한 명소가 있습니다. 또한, 제주 특산물과 음식도 즐길 수 있습니다.\n",
      "\n",
      "4. **경주 (Gyeongju)**  \n",
      "   - 신라의 고도로, 불국사와 석굴암, 경주 역사유적지구 등 유네스코 세계문화유산이 많습니다. 역사와 문화를 느낄 수 있는 곳입니다.\n",
      "\n",
      "5. **남이섬 (Nami Island)**  \n",
      "   - 아름다운 자연경관과 다양한 문화행사가 열리는 섬으로, 특히 가을철 단풍이 아름답습니다. 자전거 타기와 산책하기 좋은 장소입니다.\n",
      "\n",
      "6. **서울 남산타워 (Namsan Tower)**  \n",
      "   - 서울의 랜드마크 중 하나로, 전망대에서 서울 시내를 한눈에 볼 수 있습니다. 특히 야경이 아름다워 많은 관광객이 찾습니다.\n",
      "\n",
      "7. **전주 한옥마을 (Jeonju Hanok Village)**  \n",
      "   - 전통 한옥이 잘 보존된 마을로, 한국 전통 음식인 비빔밥과 다양한 전통 체험을 할 수 있습니다. 문화재와 예쁜 카페도 많습니다.\n",
      "\n",
      "8. **속초 (Sokcho)**  \n",
      "   - 설악산 국립공원과 가까워 등산과 자연을 즐기기에 좋은 곳입니다. 속초 해변과 아바이 마을의 맛있는 음식도 유명합니다.\n",
      "\n",
      "9. **인천 차이나타운 (Incheon Chinatown)**  \n",
      "   - 한국에서 가장 큰 차이나타운으로, 다양한 중국 음식과 문화 체험을 할 수 있습니다. 인천 송도와 가까워 함께 방문하기 좋습니다.\n",
      "\n",
      "10. **DMZ (Demilitarized Zone)**  \n",
      "    - 남북한의 경계선인 비무장지대(DMZ)는 역사적 의미가 깊은 장소로, 투어를 통해 남북한의 역사와 현재를 이해할 수 있습니다.\n",
      "\n",
      "이 외에도 대한민국에는 매력적인 관광지가 많이 있으니, 여행 계획에 참고하시기 바랍니다!"
     ]
    }
   ],
   "source": [
    "answer = llm.stream(\"대한민국에서 방문할 만한 관광지 10을 추려서 정리해주세요\")\n",
    "\n",
    "complete_answer = \"\"\n",
    "for token in answer: # 조각난 토큰들을 이어서 출력만 하는 역할! 나중에 활용할 수 없음, 한번 출력하면 다시 처음부터 스트리밍 할 수 도 없음음\n",
    "    print(token.content, end=\"\", flush=True)\n",
    "    complete_answer += token.content"
   ]
  },
  {
   "cell_type": "code",
   "execution_count": 15,
   "metadata": {},
   "outputs": [
    {
     "name": "stdout",
     "output_type": "stream",
     "text": [
      "대한민국에는 다양한 매력을 가진 관광지가 많습니다. 아래는 방문할 만한 관광지 10곳을 정리해 보았습니다.\n",
      "\n",
      "1. **경복궁 (Seoul)**  \n",
      "   - 조선 왕조의 대표적인 궁궐로, 아름다운 건축물과 정원이 인상적입니다. 국립민속박물관과 국립고궁박물관도 인근에 위치해 있습니다.\n",
      "\n",
      "2. **부산 해운대 (Busan)**  \n",
      "   - 아름다운 해변과 다양한 해양 스포츠, 맛있는 해산물 요리를 즐길 수 있는 인기 관광지입니다. 해운대 마린시티의 야경도 매력적입니다.\n",
      "\n",
      "3. **제주도 (Jeju Island)**  \n",
      "   - 자연경관이 뛰어난 섬으로, 한라산, 성산일출봉, 만장굴 등 다양한 명소가 있습니다. 또한, 제주 특산물과 음식도 즐길 수 있습니다.\n",
      "\n",
      "4. **경주 (Gyeongju)**  \n",
      "   - 신라의 고도로, 불국사와 석굴암, 경주 역사유적지구 등 유네스코 세계문화유산이 많습니다. 역사와 문화를 느낄 수 있는 곳입니다.\n",
      "\n",
      "5. **남이섬 (Nami Island)**  \n",
      "   - 아름다운 자연경관과 다양한 문화행사가 열리는 섬으로, 특히 가을철 단풍이 아름답습니다. 자전거 타기와 산책하기 좋은 장소입니다.\n",
      "\n",
      "6. **서울 남산타워 (Namsan Tower)**  \n",
      "   - 서울의 랜드마크 중 하나로, 전망대에서 서울 시내를 한눈에 볼 수 있습니다. 특히 야경이 아름다워 많은 관광객이 찾습니다.\n",
      "\n",
      "7. **전주 한옥마을 (Jeonju Hanok Village)**  \n",
      "   - 전통 한옥이 잘 보존된 마을로, 한국 전통 음식인 비빔밥과 다양한 전통 체험을 할 수 있습니다. 문화재와 예쁜 카페도 많습니다.\n",
      "\n",
      "8. **속초 (Sokcho)**  \n",
      "   - 설악산 국립공원과 가까워 등산과 자연을 즐기기에 좋은 곳입니다. 속초 해변과 아바이 마을의 맛있는 음식도 유명합니다.\n",
      "\n",
      "9. **인천 차이나타운 (Incheon Chinatown)**  \n",
      "   - 한국에서 가장 큰 차이나타운으로, 다양한 중국 음식과 문화 체험을 할 수 있습니다. 인천 송도와 가까워 함께 방문하기 좋습니다.\n",
      "\n",
      "10. **DMZ (Demilitarized Zone)**  \n",
      "    - 남북한의 경계선인 비무장지대(DMZ)는 역사적 의미가 깊은 장소로, 투어를 통해 남북한의 역사와 현재를 이해할 수 있습니다.\n",
      "\n",
      "이 외에도 대한민국에는 매력적인 관광지가 많이 있으니, 여행 계획에 참고하시기 바랍니다!\n"
     ]
    }
   ],
   "source": [
    "print(complete_answer)"
   ]
  }
 ],
 "metadata": {
  "kernelspec": {
   "display_name": "llm",
   "language": "python",
   "name": "python3"
  },
  "language_info": {
   "codemirror_mode": {
    "name": "ipython",
    "version": 3
   },
   "file_extension": ".py",
   "mimetype": "text/x-python",
   "name": "python",
   "nbconvert_exporter": "python",
   "pygments_lexer": "ipython3",
   "version": "3.11.11"
  }
 },
 "nbformat": 4,
 "nbformat_minor": 2
}
