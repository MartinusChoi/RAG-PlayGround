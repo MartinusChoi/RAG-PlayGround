{
 "cells": [
  {
   "cell_type": "markdown",
   "metadata": {},
   "source": [
    "# RunableParallel : 병렬성\n",
    "\n",
    "> LCEL가 병렬 요청을 지원하는 방법에 대해 정리함.\n",
    "\n",
    "`langchain_core.runnables` 모듈의 `RunnableRarallel` 클래스를 활용해 두 가지 작업을 병렬로 처리하는 예시 학습"
   ]
  },
  {
   "cell_type": "markdown",
   "metadata": {},
   "source": []
  }
 ],
 "metadata": {
  "language_info": {
   "name": "python"
  }
 },
 "nbformat": 4,
 "nbformat_minor": 2
}
