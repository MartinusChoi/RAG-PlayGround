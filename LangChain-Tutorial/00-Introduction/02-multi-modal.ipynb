{
 "cells": [
  {
   "cell_type": "markdown",
   "metadata": {},
   "source": [
    "# Multi-Modal-model (gpt-4o) 사용하기 (이미지 인식)\n",
    "\n",
    "Multi-Modal 이란?\n",
    "- 여러 형태의 정보를 통합하여 처리하는 기술을 의미\n",
    "- 다음과 같은 데이터 유형을 포함할 수 있음\n",
    "    - 텍스트 : 문서, 책 등\n",
    "    - 이미지 : 사진, 그림 등\n",
    "    - 오디오 : 음성, 음악, 소리 효과 등\n",
    "    - 비디오 : 동영상, 실시간 스트리밍 등\n",
    "- `gpt-4o` 는 이미지 인식 (vison) 기능이 추가된 모델임"
   ]
  },
  {
   "cell_type": "markdown",
   "metadata": {},
   "source": [
    "## 1. Set API Keys"
   ]
  },
  {
   "cell_type": "code",
   "execution_count": 1,
   "metadata": {},
   "outputs": [
    {
     "data": {
      "text/plain": [
       "True"
      ]
     },
     "execution_count": 1,
     "metadata": {},
     "output_type": "execute_result"
    }
   ],
   "source": [
    "from dotenv import load_dotenv\n",
    "\n",
    "load_dotenv()"
   ]
  },
  {
   "cell_type": "markdown",
   "metadata": {},
   "source": [
    "## 2. Multi-Modal Model 사용해보기\n",
    "\n",
    "- `gpt-4o`\n",
    "    - 이미지를 생성하는 기능은 아직 없지만, 이미지를 인식할 수 는 있음"
   ]
  },
  {
   "cell_type": "code",
   "execution_count": null,
   "metadata": {},
   "outputs": [],
   "source": [
    "from langchain_openai import ChatOpenAI\n",
    "\n"
   ]
  },
  {
   "cell_type": "markdown",
   "metadata": {},
   "source": []
  }
 ],
 "metadata": {
  "kernelspec": {
   "display_name": "llm",
   "language": "python",
   "name": "python3"
  },
  "language_info": {
   "codemirror_mode": {
    "name": "ipython",
    "version": 3
   },
   "file_extension": ".py",
   "mimetype": "text/x-python",
   "name": "python",
   "nbconvert_exporter": "python",
   "pygments_lexer": "ipython3",
   "version": "3.11.11"
  }
 },
 "nbformat": 4,
 "nbformat_minor": 2
}
