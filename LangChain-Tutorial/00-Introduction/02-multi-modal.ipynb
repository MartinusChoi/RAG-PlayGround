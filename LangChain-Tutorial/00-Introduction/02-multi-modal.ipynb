{
 "cells": [
  {
   "cell_type": "markdown",
   "metadata": {},
   "source": [
    "# Multi-Modal-model (gpt-4o) 사용하기 (이미지 인식)\n",
    "\n",
    "Multi-Modal 이란?\n",
    "- 여러 형태의 정보를 통합하여 처리하는 기술을 의미\n",
    "- 다음과 같은 데이터 유형을 포함할 수 있음\n",
    "    - 텍스트 : 문서, 책 등\n",
    "    - 이미지 : 사진, 그림 등\n",
    "    - 오디오 : 음성, 음악, 소리 효과 등\n",
    "    - 비디오 : 동영상, 실시간 스트리밍 등\n",
    "- `gpt-4o` 는 이미지 인식 (vison) 기능이 추가된 모델임"
   ]
  },
  {
   "cell_type": "markdown",
   "metadata": {},
   "source": [
    "## 1. Set API Keys"
   ]
  },
  {
   "cell_type": "code",
   "execution_count": 1,
   "metadata": {},
   "outputs": [
    {
     "data": {
      "text/plain": [
       "True"
      ]
     },
     "execution_count": 1,
     "metadata": {},
     "output_type": "execute_result"
    }
   ],
   "source": [
    "from dotenv import load_dotenv\n",
    "\n",
    "load_dotenv()"
   ]
  },
  {
   "cell_type": "markdown",
   "metadata": {},
   "source": [
    "## 2. Multi-Modal Model 사용해보기\n",
    "\n",
    "- `gpt-4o`\n",
    "    - 이미지를 생성하는 기능은 아직 없지만, 이미지를 인식할 수 는 있음"
   ]
  },
  {
   "cell_type": "code",
   "execution_count": 13,
   "metadata": {},
   "outputs": [],
   "source": [
    "from langchain_openai import ChatOpenAI\n",
    "\n",
    "llm = ChatOpenAI(\n",
    "    model_name=\"gpt-4o\",\n",
    "    temperature=0.1\n",
    ")"
   ]
  },
  {
   "cell_type": "code",
   "execution_count": 14,
   "metadata": {},
   "outputs": [],
   "source": [
    "# 이미지를 요청으로 보낼 수 있도록 base64 형태로 인코딩\n",
    "import base64\n",
    "\n",
    "def encode_img_to_base64(file_path):\n",
    "    with open(file_path, \"rb\") as image_file:\n",
    "        file_content = image_file.read()\n",
    "\n",
    "        return f\"data:image/png;base64,{base64.b64encode(file_content).decode('utf-8')}\"\n",
    "\n",
    "\n",
    "file_path = \"./images/financial_img.png\"\n",
    "\n",
    "encoded_image = encode_img_to_base64(file_path)"
   ]
  },
  {
   "cell_type": "code",
   "execution_count": 17,
   "metadata": {},
   "outputs": [],
   "source": [
    "# system prompt 설정\n",
    "system_prompt = \"\"\"\n",
    "    당신은 뛰어난 재무 분석가 입니다.\n",
    "\n",
    "    당신의 임무는 주어진 테이블 형태의 재무제표 이미지를 바탕으로 다양한 시각에서 분석하여 사용자에게 제공하는 것입니다.\n",
    "\"\"\"\n",
    "\n",
    "# user prompt 설정\n",
    "user_prompt = \"\"\"\n",
    "    이 것은 회사의 재무제표 입니다. 이를 다양한 관점에서 분석해주세요.\n",
    "\"\"\"\n",
    "\n",
    "system_message = {\"role\" : \"system\", \"content\" : system_prompt}\n",
    "user_message = {\n",
    "    \"role\" : \"user\",\n",
    "    \"content\" : [\n",
    "        {\n",
    "            \"type\" : \"text\",\n",
    "            \"text\" : user_prompt\n",
    "        },\n",
    "        {\n",
    "            \"type\" : \"image_url\",\n",
    "            \"image_url\" : {\"url\" : f\"{encoded_image}\"}\n",
    "        }\n",
    "    ]\n",
    "}\n",
    "\n",
    "# llm에게 요청할 메시지 설정\n",
    "messages = [system_message, user_message]"
   ]
  },
  {
   "cell_type": "code",
   "execution_count": 18,
   "metadata": {},
   "outputs": [],
   "source": [
    "# 멀티모달 응답 생성\n",
    "response = llm.invoke(messages)"
   ]
  },
  {
   "cell_type": "code",
   "execution_count": 19,
   "metadata": {},
   "outputs": [
    {
     "name": "stdout",
     "output_type": "stream",
     "text": [
      "이 재무제표는 특정 회사의 자산 상태를 보여주고 있습니다. 각 회계연도(제 17기, 제 18기, 제 19기)의 자산 항목을 분석해보겠습니다.\n",
      "\n",
      "### 유동자산\n",
      "- **현금 및 현금성 자산**: 제 19기에 감소했습니다. 이는 회사의 유동성에 영향을 미칠 수 있습니다.\n",
      "- **매출채권**: 제 18기에서 제 19기로 오면서 감소했습니다. 이는 매출 회수 속도가 빨라졌거나 매출이 감소했을 가능성을 시사합니다.\n",
      "- **기타수취채권**: 제 19기에 증가했습니다. 이는 단기 채권의 증가를 의미합니다.\n",
      "\n",
      "### 비유동자산\n",
      "- **기타유동자산**: 제 19기에 증가했습니다. 이는 단기 투자나 기타 자산의 증가를 나타낼 수 있습니다.\n",
      "- **재고자산**: 제 19기에 증가했습니다. 이는 생산 증가나 판매 감소를 의미할 수 있습니다.\n",
      "- **비유동자산 총계**: 제 19기에 증가했습니다. 이는 장기 투자나 자산의 증가를 나타냅니다.\n",
      "\n",
      "### 종합 분석\n",
      "- **유동자산의 감소**: 이는 회사의 단기 유동성에 부정적인 영향을 미칠 수 있습니다.\n",
      "- **비유동자산의 증가**: 장기적인 성장 가능성을 나타낼 수 있지만, 유동성 문제를 해결할 필요가 있습니다.\n",
      "- **전반적인 자산 증가**: 회사의 총 자산은 증가하고 있으며, 이는 성장 가능성을 시사합니다.\n",
      "\n",
      "이러한 분석을 통해 회사의 재무 상태를 더 깊이 이해하고, 필요한 경우 추가적인 재무 전략을 고려할 수 있습니다.\n"
     ]
    }
   ],
   "source": [
    "print(response.content)"
   ]
  }
 ],
 "metadata": {
  "kernelspec": {
   "display_name": "llm",
   "language": "python",
   "name": "python3"
  },
  "language_info": {
   "codemirror_mode": {
    "name": "ipython",
    "version": 3
   },
   "file_extension": ".py",
   "mimetype": "text/x-python",
   "name": "python",
   "nbconvert_exporter": "python",
   "pygments_lexer": "ipython3",
   "version": "3.11.11"
  }
 },
 "nbformat": 4,
 "nbformat_minor": 2
}
