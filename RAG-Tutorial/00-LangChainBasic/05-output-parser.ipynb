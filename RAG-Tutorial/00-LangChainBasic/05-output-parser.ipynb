{
 "cells": [
  {
   "cell_type": "markdown",
   "metadata": {},
   "source": [
    "# Chain에 Output Parser 연결하기"
   ]
  },
  {
   "cell_type": "markdown",
   "metadata": {},
   "source": [
    "## 1. Set API Keys"
   ]
  },
  {
   "cell_type": "code",
   "execution_count": 1,
   "metadata": {},
   "outputs": [
    {
     "data": {
      "text/plain": [
       "True"
      ]
     },
     "execution_count": 1,
     "metadata": {},
     "output_type": "execute_result"
    }
   ],
   "source": [
    "from dotenv import load_dotenv\n",
    "\n",
    "load_dotenv()"
   ]
  },
  {
   "cell_type": "markdown",
   "metadata": {},
   "source": [
    "## 2. Output Parser\n",
    "\n",
    "LCEL로 연결한 체인에서 모델이 생성한 답변은 AIMessage 객체이며, 실제 답변은 이 객체의 `content` 내부에 들어있음.\n",
    "- Output Parser의 역할은 이 AIMessage 객체로 반환된 답변에서 content에 들어있는 실제 답변만 추출해줌."
   ]
  },
  {
   "cell_type": "code",
   "execution_count": 2,
   "metadata": {},
   "outputs": [],
   "source": [
    "from langchain_core.prompts import PromptTemplate\n",
    "from langchain_openai import ChatOpenAI\n",
    "from langchain_core.output_parsers import StrOutputParser\n",
    "\n",
    "template = \"{topic}에 대해 {how} 설명하주세요.\"\n",
    "\n",
    "prompt_template = PromptTemplate.from_template(template)\n",
    "\n",
    "llm = ChatOpenAI(\n",
    "    model=\"gpt-4o-mini\",\n",
    "    temperature=0.1\n",
    ")\n",
    "\n",
    "output_parser = StrOutputParser()\n",
    "\n",
    "\n",
    "chain = prompt_template | llm | output_parser"
   ]
  },
  {
   "cell_type": "code",
   "execution_count": 3,
   "metadata": {},
   "outputs": [
    {
     "name": "stdout",
     "output_type": "stream",
     "text": [
      "인공지능(AI) 모델의 학습 원리는 주로 기계 학습(Machine Learning)과 딥러닝(Deep Learning)이라는 두 가지 주요 분야로 나눌 수 있습니다. 이 두 분야는 데이터에서 패턴을 학습하고 예측을 수행하는 데 중점을 두고 있습니다. 아래에서 이들 원리를 자세히 설명하겠습니다.\n",
      "\n",
      "### 1. 기계 학습(Machine Learning)\n",
      "\n",
      "기계 학습은 데이터에서 학습하여 예측이나 결정을 내리는 알고리즘을 개발하는 분야입니다. 기계 학습의 기본 원리는 다음과 같습니다.\n",
      "\n",
      "#### a. 데이터 수집\n",
      "모델을 학습시키기 위해서는 먼저 데이터를 수집해야 합니다. 이 데이터는 모델이 학습할 수 있는 입력(features)과 출력(target)으로 구성됩니다.\n",
      "\n",
      "#### b. 데이터 전처리\n",
      "수집된 데이터는 종종 노이즈가 있거나 불완전할 수 있습니다. 따라서 데이터 전처리 과정이 필요합니다. 이 과정에는 결측치 처리, 정규화, 표준화, 범주형 데이터 인코딩 등이 포함됩니다.\n",
      "\n",
      "#### c. 모델 선택\n",
      "문제의 특성에 맞는 알고리즘을 선택합니다. 기계 학습 알고리즘에는 선형 회귀, 의사결정 트리, 서포트 벡터 머신(SVM), 랜덤 포레스트, K-최근접 이웃(KNN) 등이 있습니다.\n",
      "\n",
      "#### d. 학습\n",
      "선택한 모델에 데이터를 입력하여 학습을 진행합니다. 이 과정에서 모델은 입력 데이터와 출력 데이터 간의 관계를 학습합니다. 일반적으로 손실 함수(loss function)를 정의하고, 이를 최소화하는 방향으로 모델의 파라미터를 조정합니다.\n",
      "\n",
      "#### e. 검증 및 테스트\n",
      "모델의 성능을 평가하기 위해 데이터를 훈련 세트(training set)와 검증 세트(validation set)로 나누어 사용합니다. 검증 세트를 통해 모델의 일반화 능력을 평가하고, 최종적으로 테스트 세트를 사용하여 모델의 성능을 확인합니다.\n",
      "\n",
      "### 2. 딥러닝(Deep Learning)\n",
      "\n",
      "딥러닝은 인공 신경망(Artificial Neural Networks)을 기반으로 한 기계 학습의 한 분야로, 특히 대량의 데이터와 복잡한 패턴 인식에 강점을 가지고 있습니다.\n",
      "\n",
      "#### a. 인공 신경망\n",
      "딥러닝 모델은 여러 층의 뉴런으로 구성된 인공 신경망을 사용합니다. 각 뉴런은 입력을 받아 가중치(weight)와 편향(bias)을 적용한 후 활성화 함수(activation function)를 통해 출력을 생성합니다.\n",
      "\n",
      "#### b. 학습 과정\n",
      "딥러닝 모델의 학습 과정은 다음과 같습니다:\n",
      "- **순전파(Forward Propagation)**: 입력 데이터를 네트워크에 통과시켜 출력을 계산합니다.\n",
      "- **손실 계산**: 예측된 출력과 실제 출력 간의 차이를 계산하여 손실 함수를 구합니다.\n",
      "- **역전파(Backpropagation)**: 손실을 최소화하기 위해 가중치와 편향을 업데이트합니다. 이 과정에서 경사 하강법(Gradient Descent)과 같은 최적화 알고리즘을 사용합니다.\n",
      "\n",
      "#### c. 하이퍼파라미터 조정\n",
      "딥러닝 모델의 성능을 최적화하기 위해 학습률(learning rate), 배치 크기(batch size), 에포크 수(epoch) 등과 같은 하이퍼파라미터를 조정합니다.\n",
      "\n",
      "#### d. 정규화 기법\n",
      "과적합(overfitting)을 방지하기 위해 드롭아웃(Dropout), 배치 정규화(Batch Normalization) 등의 정규화 기법을 사용합니다.\n",
      "\n",
      "### 3. 결론\n",
      "\n",
      "인공지능 모델의 학습 원리는 데이터에서 패턴을 인식하고 이를 기반으로 예측을 수행하는 과정입니다. 기계 학습과 딥러닝은 각각의 특성과 장점을 가지고 있으며, 다양한 응용 분야에서 활용되고 있습니다. 이러한 학습 원리를 이해하는 것은 AI 모델을 효과적으로 개발하고 최적화하는 데 중요한 기초가 됩니다.\n"
     ]
    }
   ],
   "source": [
    "input = {\n",
    "    \"topic\" : \"인공지능 모델의 학습 원리\",\n",
    "    \"how\" : \"자세하게\"\n",
    "}\n",
    "\n",
    "print(chain.invoke(input))"
   ]
  }
 ],
 "metadata": {
  "kernelspec": {
   "display_name": "llm",
   "language": "python",
   "name": "python3"
  },
  "language_info": {
   "codemirror_mode": {
    "name": "ipython",
    "version": 3
   },
   "file_extension": ".py",
   "mimetype": "text/x-python",
   "name": "python",
   "nbconvert_exporter": "python",
   "pygments_lexer": "ipython3",
   "version": "3.11.13"
  }
 },
 "nbformat": 4,
 "nbformat_minor": 2
}
