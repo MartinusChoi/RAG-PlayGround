{
 "cells": [
  {
   "cell_type": "markdown",
   "metadata": {},
   "source": [
    "# LCEL을 활용해 Chain 생성하기"
   ]
  },
  {
   "cell_type": "markdown",
   "metadata": {},
   "source": [
    "## 1. Set API Keys"
   ]
  },
  {
   "cell_type": "code",
   "execution_count": 1,
   "metadata": {},
   "outputs": [
    {
     "data": {
      "text/plain": [
       "True"
      ]
     },
     "execution_count": 1,
     "metadata": {},
     "output_type": "execute_result"
    }
   ],
   "source": [
    "from dotenv import load_dotenv\n",
    "\n",
    "load_dotenv()"
   ]
  },
  {
   "cell_type": "markdown",
   "metadata": {},
   "source": [
    "## 2. LCEL (LangChain Expression Language)\n",
    "\n",
    "LCEL은 LangChain Expression Language의 줄임말로, LangChain의 다양한 구성요소를 연결하여 하나의 파이프라인(Chain)으로 만들기 위한 연산자\n",
    "- `|` 연산자를 LCEL이라고 함\n",
    "- `|`는 unix의 파이프 연산자와 유사하며, 서로 다른 구성 요소를 연결하고 한 구성 요소의 결과물을 다음 구성요소의 입력값으로 전달하도록 설정함.\n",
    "- `chain = prompt | llm` 과 같이 사용되며\n",
    "    - 여기서는 완성된 프롬프트가 llm 으로 전달되는 형태로 chian이 구성됨\n",
    "    - 앞에서 부터 순차적으로 체인이 구성됨"
   ]
  },
  {
   "cell_type": "code",
   "execution_count": 7,
   "metadata": {},
   "outputs": [],
   "source": [
    "from langchain_core.prompts import PromptTemplate\n",
    "from langchain_openai import ChatOpenAI\n",
    "\n",
    "template = \"{topic}에 대해 {how} 설명하주세요.\"\n",
    "\n",
    "prompt_template = PromptTemplate.from_template(template)\n",
    "\n",
    "llm = ChatOpenAI(\n",
    "    model=\"gpt-4o-mini\",\n",
    "    temperature=0.1\n",
    ")\n",
    "\n",
    "\n",
    "chain = prompt_template | llm"
   ]
  },
  {
   "cell_type": "markdown",
   "metadata": {},
   "source": [
    "### 2-1. `invoke()` 호출\n",
    "\n",
    "- chain도 `invoke()` 메서드를 지원함\n",
    "- python 딕셔너리 형태로 입력값을 전달"
   ]
  },
  {
   "cell_type": "code",
   "execution_count": 8,
   "metadata": {},
   "outputs": [
    {
     "name": "stdout",
     "output_type": "stream",
     "text": [
      "LangChain의 LECL(LLM-Enhanced Chain Learning)은 자연어 처리(NLP)와 머신러닝의 통합을 통해 언어 모델(LLM)을 활용하여 다양한 작업을 수행하는 방법론입니다. LECL은 주로 다음과 같은 요소로 구성됩니다:\n",
      "\n",
      "1. **언어 모델의 활용**: LECL은 대규모 언어 모델을 사용하여 텍스트 데이터를 이해하고 생성하는 데 중점을 둡니다. 이러한 모델은 자연어 이해(NLU)와 자연어 생성(NLG) 작업에서 뛰어난 성능을 발휘합니다.\n",
      "\n",
      "2. **체인 구조**: LECL은 여러 단계의 처리를 체인 형태로 구성하여 복잡한 작업을 수행합니다. 각 단계는 특정 작업을 수행하며, 이전 단계의 출력을 다음 단계의 입력으로 사용합니다. 이를 통해 복잡한 프로세스를 간소화하고 효율적으로 처리할 수 있습니다.\n",
      "\n",
      "3. **강화 학습**: LECL은 강화 학습 기법을 적용하여 모델의 성능을 지속적으로 개선합니다. 모델은 환경과 상호작용하며, 보상을 통해 최적의 행동을 학습합니다. 이를 통해 모델은 점점 더 나은 결과를 생성할 수 있습니다.\n",
      "\n",
      "4. **응용 분야**: LECL은 다양한 NLP 작업에 적용될 수 있습니다. 예를 들어, 질문 응답 시스템, 대화형 AI, 텍스트 요약, 감정 분석 등 여러 분야에서 활용될 수 있습니다.\n",
      "\n",
      "5. **모듈화**: LECL은 모듈화된 구조를 가지고 있어, 필요에 따라 특정 모듈을 추가하거나 수정하여 다양한 요구사항에 맞출 수 있습니다. 이는 개발자와 연구자들이 자신만의 솔루션을 쉽게 구축할 수 있도록 돕습니다.\n",
      "\n",
      "LECL은 이러한 요소들을 통해 언어 모델의 강력한 기능을 활용하여 복잡한 문제를 해결하고, 다양한 응용 프로그램에서 효과적으로 사용할 수 있는 방법론입니다. LangChain의 LECL은 특히 대화형 AI와 같은 분야에서 그 가능성을 보여주고 있습니다.\n"
     ]
    }
   ],
   "source": [
    "response = chain.invoke({\"topic\" : \"LangChain의 LECL\", \"how\" : \"자세히\"})\n",
    "print(response.content)"
   ]
  },
  {
   "cell_type": "code",
   "execution_count": 9,
   "metadata": {},
   "outputs": [
    {
     "name": "stdout",
     "output_type": "stream",
     "text": [
      "LECL, which stands for \"LangChain's Enhanced Chain Language,\" is a framework designed to facilitate the development of applications that utilize language models. It provides a structured way to create complex workflows by chaining together various components, such as prompts, tools, and data sources, to achieve specific tasks.\n",
      "\n",
      "Key features of LECL include:\n",
      "\n",
      "1. **Modularity**: LECL allows developers to build applications in a modular fashion, enabling them to easily swap out components or add new ones without significant rework.\n",
      "\n",
      "2. **Flexibility**: The framework supports a wide range of use cases, from simple question-answering systems to more complex applications that require multiple steps and interactions with external APIs or databases.\n",
      "\n",
      "3. **Integration**: LECL is designed to work seamlessly with various language models and tools, making it easier for developers to integrate different technologies into their applications.\n",
      "\n",
      "4. **Ease of Use**: With a focus on user-friendly design, LECL provides clear abstractions and documentation, allowing developers to quickly understand and implement the framework in their projects.\n",
      "\n",
      "Overall, LECL aims to streamline the process of building language model-driven applications, making it accessible for both experienced developers and those new to the field.\n"
     ]
    }
   ],
   "source": [
    "response = chain.invoke({\"topic\" : \"LangChain의 LECL\", \"how\" : \"영어로\"})\n",
    "print(response.content)"
   ]
  }
 ],
 "metadata": {
  "kernelspec": {
   "display_name": "llm",
   "language": "python",
   "name": "python3"
  },
  "language_info": {
   "codemirror_mode": {
    "name": "ipython",
    "version": 3
   },
   "file_extension": ".py",
   "mimetype": "text/x-python",
   "name": "python",
   "nbconvert_exporter": "python",
   "pygments_lexer": "ipython3",
   "version": "3.11.11"
  }
 },
 "nbformat": 4,
 "nbformat_minor": 2
}
