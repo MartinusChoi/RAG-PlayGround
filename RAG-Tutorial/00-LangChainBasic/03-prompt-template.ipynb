{
 "cells": [
  {
   "cell_type": "markdown",
   "metadata": {},
   "source": [
    "# Prompt Template 활용하기"
   ]
  },
  {
   "cell_type": "markdown",
   "metadata": {},
   "source": [
    "## 1. Set API Keys"
   ]
  },
  {
   "cell_type": "code",
   "execution_count": 2,
   "metadata": {},
   "outputs": [
    {
     "data": {
      "text/plain": [
       "True"
      ]
     },
     "execution_count": 2,
     "metadata": {},
     "output_type": "execute_result"
    }
   ],
   "source": [
    "from dotenv import load_dotenv\n",
    "\n",
    "load_dotenv()"
   ]
  },
  {
   "cell_type": "markdown",
   "metadata": {},
   "source": [
    "## 2. Prompt Template\n",
    "\n",
    "prompt란?\n",
    "- LLM에게 전달하는 질문\n",
    "- 왜 \"question\", \"query\" 라고 하지 않고 \"prompt\" 라고 하는가?\n",
    "    - 단순히 질문의 내용만 존재하는 것이 아닌, '지시사항'을 포함하고 있기 때문\n",
    "    - 따라서, 지시사항을 포함해서 LLM 에게 질의하는 텍스트를 프롬프트 라고 한다.\n",
    "\n",
    "prompt template 란?\n",
    "- 프롬프트의 형식을 미리 지정해두고, 사용자의 입력 변수를 사용해 완전한 프롬프트 문자열을 만드는 데 사용되는 템플릿\n",
    "- 사용법\n",
    "    - `template` : 템플릿 문자열, `{}`을 문자열 내에 사용해 변수를 나타냄\n",
    "    - `input_variables` : `{}` 안에 들어갈 변수의 이름을 정의하는 리스트\n",
    "\n",
    "여기서 우리는 템플릿을 그대로 llm 에게 전달해서 invoke 하는 것이 아닌, LCEL 이라는 문법에 따라 연결할 것임"
   ]
  },
  {
   "cell_type": "code",
   "execution_count": 3,
   "metadata": {},
   "outputs": [],
   "source": [
    "from langchain_core.prompts import PromptTemplate"
   ]
  },
  {
   "cell_type": "code",
   "execution_count": 5,
   "metadata": {},
   "outputs": [
    {
     "data": {
      "text/plain": [
       "PromptTemplate(input_variables=['country'], input_types={}, partial_variables={}, template='{country}의 수도를 알려주세요.')"
      ]
     },
     "execution_count": 5,
     "metadata": {},
     "output_type": "execute_result"
    }
   ],
   "source": [
    "# 방안 1: 직접 PromptTemplate 객체 생성하기\n",
    "\n",
    "prompt_template = PromptTemplate(\n",
    "    input_variables=['country'],\n",
    "    template=\"{country}의 수도를 알려주세요.\"\n",
    ")\n",
    "\n",
    "prompt_template"
   ]
  },
  {
   "cell_type": "code",
   "execution_count": 6,
   "metadata": {},
   "outputs": [
    {
     "data": {
      "text/plain": [
       "'대한민국의 수도를 알려주세요.'"
      ]
     },
     "execution_count": 6,
     "metadata": {},
     "output_type": "execute_result"
    }
   ],
   "source": [
    "prompt = prompt_template.format(country=\"대한민국\")\n",
    "prompt"
   ]
  },
  {
   "cell_type": "code",
   "execution_count": 7,
   "metadata": {},
   "outputs": [
    {
     "data": {
      "text/plain": [
       "PromptTemplate(input_variables=['country'], input_types={}, partial_variables={}, template='{country}의 수도를 알려주세요.')"
      ]
     },
     "execution_count": 7,
     "metadata": {},
     "output_type": "execute_result"
    }
   ],
   "source": [
    "# 방안 2: 'from_template' 메서드를 활용해 문자열로 생성하기\n",
    "\n",
    "template = \"{country}의 수도를 알려주세요.\"\n",
    "\n",
    "prompt_template = PromptTemplate.from_template(template) # `from_template` 를 활용해 PromptTemplate 객체 생성\n",
    "prompt_template"
   ]
  },
  {
   "cell_type": "code",
   "execution_count": 8,
   "metadata": {},
   "outputs": [
    {
     "data": {
      "text/plain": [
       "'미국의 수도를 알려주세요.'"
      ]
     },
     "execution_count": 8,
     "metadata": {},
     "output_type": "execute_result"
    }
   ],
   "source": [
    "prompt = prompt_template.format(country=\"미국\")\n",
    "prompt"
   ]
  }
 ],
 "metadata": {
  "kernelspec": {
   "display_name": "llm",
   "language": "python",
   "name": "python3"
  },
  "language_info": {
   "codemirror_mode": {
    "name": "ipython",
    "version": 3
   },
   "file_extension": ".py",
   "mimetype": "text/x-python",
   "name": "python",
   "nbconvert_exporter": "python",
   "pygments_lexer": "ipython3",
   "version": "3.11.13"
  }
 },
 "nbformat": 4,
 "nbformat_minor": 2
}
