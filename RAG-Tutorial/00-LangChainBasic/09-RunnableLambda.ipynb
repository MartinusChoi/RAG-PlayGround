{
 "cells": [
  {
   "cell_type": "markdown",
   "metadata": {},
   "source": [
    "# RunnableLambda : 사용자 정의 함수를 매핑하기"
   ]
  },
  {
   "cell_type": "markdown",
   "metadata": {},
   "source": [
    "## 1. Set API Keys"
   ]
  },
  {
   "cell_type": "code",
   "execution_count": 1,
   "metadata": {},
   "outputs": [
    {
     "data": {
      "text/plain": [
       "True"
      ]
     },
     "execution_count": 1,
     "metadata": {},
     "output_type": "execute_result"
    }
   ],
   "source": [
    "from dotenv import load_dotenv\n",
    "\n",
    "load_dotenv()"
   ]
  },
  {
   "cell_type": "markdown",
   "metadata": {},
   "source": [
    "## 2. RunnableLambda\n",
    "\n",
    "`RunnableLambda`를 활용해서 프롬프트 입력으로 들어가기 전에 사용자 정의 함수를 통해 특정 처리를 마친 값을 넣어줄 수 있다.\n",
    "\n",
    "즉, 사용자 정의함수를 `RunnableLambda`로 Wrapping 하여 입력 전에 특정 처리를 수행할 수 있음\n",
    "\n",
    "> 주의 1 : RunnableLambda로 특정 함수를 Wrapping하면 invoke시 무조건 입력값이 들어가는 구조 > 내부에서 입력값을 사용하지 않아도 더미 변수가 존재해야함\n",
    "\n",
    "> 주의 2 : RunnableLambda로 부터 넘어오는 파라미터는 1개이기 때문에, 파라미터가 2개로 구현된 함수는 RunnableLambda로 감쌀 수 없음"
   ]
  },
  {
   "cell_type": "code",
   "execution_count": 2,
   "metadata": {},
   "outputs": [
    {
     "data": {
      "text/plain": [
       "'Sep-17'"
      ]
     },
     "execution_count": 2,
     "metadata": {},
     "output_type": "execute_result"
    }
   ],
   "source": [
    "from langchain_core.prompts import PromptTemplate\n",
    "from langchain_openai import ChatOpenAI\n",
    "from langchain_core.output_parsers import StrOutputParser\n",
    "from datetime import datetime\n",
    "\n",
    "def get_today(tmp=None): \n",
    "    return datetime.today().strftime(\"%b-%d\")\n",
    "\n",
    "get_today()"
   ]
  },
  {
   "cell_type": "code",
   "execution_count": 3,
   "metadata": {},
   "outputs": [
    {
     "name": "stdout",
     "output_type": "stream",
     "text": [
      "다음은 9월 17일에 태어난 유명인 3명입니다:\n",
      "\n",
      "1. **안소니 제시 (Anthony Jeselnik)** - 1978년 9월 17일\n",
      "2. **해리 리드 (Harry Reid)** - 1939년 9월 17일\n",
      "3. **이안 맥켈런 (Ian McKellen)** - 1939년 9월 17일\n",
      "\n",
      "이 외에도 많은 유명인들이 이 날에 태어났습니다!\n"
     ]
    }
   ],
   "source": [
    "from langchain_core.runnables import RunnableLambda, RunnablePassthrough\n",
    "\n",
    "prompt = PromptTemplate.from_template(\n",
    "    \"{today}가 생일인 유명인 {n}명을 나열해주세요. 생년월일도 함께 표기해주세요.\"\n",
    ")\n",
    "\n",
    "model = ChatOpenAI(\n",
    "    model=\"gpt-4o-mini\",\n",
    "    temperature=0.1\n",
    ")\n",
    "\n",
    "chain = (\n",
    "    {\"today\" : RunnableLambda(get_today), \"n\" : RunnablePassthrough()}\n",
    "    | prompt\n",
    "    | model\n",
    "    | StrOutputParser()\n",
    ")\n",
    "\n",
    "print(chain.invoke(3))"
   ]
  },
  {
   "cell_type": "markdown",
   "metadata": {},
   "source": [
    "Chain의 입력 값을 `3`이 아닌 `{\"n\" : 3} 과 같이 전달한 경우\n",
    "- `\"n\" : RunnablePassthrough()` 이 부분이 `\"n\" : {\"n\" : 3}` 이렇게 처리되어 부정확한 결과를 초래할 수 있음\n",
    "- 이럴 떄 사용하는 것이 `itemgetter()` 임"
   ]
  },
  {
   "cell_type": "code",
   "execution_count": 4,
   "metadata": {},
   "outputs": [
    {
     "name": "stdout",
     "output_type": "stream",
     "text": [
      "다음은 9월 17일에 생일인 유명인 3명입니다:\n",
      "\n",
      "1. **안소니 제시 (Anthony Jeselnik)** - 1978년 9월 17일\n",
      "2. **해리 리드 (Harry Reid)** - 1939년 9월 17일\n",
      "3. **이안 맥켈런 (Ian McKellen)** - 1939년 9월 17일\n",
      "\n",
      "이 외에도 많은 유명인들이 이 날에 태어났습니다!\n"
     ]
    }
   ],
   "source": [
    "from operator import itemgetter\n",
    "\n",
    "prompt = PromptTemplate.from_template(\n",
    "    \"{today}가 생일인 유명인 {n}명을 나열해주세요. 생년월일도 함께 표기해주세요.\"\n",
    ")\n",
    "\n",
    "model = ChatOpenAI(\n",
    "    model=\"gpt-4o-mini\",\n",
    "    temperature=0.1\n",
    ")\n",
    "\n",
    "chain = (\n",
    "    {\"today\" : RunnableLambda(get_today), \"n\" : itemgetter(\"n\")}\n",
    "    | prompt\n",
    "    | model\n",
    "    | StrOutputParser()\n",
    ")\n",
    "\n",
    "print(chain.invoke({\"n\" : 3}))"
   ]
  }
 ],
 "metadata": {
  "kernelspec": {
   "display_name": "llm",
   "language": "python",
   "name": "python3"
  },
  "language_info": {
   "codemirror_mode": {
    "name": "ipython",
    "version": 3
   },
   "file_extension": ".py",
   "mimetype": "text/x-python",
   "name": "python",
   "nbconvert_exporter": "python",
   "pygments_lexer": "ipython3",
   "version": "3.11.13"
  }
 },
 "nbformat": 4,
 "nbformat_minor": 2
}
