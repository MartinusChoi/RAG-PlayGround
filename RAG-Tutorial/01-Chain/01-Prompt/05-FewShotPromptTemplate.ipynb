{
 "cells": [
  {
   "cell_type": "markdown",
   "metadata": {},
   "source": [
    "# FewShotPromptTemplate"
   ]
  },
  {
   "cell_type": "markdown",
   "metadata": {},
   "source": [
    "## 1. Set API Keys"
   ]
  },
  {
   "cell_type": "code",
   "execution_count": 1,
   "metadata": {},
   "outputs": [
    {
     "data": {
      "text/plain": [
       "True"
      ]
     },
     "execution_count": 1,
     "metadata": {},
     "output_type": "execute_result"
    }
   ],
   "source": [
    "from dotenv import load_dotenv\n",
    "\n",
    "load_dotenv()"
   ]
  },
  {
   "cell_type": "markdown",
   "metadata": {},
   "source": [
    "## 2. FewShotTemplate"
   ]
  },
  {
   "cell_type": "markdown",
   "metadata": {},
   "source": [
    "다음과 같은 방식으로 질문한다고 했을 때,\n",
    "- 질문이 복잡해 지거나,\n",
    "- 답변의 형식을 지정하고 싶은 경우\n",
    "\n",
    "올바른 답변을 보장할 수 없음\n",
    "\n",
    "> 이럴 떄, one-shot, few-shot 과 같은 prompting 기술을 사용해야함.\n",
    ">> one-shot? few-shot? : 답변의 예시를 보여주는 것\n",
    "\n",
    "- one-shot : 1 건의 답변 예시만을 보여주는 것\n",
    "- few-shot : 2 건 이상의 여러 답변 예시는 보여주는 것\n",
    "- zero-shot : 답변 예시를 제공하지 않는 것\n",
    "\n",
    "GPT는 답변 예시를 따라하는 것을 잘 수행함, zero-shot의 경우 질문자의 의도를 정확히 파악해 그것에 맞는 답변을 해주기 어려움"
   ]
  },
  {
   "cell_type": "code",
   "execution_count": 2,
   "metadata": {},
   "outputs": [
    {
     "name": "stdout",
     "output_type": "stream",
     "text": [
      "대한민국의 수도는 서울입니다.\n"
     ]
    }
   ],
   "source": [
    "from langchain_openai import ChatOpenAI\n",
    "\n",
    "llm = ChatOpenAI(\n",
    "    model=\"gpt-4o\",\n",
    "    temperature=0\n",
    ")\n",
    "\n",
    "question = \"대한민국의 수도는 ?\"\n",
    "\n",
    "print(llm.invoke(question).content)"
   ]
  },
  {
   "cell_type": "markdown",
   "metadata": {},
   "source": [
    "아래와 같이 LLM이 한번에 답변하기 어려운 내용애 대해\n",
    "- 일련의 논리적인 추론 과정을 보여주고\n",
    "- 이를 토대로 답변할 수 있도록 만들어주는 것이 더 좋은 답변을 기대할 수 있음\n",
    "    - 즉, 답변 예시를 제공하는 것이 \"Hallucination\"을 줄여주며, 더 정확한 답변을 얻는데에도 도움이 됨"
   ]
  },
  {
   "cell_type": "code",
   "execution_count": 5,
   "metadata": {},
   "outputs": [],
   "source": [
    "from langchain_core.prompts.few_shot import FewShotPromptTemplate\n",
    "from langchain_core.prompts import PromptTemplate\n",
    "\n",
    "examples = [\n",
    "    {\n",
    "        \"question\": \"스티브 잡스와 아인슈타인 중 누가 더 오래 살았나요?\",\n",
    "        \"answer\": \"\"\"이 질문에 추가 질문이 필요한가요: 예.\n",
    "            추가 질문: 스티브 잡스는 몇 살에 사망했나요?\n",
    "            중간 답변: 스티브 잡스는 56세에 사망했습니다.\n",
    "            추가 질문: 아인슈타인은 몇 살에 사망했나요?\n",
    "            중간 답변: 아인슈타인은 76세에 사망했습니다.\n",
    "            최종 답변은: 아인슈타인\n",
    "        \"\"\",\n",
    "    },\n",
    "    {\n",
    "        \"question\": \"네이버의 창립자는 언제 태어났나요?\",\n",
    "        \"answer\": \"\"\"이 질문에 추가 질문이 필요한가요: 예.\n",
    "            추가 질문: 네이버의 창립자는 누구인가요?\n",
    "            중간 답변: 네이버는 이해진에 의해 창립되었습니다.\n",
    "            추가 질문: 이해진은 언제 태어났나요?\n",
    "            중간 답변: 이해진은 1967년 6월 22일에 태어났습니다.\n",
    "            최종 답변은: 1967년 6월 22일\n",
    "        \"\"\",\n",
    "    },\n",
    "    {\n",
    "        \"question\": \"율곡 이이의 어머니가 태어난 해의 통치하던 왕은 누구인가요?\",\n",
    "        \"answer\": \"\"\"이 질문에 추가 질문이 필요한가요: 예.\n",
    "            추가 질문: 율곡 이이의 어머니는 누구인가요?\n",
    "            중간 답변: 율곡 이이의 어머니는 신사임당입니다.\n",
    "            추가 질문: 신사임당은 언제 태어났나요?\n",
    "            중간 답변: 신사임당은 1504년에 태어났습니다.\n",
    "            추가 질문: 1504년에 조선을 통치한 왕은 누구인가요?\n",
    "            중간 답변: 1504년에 조선을 통치한 왕은 연산군입니다.\n",
    "            최종 답변은: 연산군\n",
    "        \"\"\",\n",
    "    },\n",
    "    {\n",
    "        \"question\": \"올드보이와 기생충의 감독이 같은 나라 출신인가요?\",\n",
    "        \"answer\": \"\"\"이 질문에 추가 질문이 필요한가요: 예.\n",
    "            추가 질문: 올드보이의 감독은 누구인가요?\n",
    "            중간 답변: 올드보이의 감독은 박찬욱입니다.\n",
    "            추가 질문: 박찬욱은 어느 나라 출신인가요?\n",
    "            중간 답변: 박찬욱은 대한민국 출신입니다.\n",
    "            추가 질문: 기생충의 감독은 누구인가요?\n",
    "            중간 답변: 기생충의 감독은 봉준호입니다.\n",
    "            추가 질문: 봉준호는 어느 나라 출신인가요?\n",
    "            중간 답변: 봉준호는 대한민국 출신입니다.\n",
    "            최종 답변은: 예\n",
    "        \"\"\",\n",
    "    },\n",
    "]"
   ]
  },
  {
   "cell_type": "code",
   "execution_count": 8,
   "metadata": {},
   "outputs": [
    {
     "name": "stdout",
     "output_type": "stream",
     "text": [
      "Question:\n",
      "스티브 잡스와 아인슈타인 중 누가 더 오래 살았나요?\n",
      "Answer:\n",
      "이 질문에 추가 질문이 필요한가요: 예.\n",
      "            추가 질문: 스티브 잡스는 몇 살에 사망했나요?\n",
      "            중간 답변: 스티브 잡스는 56세에 사망했습니다.\n",
      "            추가 질문: 아인슈타인은 몇 살에 사망했나요?\n",
      "            중간 답변: 아인슈타인은 76세에 사망했습니다.\n",
      "            최종 답변은: 아인슈타인\n",
      "        \n",
      "\n"
     ]
    }
   ],
   "source": [
    "example_prompt = PromptTemplate.from_template(\n",
    "    \"Question:\\n{question}\\nAnswer:\\n{answer}\\n\"\n",
    ")\n",
    "\n",
    "print(example_prompt.format(**examples[0]))"
   ]
  },
  {
   "cell_type": "code",
   "execution_count": 9,
   "metadata": {},
   "outputs": [
    {
     "name": "stdout",
     "output_type": "stream",
     "text": [
      "Question:\n",
      "스티브 잡스와 아인슈타인 중 누가 더 오래 살았나요?\n",
      "Answer:\n",
      "이 질문에 추가 질문이 필요한가요: 예.\n",
      "            추가 질문: 스티브 잡스는 몇 살에 사망했나요?\n",
      "            중간 답변: 스티브 잡스는 56세에 사망했습니다.\n",
      "            추가 질문: 아인슈타인은 몇 살에 사망했나요?\n",
      "            중간 답변: 아인슈타인은 76세에 사망했습니다.\n",
      "            최종 답변은: 아인슈타인\n",
      "        \n",
      "\n",
      "\n",
      "Question:\n",
      "네이버의 창립자는 언제 태어났나요?\n",
      "Answer:\n",
      "이 질문에 추가 질문이 필요한가요: 예.\n",
      "            추가 질문: 네이버의 창립자는 누구인가요?\n",
      "            중간 답변: 네이버는 이해진에 의해 창립되었습니다.\n",
      "            추가 질문: 이해진은 언제 태어났나요?\n",
      "            중간 답변: 이해진은 1967년 6월 22일에 태어났습니다.\n",
      "            최종 답변은: 1967년 6월 22일\n",
      "        \n",
      "\n",
      "\n",
      "Question:\n",
      "율곡 이이의 어머니가 태어난 해의 통치하던 왕은 누구인가요?\n",
      "Answer:\n",
      "이 질문에 추가 질문이 필요한가요: 예.\n",
      "            추가 질문: 율곡 이이의 어머니는 누구인가요?\n",
      "            중간 답변: 율곡 이이의 어머니는 신사임당입니다.\n",
      "            추가 질문: 신사임당은 언제 태어났나요?\n",
      "            중간 답변: 신사임당은 1504년에 태어났습니다.\n",
      "            추가 질문: 1504년에 조선을 통치한 왕은 누구인가요?\n",
      "            중간 답변: 1504년에 조선을 통치한 왕은 연산군입니다.\n",
      "            최종 답변은: 연산군\n",
      "        \n",
      "\n",
      "\n",
      "Question:\n",
      "올드보이와 기생충의 감독이 같은 나라 출신인가요?\n",
      "Answer:\n",
      "이 질문에 추가 질문이 필요한가요: 예.\n",
      "            추가 질문: 올드보이의 감독은 누구인가요?\n",
      "            중간 답변: 올드보이의 감독은 박찬욱입니다.\n",
      "            추가 질문: 박찬욱은 어느 나라 출신인가요?\n",
      "            중간 답변: 박찬욱은 대한민국 출신입니다.\n",
      "            추가 질문: 기생충의 감독은 누구인가요?\n",
      "            중간 답변: 기생충의 감독은 봉준호입니다.\n",
      "            추가 질문: 봉준호는 어느 나라 출신인가요?\n",
      "            중간 답변: 봉준호는 대한민국 출신입니다.\n",
      "            최종 답변은: 예\n",
      "        \n",
      "\n",
      "\n",
      "Question:\n",
      "Google이 창립된 연도에 Bill Gates의 나이는 몇 살인가요?\n",
      "Answer:\n"
     ]
    }
   ],
   "source": [
    "prompt = FewShotPromptTemplate(\n",
    "    examples=examples,\n",
    "    example_prompt=example_prompt,\n",
    "    suffix=\"Question:\\n{question}\\nAnswer:\",\n",
    "    input_variables=[\"question\"],\n",
    ")\n",
    "\n",
    "question = \"Google이 창립된 연도에 Bill Gates의 나이는 몇 살인가요?\"\n",
    "final_prompt = prompt.format(question=question)\n",
    "print(final_prompt)"
   ]
  },
  {
   "cell_type": "code",
   "execution_count": 10,
   "metadata": {},
   "outputs": [
    {
     "name": "stdout",
     "output_type": "stream",
     "text": [
      "이 질문에 추가 질문이 필요한가요: 예.\n",
      "            \n",
      "추가 질문: Google은 언제 창립되었나요?\n",
      "중간 답변: Google은 1998년에 창립되었습니다.\n",
      "\n",
      "추가 질문: Bill Gates는 언제 태어났나요?\n",
      "중간 답변: Bill Gates는 1955년 10월 28일에 태어났습니다.\n",
      "\n",
      "추가 질문: 1998년에 Bill Gates는 몇 살이었나요?\n",
      "중간 답변: 1998년에 Bill Gates는 43세였습니다.\n",
      "\n",
      "최종 답변은: 43세\n"
     ]
    }
   ],
   "source": [
    "print(llm.invoke(final_prompt).content)"
   ]
  },
  {
   "cell_type": "code",
   "execution_count": 11,
   "metadata": {},
   "outputs": [
    {
     "name": "stdout",
     "output_type": "stream",
     "text": [
      "이 질문에 추가 질문이 필요한가요: 예.\n",
      "            \n",
      "추가 질문: Google은 언제 창립되었나요?\n",
      "중간 답변: Google은 1998년에 창립되었습니다.\n",
      "\n",
      "추가 질문: Bill Gates는 언제 태어났나요?\n",
      "중간 답변: Bill Gates는 1955년 10월 28일에 태어났습니다.\n",
      "\n",
      "추가 질문: 1998년에 Bill Gates는 몇 살이었나요?\n",
      "중간 답변: 1998년에 Bill Gates는 43세였습니다.\n",
      "\n",
      "최종 답변은: 43세\n"
     ]
    }
   ],
   "source": [
    "prompt = FewShotPromptTemplate(\n",
    "    examples=examples,\n",
    "    example_prompt=example_prompt,\n",
    "    suffix=\"Question:\\n{question}\\nAnswer:\",\n",
    "    input_variables=[\"question\"],\n",
    ")\n",
    "\n",
    "chain = prompt | llm\n",
    "\n",
    "print(chain.invoke(question).content)"
   ]
  }
 ],
 "metadata": {
  "kernelspec": {
   "display_name": "llm",
   "language": "python",
   "name": "python3"
  },
  "language_info": {
   "codemirror_mode": {
    "name": "ipython",
    "version": 3
   },
   "file_extension": ".py",
   "mimetype": "text/x-python",
   "name": "python",
   "nbconvert_exporter": "python",
   "pygments_lexer": "ipython3",
   "version": "3.11.11"
  }
 },
 "nbformat": 4,
 "nbformat_minor": 2
}
