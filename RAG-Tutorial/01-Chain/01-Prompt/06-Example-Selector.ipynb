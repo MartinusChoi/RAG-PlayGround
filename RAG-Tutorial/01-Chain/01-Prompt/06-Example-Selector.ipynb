{
 "cells": [
  {
   "cell_type": "markdown",
   "metadata": {},
   "source": [
    "# Example Selector"
   ]
  },
  {
   "cell_type": "markdown",
   "metadata": {},
   "source": [
    "## 1. Set API Keys"
   ]
  },
  {
   "cell_type": "code",
   "execution_count": 2,
   "metadata": {},
   "outputs": [
    {
     "data": {
      "text/plain": [
       "True"
      ]
     },
     "execution_count": 2,
     "metadata": {},
     "output_type": "execute_result"
    }
   ],
   "source": [
    "from dotenv import load_dotenv\n",
    "\n",
    "load_dotenv()"
   ]
  },
  {
   "cell_type": "markdown",
   "metadata": {},
   "source": [
    "## 2. Example Selector"
   ]
  },
  {
   "cell_type": "markdown",
   "metadata": {},
   "source": [
    "few-shot 프롬프트를 작성하려고 할 때, \n",
    "- 예제가 많은 경우, 모든 예제를 포함할 수 없을 때 프롬프트에 포함할 예제를 선택해야 하는 경우가 발생\n",
    "    - 입력에 너무 많은 토큰을 사용하게 되면 과금 문제, Context Length 문제로 효율이 좋지 않음\n",
    "    - 따라서 효율적으로 예제를 운용해야함\n",
    "- 또한, 답변 예시와 형식이 다양할 경우, 필요한 형식과 양식만을 가져와서 질문해야하는 경우가 생김\n",
    "- `Example Selector`는 이를 담당하는 클래스\n",
    "    - 사용자에 대한 질문을 입력받고, 질문과 예제의 유사도를 측정하여 유사도가 높은 예제를 선택하여 프롬프트를 구성하도록 동작"
   ]
  },
  {
   "cell_type": "code",
   "execution_count": 4,
   "metadata": {},
   "outputs": [],
   "source": [
    "examples = [\n",
    "    {\n",
    "        \"question\": \"스티브 잡스와 아인슈타인 중 누가 더 오래 살았나요?\",\n",
    "        \"answer\": \"\"\"이 질문에 추가 질문이 필요한가요: 예.\n",
    "            추가 질문: 스티브 잡스는 몇 살에 사망했나요?\n",
    "            중간 답변: 스티브 잡스는 56세에 사망했습니다.\n",
    "            추가 질문: 아인슈타인은 몇 살에 사망했나요?\n",
    "            중간 답변: 아인슈타인은 76세에 사망했습니다.\n",
    "            최종 답변은: 아인슈타인\n",
    "        \"\"\",\n",
    "    },\n",
    "    {\n",
    "        \"question\": \"네이버의 창립자는 언제 태어났나요?\",\n",
    "        \"answer\": \"\"\"이 질문에 추가 질문이 필요한가요: 예.\n",
    "            추가 질문: 네이버의 창립자는 누구인가요?\n",
    "            중간 답변: 네이버는 이해진에 의해 창립되었습니다.\n",
    "            추가 질문: 이해진은 언제 태어났나요?\n",
    "            중간 답변: 이해진은 1967년 6월 22일에 태어났습니다.\n",
    "            최종 답변은: 1967년 6월 22일\n",
    "        \"\"\",\n",
    "    },\n",
    "    {\n",
    "        \"question\": \"율곡 이이의 어머니가 태어난 해의 통치하던 왕은 누구인가요?\",\n",
    "        \"answer\": \"\"\"이 질문에 추가 질문이 필요한가요: 예.\n",
    "            추가 질문: 율곡 이이의 어머니는 누구인가요?\n",
    "            중간 답변: 율곡 이이의 어머니는 신사임당입니다.\n",
    "            추가 질문: 신사임당은 언제 태어났나요?\n",
    "            중간 답변: 신사임당은 1504년에 태어났습니다.\n",
    "            추가 질문: 1504년에 조선을 통치한 왕은 누구인가요?\n",
    "            중간 답변: 1504년에 조선을 통치한 왕은 연산군입니다.\n",
    "            최종 답변은: 연산군\n",
    "        \"\"\",\n",
    "    },\n",
    "    {\n",
    "        \"question\": \"올드보이와 기생충의 감독이 같은 나라 출신인가요?\",\n",
    "        \"answer\": \"\"\"이 질문에 추가 질문이 필요한가요: 예.\n",
    "            추가 질문: 올드보이의 감독은 누구인가요?\n",
    "            중간 답변: 올드보이의 감독은 박찬욱입니다.\n",
    "            추가 질문: 박찬욱은 어느 나라 출신인가요?\n",
    "            중간 답변: 박찬욱은 대한민국 출신입니다.\n",
    "            추가 질문: 기생충의 감독은 누구인가요?\n",
    "            중간 답변: 기생충의 감독은 봉준호입니다.\n",
    "            추가 질문: 봉준호는 어느 나라 출신인가요?\n",
    "            중간 답변: 봉준호는 대한민국 출신입니다.\n",
    "            최종 답변은: 예\n",
    "        \"\"\",\n",
    "    },\n",
    "]"
   ]
  },
  {
   "cell_type": "code",
   "execution_count": 5,
   "metadata": {},
   "outputs": [
    {
     "name": "stdout",
     "output_type": "stream",
     "text": [
      "입력에 가장 유사한 예시:\n",
      "Google이 창립된 연도에 Bill Gates의 나이는 몇 살인가요?\n",
      "\n",
      "question:\n",
      "네이버의 창립자는 언제 태어났나요?\n",
      "answer:\n",
      "이 질문에 추가 질문이 필요한가요: 예.\n",
      "            추가 질문: 네이버의 창립자는 누구인가요?\n",
      "            중간 답변: 네이버는 이해진에 의해 창립되었습니다.\n",
      "            추가 질문: 이해진은 언제 태어났나요?\n",
      "            중간 답변: 이해진은 1967년 6월 22일에 태어났습니다.\n",
      "            최종 답변은: 1967년 6월 22일\n",
      "        \n"
     ]
    }
   ],
   "source": [
    "from langchain_core.example_selectors import (\n",
    "    MaxMarginalRelevanceExampleSelector,\n",
    "    SemanticSimilarityExampleSelector\n",
    ")\n",
    "from langchain_openai import OpenAIEmbeddings\n",
    "from langchain_chroma import Chroma\n",
    "\n",
    "chroma = Chroma(\n",
    "    collection_name=\"example_selector\",\n",
    "    embedding_function=OpenAIEmbeddings()\n",
    ")\n",
    "\n",
    "example_selector = SemanticSimilarityExampleSelector.from_examples(\n",
    "    examples,                  # 예시의 목록\n",
    "    OpenAIEmbeddings(),        # 의미 유사도 측정을 위한 임베딩 벡터를 생성하는 임베딩 모델 객체체\n",
    "    Chroma,                    # 임베딩 벡터를 저장하고 유사성 검색을 위해 사용되는 VectorStore 클래스스\n",
    "    k=1,                       # 선택할 예시의 수 (One-shot)\n",
    ")\n",
    "\n",
    "question = \"Google이 창립된 연도에 Bill Gates의 나이는 몇 살인가요?\"\n",
    "\n",
    "# 예시 선택택\n",
    "selected_examples = example_selector.select_examples({\"question\": question})\n",
    "\n",
    "print(f\"입력에 가장 유사한 예시:\\n{question}\\n\")\n",
    "for example in selected_examples:\n",
    "    print(f'question:\\n{example[\"question\"]}')\n",
    "    print(f'answer:\\n{example[\"answer\"]}')"
   ]
  },
  {
   "cell_type": "code",
   "execution_count": 7,
   "metadata": {},
   "outputs": [],
   "source": [
    "from langchain_core.prompts.few_shot import FewShotPromptTemplate, PromptTemplate\n",
    "from langchain_openai import ChatOpenAI\n",
    "\n",
    "example_prompt = PromptTemplate.from_template(\n",
    "    \"Question:\\n{question}\\nAnswer:\\n{answer}\\n\"\n",
    ")\n",
    "\n",
    "prompt = FewShotPromptTemplate(\n",
    "    example_selector = example_selector,\n",
    "    example_prompt=example_prompt,\n",
    "    suffix=\"Question:\\n{question}\\nAnswer:\",\n",
    "    input_variables=[\"question\"]\n",
    ")\n",
    "\n",
    "llm = ChatOpenAI(\n",
    "    model=\"gpt-4o\",\n",
    "    temperature=0\n",
    ")\n",
    "\n",
    "chain = prompt | llm"
   ]
  },
  {
   "cell_type": "code",
   "execution_count": 8,
   "metadata": {},
   "outputs": [
    {
     "name": "stdout",
     "output_type": "stream",
     "text": [
      "이 질문에 추가 질문이 필요한가요: 예.  \n",
      "추가 질문: Google은 언제 창립되었나요?  \n",
      "중간 답변: Google은 1998년에 창립되었습니다.  \n",
      "추가 질문: Bill Gates는 언제 태어났나요?  \n",
      "중간 답변: Bill Gates는 1955년 10월 28일에 태어났습니다.  \n",
      "추가 질문: 1998년에 Bill Gates의 나이는 몇 살인가요?  \n",
      "중간 답변: 1998년에는 Bill Gates가 43세였습니다.  \n",
      "최종 답변은: 43세입니다.\n"
     ]
    }
   ],
   "source": [
    "print(chain.invoke(question).content)"
   ]
  },
  {
   "cell_type": "markdown",
   "metadata": {},
   "source": [
    "이런 방식으로 프롬프팅 했을 때, 입력 토큰은 훨씬 덜 사용하면서도 비슷한 퀄리티의 답변을 얻을 수 있는 것을 확인함"
   ]
  },
  {
   "cell_type": "code",
   "execution_count": null,
   "metadata": {},
   "outputs": [],
   "source": []
  },
  {
   "cell_type": "markdown",
   "metadata": {},
   "source": []
  }
 ],
 "metadata": {
  "kernelspec": {
   "display_name": "llm",
   "language": "python",
   "name": "python3"
  },
  "language_info": {
   "codemirror_mode": {
    "name": "ipython",
    "version": 3
   },
   "file_extension": ".py",
   "mimetype": "text/x-python",
   "name": "python",
   "nbconvert_exporter": "python",
   "pygments_lexer": "ipython3",
   "version": "3.11.11"
  }
 },
 "nbformat": 4,
 "nbformat_minor": 2
}
