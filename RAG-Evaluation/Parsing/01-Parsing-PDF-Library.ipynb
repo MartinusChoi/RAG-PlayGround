{
 "cells": [
  {
   "cell_type": "markdown",
   "id": "1cdfcb40",
   "metadata": {},
   "source": [
    "# PDF Parsing Library"
   ]
  },
  {
   "cell_type": "markdown",
   "id": "2defcd2e",
   "metadata": {},
   "source": [
    "## 0. Path Setting"
   ]
  },
  {
   "cell_type": "code",
   "execution_count": 1,
   "id": "90e4ce22",
   "metadata": {},
   "outputs": [
    {
     "name": "stdout",
     "output_type": "stream",
     "text": [
      "/home/martinus/workspace/RAG-Evaluation/Parsing/data/parse_single/sample.pdf\n"
     ]
    }
   ],
   "source": [
    "from glob import glob\n",
    "import os\n",
    "import pandas as pd\n",
    "\n",
    "cur_dir = os.getcwd()\n",
    "root_dir = cur_dir\n",
    "data_dir = os.path.join(root_dir, 'data', 'parse_single')\n",
    "glob_path = os.path.join(data_dir, '*')\n",
    "\n",
    "pdf_path = glob(glob_path)[0]\n",
    "print(pdf_path)"
   ]
  },
  {
   "cell_type": "markdown",
   "id": "d9014e1f",
   "metadata": {},
   "source": [
    "## 1. PyPDFium2"
   ]
  },
  {
   "cell_type": "code",
   "execution_count": 10,
   "id": "84a295b3",
   "metadata": {},
   "outputs": [
    {
     "name": "stderr",
     "output_type": "stream",
     "text": [
      "/home/martinus/llm/lib/python3.10/site-packages/pypdfium2/_helpers/textpage.py:80: UserWarning: get_text_range() call with default params will be implicitly redirected to get_text_bounded()\n",
      "  warnings.warn(\"get_text_range() call with default params will be implicitly redirected to get_text_bounded()\")\n"
     ]
    }
   ],
   "source": [
    "from langchain_community .document_loaders import PyPDFium2Loader\n",
    "\n",
    "loader = PyPDFium2Loader(pdf_path)\n",
    "load = loader.load()\n",
    "\n",
    "result = [page.page_content for page in load]"
   ]
  },
  {
   "cell_type": "code",
   "execution_count": 11,
   "id": "3dded6ca",
   "metadata": {},
   "outputs": [
    {
     "name": "stdout",
     "output_type": "stream",
     "text": [
      "- 4 -\n",
      "□ 의무 및 역할\n",
      "◦ 선정자는「중소기업창업 지원사업 운영요령」 및 「창업사업화 \n",
      "지원사업 통합관리지침」, 「동 사업 세부관리기준」, 협약서 등의\n",
      "사항을 준수하며, 사업 완수를 위해 최선의 노력을 다하여야 함\n",
      " * 지침 및 기준 등은 선정자를 대상으로 별도 안내 예정\n",
      "◦ 선정자는 사업계획서에 명시된 사업화 목표 달성을 위하여 사업 \n",
      "계획을 성실히 이행하여 완수하여야 함\n",
      "◦ 선정자는 적법한 방법과 절차를 통해 정부지원사업비를 지급받아 \n",
      "정부지원사업비를 지급 목적에 맞게 사용하여야 함\n",
      "◦ 선정자는 창업진흥원과 주관기관이 요청하는 자료 제출, 점검 및 \n",
      "평가 등에 성실히 응하여야 함\n",
      "◦ 선정자는 협약종료일로부터 5년간 이력 관리 등에 필요한 제반 \n",
      "요청사항에 성실히 응하여야 함\n",
      "◦ 선정자는 사업비 오·유용, 부정·불법집행의 사전예방을 위한 정기\n",
      "교육 및 보수교육*에 참석하여야 하며, 미참석 시 특별 점검을 \n",
      "실시할 수 있음\n",
      " * 지침 및 세부관리기준 변경 등으로 인한 추가 교육\n",
      "◦ 선정자는 자기부담사업비(현금)를 창업진흥원이 정한 기한 내에 \n",
      "지정한 계좌에 입금하여야 하며, 현물 투입이 있는 경우 해당 증빙\n",
      "자료를 구비하여 주관기관에 제출하여야 함\n",
      "◦ 창업기업이 법인인 경우 사업 운영과 사업비 관리 책임은 법인에 \n",
      "있으며, 사업비의 유용·횡령·편취 등 부적정 사용에 대한 사업비 \n",
      "환수 시 모든 책임은 창업기업 대표(선정자)에게 있고, 지침 및 \n",
      "기준 등에 따라 제재 및 채권추심 등의 조치를 취할 수 있음\n",
      "\n"
     ]
    }
   ],
   "source": [
    "print(result[3])"
   ]
  },
  {
   "cell_type": "markdown",
   "id": "a29ce212",
   "metadata": {},
   "source": [
    "## 2. PyMuPDF"
   ]
  },
  {
   "cell_type": "code",
   "execution_count": 7,
   "id": "1e910571",
   "metadata": {},
   "outputs": [],
   "source": [
    "import fitz\n",
    "\n",
    "doc = fitz.open(pdf_path)\n",
    "result = [page.get_text() for page in doc]"
   ]
  },
  {
   "cell_type": "code",
   "execution_count": 9,
   "id": "3673ab9c",
   "metadata": {},
   "outputs": [
    {
     "name": "stdout",
     "output_type": "stream",
     "text": [
      "- 4 -\n",
      "□ 의무 및 역할\n",
      "◦선정자는「중소기업창업 지원사업 운영요령」및 「창업사업화 \n",
      "지원사업 통합관리지침」, 「동 사업 세부관리기준」, 협약서 등의\n",
      "사항을 준수하며, 사업 완수를 위해 최선의 노력을 다하여야 함\n",
      "    * 지침 및 기준 등은 선정자를 대상으로 별도 안내 예정\n",
      "◦선정자는 사업계획서에 명시된 사업화 목표 달성을 위하여 사업 \n",
      "계획을 성실히 이행하여 완수하여야 함\n",
      "◦선정자는 적법한 방법과 절차를 통해 정부지원사업비를 지급받아 \n",
      "정부지원사업비를 지급 목적에 맞게 사용하여야 함\n",
      "◦선정자는 창업진흥원과 주관기관이 요청하는 자료 제출, 점검 및 \n",
      "평가 등에 성실히 응하여야 함\n",
      "◦선정자는 협약종료일로부터 5년간 이력 관리 등에 필요한 제반 \n",
      "요청사항에 성실히 응하여야 함\n",
      "◦선정자는 사업비 오·유용, 부정·불법집행의 사전예방을 위한 정기\n",
      "교육 및 보수교육*에 참석하여야 하며, 미참석 시 특별 점검을 \n",
      "실시할 수 있음\n",
      "    * 지침 및 세부관리기준 변경 등으로 인한 추가 교육\n",
      "◦선정자는 자기부담사업비(현금)를 창업진흥원이 정한 기한 내에 \n",
      "지정한 계좌에 입금하여야 하며, 현물 투입이 있는 경우 해당 증빙\n",
      "자료를 구비하여 주관기관에 제출하여야 함\n",
      "◦창업기업이 법인인 경우 사업 운영과 사업비 관리 책임은 법인에 \n",
      "있으며, 사업비의 유용·횡령·편취 등 부적정 사용에 대한 사업비 \n",
      "환수 시 모든 책임은 창업기업 대표(선정자)에게 있고, 지침 및 \n",
      "기준 등에 따라 제재 및 채권추심 등의 조치를 취할 수 있음\n",
      "\n"
     ]
    }
   ],
   "source": [
    "print(result[3])"
   ]
  },
  {
   "cell_type": "markdown",
   "id": "a3eac9f4",
   "metadata": {},
   "source": [
    "## 3. PyPDF"
   ]
  },
  {
   "cell_type": "code",
   "execution_count": 12,
   "id": "5c3d5136",
   "metadata": {},
   "outputs": [],
   "source": [
    "from pypdf import PdfReader\n",
    "\n",
    "reader = PdfReader(pdf_path)\n",
    "pages = reader.pages\n",
    "\n",
    "result = [page.extract_text() for page in pages]"
   ]
  },
  {
   "cell_type": "code",
   "execution_count": 13,
   "id": "3076c2ca",
   "metadata": {},
   "outputs": [
    {
     "name": "stdout",
     "output_type": "stream",
     "text": [
      "- 4 -□ 의무 및 역할\n",
      "◦선정자는「중소기업창업 지원사업 운영요령」및 「창업사업화 \n",
      "지원사업 통합관리지침」,「동 사업 세부관리기준」,협약서 등의 \n",
      "사항을 준수하며 ,사업 완수를 위해 최선의 노력을 다하여야 함\n",
      "    * 지침 및 기준 등은 선정자를 대상으로 별도 안내 예정\n",
      "◦선정자는 사업계획서에 명시된 사업화 목표 달성을 위하여 사업 \n",
      "계획을 성실히 이행하여 완수하여야 함\n",
      "◦선정자는 적법한 방법과 절차를 통해 정부지원사업비를 지급받아 \n",
      "정부지원사업비를 지급 목적에 맞게 사용하여야 함\n",
      "◦선정자는 창업진흥원과 주관기관이 요청하는 자료 제출 ,점검 및 \n",
      "평가 등에 성실히 응하여야 함\n",
      "◦선정자는 협약종료일로부터 5년간 이력 관리 등에 필요한 제반 \n",
      "요청사항에 성실히 응하여야 함\n",
      "◦선정자는 사업비 오·유용 ,부정·불법집행의 사전예방을 위한 정기\n",
      "교육 및 보수교육*에 참석하여야 하며 ,미참석 시 특별 점검을 \n",
      "실시할 수 있음\n",
      "    * 지침 및 세부관리기준 변경 등으로 인한 추가 교육\n",
      "◦선정자는 자기부담사업비 (현금 )를 창업진흥원이 정한 기한 내에 \n",
      "지정한 계좌에 입금하여야 하며 ,현물 투입이 있는 경우 해당 증빙\n",
      "자료를 구비하여 주관기관에 제출하여야 함\n",
      "◦창업기업이 법인인 경우 사업 운영과 사업비 관리 책임은 법인에 \n",
      "있으며 ,사업비의 유용·횡령·편취 등 부적정 사용에 대한 사업비 \n",
      "환수 시 모든 책임은 창업기업 대표 (선정자 )에게 있고 ,지침 및 \n",
      "기준 등에 따라 제재 및 채권추심 등의 조치를 취할 수 있음\n"
     ]
    }
   ],
   "source": [
    "print(result[3])"
   ]
  },
  {
   "cell_type": "markdown",
   "id": "20fe7988",
   "metadata": {},
   "source": [
    "## 4. PDFMiner"
   ]
  },
  {
   "cell_type": "code",
   "execution_count": 14,
   "id": "36e4183f",
   "metadata": {},
   "outputs": [
    {
     "name": "stderr",
     "output_type": "stream",
     "text": [
      "CropBox missing from /Page, defaulting to MediaBox\n",
      "CropBox missing from /Page, defaulting to MediaBox\n",
      "CropBox missing from /Page, defaulting to MediaBox\n",
      "CropBox missing from /Page, defaulting to MediaBox\n",
      "CropBox missing from /Page, defaulting to MediaBox\n",
      "CropBox missing from /Page, defaulting to MediaBox\n",
      "CropBox missing from /Page, defaulting to MediaBox\n",
      "CropBox missing from /Page, defaulting to MediaBox\n",
      "CropBox missing from /Page, defaulting to MediaBox\n",
      "CropBox missing from /Page, defaulting to MediaBox\n",
      "CropBox missing from /Page, defaulting to MediaBox\n",
      "CropBox missing from /Page, defaulting to MediaBox\n",
      "CropBox missing from /Page, defaulting to MediaBox\n",
      "CropBox missing from /Page, defaulting to MediaBox\n",
      "CropBox missing from /Page, defaulting to MediaBox\n",
      "CropBox missing from /Page, defaulting to MediaBox\n",
      "CropBox missing from /Page, defaulting to MediaBox\n",
      "CropBox missing from /Page, defaulting to MediaBox\n",
      "CropBox missing from /Page, defaulting to MediaBox\n",
      "CropBox missing from /Page, defaulting to MediaBox\n",
      "CropBox missing from /Page, defaulting to MediaBox\n",
      "CropBox missing from /Page, defaulting to MediaBox\n",
      "CropBox missing from /Page, defaulting to MediaBox\n"
     ]
    }
   ],
   "source": [
    "from pdfminer.high_level import extract_pages\n",
    "from pdfminer.layout import LTTextContainer\n",
    "\n",
    "def extract_text_by_page(pdf_path):\n",
    "    for page_layout in extract_pages(pdf_path):\n",
    "        page_text = \"\"\n",
    "        for element in page_layout:\n",
    "            if isinstance(element, LTTextContainer):\n",
    "                page_text += element.get_text()\n",
    "        yield page_text\n",
    "\n",
    "result = [page for page in extract_text_by_page(pdf_path)]"
   ]
  },
  {
   "cell_type": "code",
   "execution_count": 15,
   "id": "e002283a",
   "metadata": {},
   "outputs": [
    {
     "name": "stdout",
     "output_type": "stream",
     "text": [
      "□  의무  및  역할\n",
      "◦ 선정자는「중소기업창업  지원사업  운영요령」 및  「창업사업화 \n",
      "지원사업 통합관리지침」, 「동 사업 세부관리기준」, 협약서 등의\n",
      "사항을 준수하며, 사업 완수를 위해 최선의 노력을 다하여야 함\n",
      "        *  지침  및  기준  등은  선정자를  대상으로  별도  안내  예정\n",
      "◦ 선정자는 사업계획서에 명시된 사업화 목표 달성을 위하여 사업 \n",
      "계획을 성실히 이행하여 완수하여야 함\n",
      "◦ 선정자는 적법한 방법과 절차를 통해 정부지원사업비를 지급받아 \n",
      "정부지원사업비를 지급 목적에 맞게 사용하여야 함\n",
      "◦ 선정자는 창업진흥원과 주관기관이 요청하는 자료 제출, 점검 및 \n",
      "평가 등에 성실히 응하여야 함\n",
      "◦ 선정자는  협약종료일로부터  5년간  이력  관리  등에  필요한  제반 \n",
      "요청사항에 성실히 응하여야 함\n",
      "◦ 선정자는 사업비 오·유용, 부정·불법집행의 사전예방을 위한 정기\n",
      "교육  및  보수교육*에  참석하여야  하며, 미참석  시  특별  점검을 \n",
      "실시할 수 있음\n",
      "        *  지침  및  세부관리기준  변경  등으로  인한  추가  교육\n",
      "◦ 선정자는  자기부담사업비(현금)를  창업진흥원이  정한  기한  내에 \n",
      "지정한 계좌에 입금하여야 하며, 현물 투입이 있는 경우 해당 증빙\n",
      "자료를 구비하여 주관기관에 제출하여야 함\n",
      "◦ 창업기업이 법인인 경우 사업 운영과 사업비 관리 책임은 법인에 \n",
      "있으며, 사업비의 유용·횡령·편취 등 부적정 사용에 대한 사업비 \n",
      "환수  시  모든  책임은  창업기업  대표(선정자)에게  있고, 지침  및 \n",
      "기준 등에 따라 제재 및 채권추심 등의 조치를 취할 수 있음\n",
      "-  4  -\n",
      "\n"
     ]
    }
   ],
   "source": [
    "print(result[3])"
   ]
  },
  {
   "cell_type": "markdown",
   "id": "18c93b37",
   "metadata": {},
   "source": [
    "## 5. PDFPlumber"
   ]
  },
  {
   "cell_type": "code",
   "execution_count": 16,
   "id": "9e38ffcb",
   "metadata": {},
   "outputs": [
    {
     "name": "stderr",
     "output_type": "stream",
     "text": [
      "CropBox missing from /Page, defaulting to MediaBox\n",
      "CropBox missing from /Page, defaulting to MediaBox\n",
      "CropBox missing from /Page, defaulting to MediaBox\n",
      "CropBox missing from /Page, defaulting to MediaBox\n",
      "CropBox missing from /Page, defaulting to MediaBox\n",
      "CropBox missing from /Page, defaulting to MediaBox\n",
      "CropBox missing from /Page, defaulting to MediaBox\n",
      "CropBox missing from /Page, defaulting to MediaBox\n",
      "CropBox missing from /Page, defaulting to MediaBox\n",
      "CropBox missing from /Page, defaulting to MediaBox\n",
      "CropBox missing from /Page, defaulting to MediaBox\n",
      "CropBox missing from /Page, defaulting to MediaBox\n",
      "CropBox missing from /Page, defaulting to MediaBox\n",
      "CropBox missing from /Page, defaulting to MediaBox\n",
      "CropBox missing from /Page, defaulting to MediaBox\n",
      "CropBox missing from /Page, defaulting to MediaBox\n",
      "CropBox missing from /Page, defaulting to MediaBox\n",
      "CropBox missing from /Page, defaulting to MediaBox\n",
      "CropBox missing from /Page, defaulting to MediaBox\n",
      "CropBox missing from /Page, defaulting to MediaBox\n",
      "CropBox missing from /Page, defaulting to MediaBox\n",
      "CropBox missing from /Page, defaulting to MediaBox\n",
      "CropBox missing from /Page, defaulting to MediaBox\n"
     ]
    }
   ],
   "source": [
    "import pdfplumber\n",
    "\n",
    "pdf = pdfplumber.open(pdf_path)\n",
    "pages = pdf.pages\n",
    "result = [page.extract_text() for page in pages]"
   ]
  },
  {
   "cell_type": "code",
   "execution_count": 17,
   "id": "1fd30cf4",
   "metadata": {},
   "outputs": [
    {
     "name": "stdout",
     "output_type": "stream",
     "text": [
      "□ 의무 및 역할\n",
      "◦ 선정자는「중소기업창업 지원사업 운영요령」 및 「창업사업화\n",
      "지원사업 통합관리지침」, 「동 사업 세부관리기준」, 협약서 등의\n",
      "사항을 준수하며, 사업 완수를 위해 최선의 노력을 다하여야 함\n",
      "* 지침 및 기준 등은 선정자를 대상으로 별도 안내 예정\n",
      "◦ 선정자는 사업계획서에 명시된 사업화 목표 달성을 위하여 사업\n",
      "계획을 성실히 이행하여 완수하여야 함\n",
      "◦ 선정자는 적법한 방법과 절차를 통해 정부지원사업비를 지급받아\n",
      "정부지원사업비를 지급 목적에 맞게 사용하여야 함\n",
      "◦ 선정자는 창업진흥원과 주관기관이 요청하는 자료 제출, 점검 및\n",
      "평가 등에 성실히 응하여야 함\n",
      "◦ 선정자는 협약종료일로부터 5년간 이력 관리 등에 필요한 제반\n",
      "요청사항에 성실히 응하여야 함\n",
      "◦ 선정자는 사업비 오·유용, 부정·불법집행의 사전예방을 위한 정기\n",
      "교육 및 보수교육*에 참석하여야 하며, 미참석 시 특별 점검을\n",
      "실시할 수 있음\n",
      "* 지침 및 세부관리기준 변경 등으로 인한 추가 교육\n",
      "◦ 선정자는 자기부담사업비(현금)를 창업진흥원이 정한 기한 내에\n",
      "지정한 계좌에 입금하여야 하며, 현물 투입이 있는 경우 해당 증빙\n",
      "자료를 구비하여 주관기관에 제출하여야 함\n",
      "◦ 창업기업이 법인인 경우 사업 운영과 사업비 관리 책임은 법인에\n",
      "있으며, 사업비의 유용·횡령·편취 등 부적정 사용에 대한 사업비\n",
      "환수 시 모든 책임은 창업기업 대표(선정자)에게 있고, 지침 및\n",
      "기준 등에 따라 제재 및 채권추심 등의 조치를 취할 수 있음\n",
      "- 4 -\n"
     ]
    }
   ],
   "source": [
    "print(result[3])"
   ]
  },
  {
   "cell_type": "markdown",
   "id": "12aac660",
   "metadata": {},
   "source": []
  }
 ],
 "metadata": {
  "kernelspec": {
   "display_name": "llm",
   "language": "python",
   "name": "python3"
  },
  "language_info": {
   "codemirror_mode": {
    "name": "ipython",
    "version": 3
   },
   "file_extension": ".py",
   "mimetype": "text/x-python",
   "name": "python",
   "nbconvert_exporter": "python",
   "pygments_lexer": "ipython3",
   "version": "3.10.17"
  }
 },
 "nbformat": 4,
 "nbformat_minor": 5
}
