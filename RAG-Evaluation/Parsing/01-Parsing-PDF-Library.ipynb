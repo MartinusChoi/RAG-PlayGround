{
 "cells": [
  {
   "cell_type": "markdown",
   "id": "1cdfcb40",
   "metadata": {},
   "source": [
    "# PDF Parsing Library"
   ]
  },
  {
   "cell_type": "markdown",
   "id": "2defcd2e",
   "metadata": {},
   "source": [
    "## 0. Path Setting"
   ]
  },
  {
   "cell_type": "code",
   "execution_count": 1,
   "id": "90e4ce22",
   "metadata": {},
   "outputs": [
    {
     "name": "stdout",
     "output_type": "stream",
     "text": [
      "/home/martinus/workspace/RAG-Evaluation/Parsing/data/parse_single/sample.pdf\n"
     ]
    }
   ],
   "source": [
    "from glob import glob\n",
    "import os\n",
    "import pandas as pd\n",
    "\n",
    "cur_dir = os.getcwd()\n",
    "root_dir = cur_dir\n",
    "data_dir = os.path.join(root_dir, 'data', 'parse_single')\n",
    "glob_path = os.path.join(data_dir, '*')\n",
    "\n",
    "pdf_path = glob(glob_path)[0]\n",
    "print(pdf_path)"
   ]
  },
  {
   "cell_type": "markdown",
   "id": "d9014e1f",
   "metadata": {},
   "source": [
    "## 1. PyPDFium2"
   ]
  },
  {
   "cell_type": "code",
   "execution_count": 10,
   "id": "84a295b3",
   "metadata": {},
   "outputs": [
    {
     "name": "stderr",
     "output_type": "stream",
     "text": [
      "/home/martinus/llm/lib/python3.10/site-packages/pypdfium2/_helpers/textpage.py:80: UserWarning: get_text_range() call with default params will be implicitly redirected to get_text_bounded()\n",
      "  warnings.warn(\"get_text_range() call with default params will be implicitly redirected to get_text_bounded()\")\n"
     ]
    }
   ],
   "source": [
    "from langchain_community .document_loaders import PyPDFium2Loader\n",
    "\n",
    "loader = PyPDFium2Loader(pdf_path)\n",
    "load = loader.load()\n",
    "\n",
    "result = [page.page_content for page in load]"
   ]
  },
  {
   "cell_type": "code",
   "execution_count": 11,
   "id": "3dded6ca",
   "metadata": {},
   "outputs": [
    {
     "name": "stdout",
     "output_type": "stream",
     "text": [
      "- 4 -\n",
      "□ 의무 및 역할\n",
      "◦ 선정자는「중소기업창업 지원사업 운영요령」 및 「창업사업화 \n",
      "지원사업 통합관리지침」, 「동 사업 세부관리기준」, 협약서 등의\n",
      "사항을 준수하며, 사업 완수를 위해 최선의 노력을 다하여야 함\n",
      " * 지침 및 기준 등은 선정자를 대상으로 별도 안내 예정\n",
      "◦ 선정자는 사업계획서에 명시된 사업화 목표 달성을 위하여 사업 \n",
      "계획을 성실히 이행하여 완수하여야 함\n",
      "◦ 선정자는 적법한 방법과 절차를 통해 정부지원사업비를 지급받아 \n",
      "정부지원사업비를 지급 목적에 맞게 사용하여야 함\n",
      "◦ 선정자는 창업진흥원과 주관기관이 요청하는 자료 제출, 점검 및 \n",
      "평가 등에 성실히 응하여야 함\n",
      "◦ 선정자는 협약종료일로부터 5년간 이력 관리 등에 필요한 제반 \n",
      "요청사항에 성실히 응하여야 함\n",
      "◦ 선정자는 사업비 오·유용, 부정·불법집행의 사전예방을 위한 정기\n",
      "교육 및 보수교육*에 참석하여야 하며, 미참석 시 특별 점검을 \n",
      "실시할 수 있음\n",
      " * 지침 및 세부관리기준 변경 등으로 인한 추가 교육\n",
      "◦ 선정자는 자기부담사업비(현금)를 창업진흥원이 정한 기한 내에 \n",
      "지정한 계좌에 입금하여야 하며, 현물 투입이 있는 경우 해당 증빙\n",
      "자료를 구비하여 주관기관에 제출하여야 함\n",
      "◦ 창업기업이 법인인 경우 사업 운영과 사업비 관리 책임은 법인에 \n",
      "있으며, 사업비의 유용·횡령·편취 등 부적정 사용에 대한 사업비 \n",
      "환수 시 모든 책임은 창업기업 대표(선정자)에게 있고, 지침 및 \n",
      "기준 등에 따라 제재 및 채권추심 등의 조치를 취할 수 있음\n",
      "\n"
     ]
    }
   ],
   "source": [
    "print(result[3])"
   ]
  },
  {
   "cell_type": "markdown",
   "id": "a29ce212",
   "metadata": {},
   "source": [
    "## 2. PyMuPDF"
   ]
  },
  {
   "cell_type": "code",
   "execution_count": 7,
   "id": "1e910571",
   "metadata": {},
   "outputs": [],
   "source": [
    "import fitz\n",
    "\n",
    "doc = fitz.open(pdf_path)\n",
    "result = [page.get_text() for page in doc]"
   ]
  },
  {
   "cell_type": "code",
   "execution_count": 9,
   "id": "3673ab9c",
   "metadata": {},
   "outputs": [
    {
     "name": "stdout",
     "output_type": "stream",
     "text": [
      "- 4 -\n",
      "□ 의무 및 역할\n",
      "◦선정자는「중소기업창업 지원사업 운영요령」및 「창업사업화 \n",
      "지원사업 통합관리지침」, 「동 사업 세부관리기준」, 협약서 등의\n",
      "사항을 준수하며, 사업 완수를 위해 최선의 노력을 다하여야 함\n",
      "    * 지침 및 기준 등은 선정자를 대상으로 별도 안내 예정\n",
      "◦선정자는 사업계획서에 명시된 사업화 목표 달성을 위하여 사업 \n",
      "계획을 성실히 이행하여 완수하여야 함\n",
      "◦선정자는 적법한 방법과 절차를 통해 정부지원사업비를 지급받아 \n",
      "정부지원사업비를 지급 목적에 맞게 사용하여야 함\n",
      "◦선정자는 창업진흥원과 주관기관이 요청하는 자료 제출, 점검 및 \n",
      "평가 등에 성실히 응하여야 함\n",
      "◦선정자는 협약종료일로부터 5년간 이력 관리 등에 필요한 제반 \n",
      "요청사항에 성실히 응하여야 함\n",
      "◦선정자는 사업비 오·유용, 부정·불법집행의 사전예방을 위한 정기\n",
      "교육 및 보수교육*에 참석하여야 하며, 미참석 시 특별 점검을 \n",
      "실시할 수 있음\n",
      "    * 지침 및 세부관리기준 변경 등으로 인한 추가 교육\n",
      "◦선정자는 자기부담사업비(현금)를 창업진흥원이 정한 기한 내에 \n",
      "지정한 계좌에 입금하여야 하며, 현물 투입이 있는 경우 해당 증빙\n",
      "자료를 구비하여 주관기관에 제출하여야 함\n",
      "◦창업기업이 법인인 경우 사업 운영과 사업비 관리 책임은 법인에 \n",
      "있으며, 사업비의 유용·횡령·편취 등 부적정 사용에 대한 사업비 \n",
      "환수 시 모든 책임은 창업기업 대표(선정자)에게 있고, 지침 및 \n",
      "기준 등에 따라 제재 및 채권추심 등의 조치를 취할 수 있음\n",
      "\n"
     ]
    }
   ],
   "source": [
    "print(result[3])"
   ]
  },
  {
   "cell_type": "markdown",
   "id": "a3eac9f4",
   "metadata": {},
   "source": [
    "## 3. PyPDF"
   ]
  },
  {
   "cell_type": "code",
   "execution_count": 12,
   "id": "5c3d5136",
   "metadata": {},
   "outputs": [],
   "source": [
    "from pypdf import PdfReader\n",
    "\n",
    "reader = PdfReader(pdf_path)\n",
    "pages = reader.pages\n",
    "\n",
    "result = [page.extract_text() for page in pages]"
   ]
  },
  {
   "cell_type": "code",
   "execution_count": 13,
   "id": "3076c2ca",
   "metadata": {},
   "outputs": [
    {
     "name": "stdout",
     "output_type": "stream",
     "text": [
      "- 4 -□ 의무 및 역할\n",
      "◦선정자는「중소기업창업 지원사업 운영요령」및 「창업사업화 \n",
      "지원사업 통합관리지침」,「동 사업 세부관리기준」,협약서 등의 \n",
      "사항을 준수하며 ,사업 완수를 위해 최선의 노력을 다하여야 함\n",
      "    * 지침 및 기준 등은 선정자를 대상으로 별도 안내 예정\n",
      "◦선정자는 사업계획서에 명시된 사업화 목표 달성을 위하여 사업 \n",
      "계획을 성실히 이행하여 완수하여야 함\n",
      "◦선정자는 적법한 방법과 절차를 통해 정부지원사업비를 지급받아 \n",
      "정부지원사업비를 지급 목적에 맞게 사용하여야 함\n",
      "◦선정자는 창업진흥원과 주관기관이 요청하는 자료 제출 ,점검 및 \n",
      "평가 등에 성실히 응하여야 함\n",
      "◦선정자는 협약종료일로부터 5년간 이력 관리 등에 필요한 제반 \n",
      "요청사항에 성실히 응하여야 함\n",
      "◦선정자는 사업비 오·유용 ,부정·불법집행의 사전예방을 위한 정기\n",
      "교육 및 보수교육*에 참석하여야 하며 ,미참석 시 특별 점검을 \n",
      "실시할 수 있음\n",
      "    * 지침 및 세부관리기준 변경 등으로 인한 추가 교육\n",
      "◦선정자는 자기부담사업비 (현금 )를 창업진흥원이 정한 기한 내에 \n",
      "지정한 계좌에 입금하여야 하며 ,현물 투입이 있는 경우 해당 증빙\n",
      "자료를 구비하여 주관기관에 제출하여야 함\n",
      "◦창업기업이 법인인 경우 사업 운영과 사업비 관리 책임은 법인에 \n",
      "있으며 ,사업비의 유용·횡령·편취 등 부적정 사용에 대한 사업비 \n",
      "환수 시 모든 책임은 창업기업 대표 (선정자 )에게 있고 ,지침 및 \n",
      "기준 등에 따라 제재 및 채권추심 등의 조치를 취할 수 있음\n"
     ]
    }
   ],
   "source": [
    "print(result[3])"
   ]
  },
  {
   "cell_type": "markdown",
   "id": "20fe7988",
   "metadata": {},
   "source": [
    "## 4. PDFMiner"
   ]
  },
  {
   "cell_type": "code",
   "execution_count": 14,
   "id": "36e4183f",
   "metadata": {},
   "outputs": [
    {
     "name": "stderr",
     "output_type": "stream",
     "text": [
      "CropBox missing from /Page, defaulting to MediaBox\n",
      "CropBox missing from /Page, defaulting to MediaBox\n",
      "CropBox missing from /Page, defaulting to MediaBox\n",
      "CropBox missing from /Page, defaulting to MediaBox\n",
      "CropBox missing from /Page, defaulting to MediaBox\n",
      "CropBox missing from /Page, defaulting to MediaBox\n",
      "CropBox missing from /Page, defaulting to MediaBox\n",
      "CropBox missing from /Page, defaulting to MediaBox\n",
      "CropBox missing from /Page, defaulting to MediaBox\n",
      "CropBox missing from /Page, defaulting to MediaBox\n",
      "CropBox missing from /Page, defaulting to MediaBox\n",
      "CropBox missing from /Page, defaulting to MediaBox\n",
      "CropBox missing from /Page, defaulting to MediaBox\n",
      "CropBox missing from /Page, defaulting to MediaBox\n",
      "CropBox missing from /Page, defaulting to MediaBox\n",
      "CropBox missing from /Page, defaulting to MediaBox\n",
      "CropBox missing from /Page, defaulting to MediaBox\n",
      "CropBox missing from /Page, defaulting to MediaBox\n",
      "CropBox missing from /Page, defaulting to MediaBox\n",
      "CropBox missing from /Page, defaulting to MediaBox\n",
      "CropBox missing from /Page, defaulting to MediaBox\n",
      "CropBox missing from /Page, defaulting to MediaBox\n",
      "CropBox missing from /Page, defaulting to MediaBox\n"
     ]
    }
   ],
   "source": [
    "from pdfminer.high_level import extract_pages\n",
    "from pdfminer.layout import LTTextContainer\n",
    "\n",
    "def extract_text_by_page(pdf_path):\n",
    "    for page_layout in extract_pages(pdf_path):\n",
    "        page_text = \"\"\n",
    "        for element in page_layout:\n",
    "            if isinstance(element, LTTextContainer):\n",
    "                page_text += element.get_text()\n",
    "        yield page_text\n",
    "\n",
    "result = [page for page in extract_text_by_page(pdf_path)]"
   ]
  },
  {
   "cell_type": "code",
   "execution_count": 15,
   "id": "e002283a",
   "metadata": {},
   "outputs": [
    {
     "name": "stdout",
     "output_type": "stream",
     "text": [
      "□  의무  및  역할\n",
      "◦ 선정자는「중소기업창업  지원사업  운영요령」 및  「창업사업화 \n",
      "지원사업 통합관리지침」, 「동 사업 세부관리기준」, 협약서 등의\n",
      "사항을 준수하며, 사업 완수를 위해 최선의 노력을 다하여야 함\n",
      "        *  지침  및  기준  등은  선정자를  대상으로  별도  안내  예정\n",
      "◦ 선정자는 사업계획서에 명시된 사업화 목표 달성을 위하여 사업 \n",
      "계획을 성실히 이행하여 완수하여야 함\n",
      "◦ 선정자는 적법한 방법과 절차를 통해 정부지원사업비를 지급받아 \n",
      "정부지원사업비를 지급 목적에 맞게 사용하여야 함\n",
      "◦ 선정자는 창업진흥원과 주관기관이 요청하는 자료 제출, 점검 및 \n",
      "평가 등에 성실히 응하여야 함\n",
      "◦ 선정자는  협약종료일로부터  5년간  이력  관리  등에  필요한  제반 \n",
      "요청사항에 성실히 응하여야 함\n",
      "◦ 선정자는 사업비 오·유용, 부정·불법집행의 사전예방을 위한 정기\n",
      "교육  및  보수교육*에  참석하여야  하며, 미참석  시  특별  점검을 \n",
      "실시할 수 있음\n",
      "        *  지침  및  세부관리기준  변경  등으로  인한  추가  교육\n",
      "◦ 선정자는  자기부담사업비(현금)를  창업진흥원이  정한  기한  내에 \n",
      "지정한 계좌에 입금하여야 하며, 현물 투입이 있는 경우 해당 증빙\n",
      "자료를 구비하여 주관기관에 제출하여야 함\n",
      "◦ 창업기업이 법인인 경우 사업 운영과 사업비 관리 책임은 법인에 \n",
      "있으며, 사업비의 유용·횡령·편취 등 부적정 사용에 대한 사업비 \n",
      "환수  시  모든  책임은  창업기업  대표(선정자)에게  있고, 지침  및 \n",
      "기준 등에 따라 제재 및 채권추심 등의 조치를 취할 수 있음\n",
      "-  4  -\n",
      "\n"
     ]
    }
   ],
   "source": [
    "print(result[3])"
   ]
  },
  {
   "cell_type": "markdown",
   "id": "18c93b37",
   "metadata": {},
   "source": [
    "## 5. PDFPlumber"
   ]
  },
  {
   "cell_type": "code",
   "execution_count": 16,
   "id": "9e38ffcb",
   "metadata": {},
   "outputs": [
    {
     "name": "stderr",
     "output_type": "stream",
     "text": [
      "CropBox missing from /Page, defaulting to MediaBox\n",
      "CropBox missing from /Page, defaulting to MediaBox\n",
      "CropBox missing from /Page, defaulting to MediaBox\n",
      "CropBox missing from /Page, defaulting to MediaBox\n",
      "CropBox missing from /Page, defaulting to MediaBox\n",
      "CropBox missing from /Page, defaulting to MediaBox\n",
      "CropBox missing from /Page, defaulting to MediaBox\n",
      "CropBox missing from /Page, defaulting to MediaBox\n",
      "CropBox missing from /Page, defaulting to MediaBox\n",
      "CropBox missing from /Page, defaulting to MediaBox\n",
      "CropBox missing from /Page, defaulting to MediaBox\n",
      "CropBox missing from /Page, defaulting to MediaBox\n",
      "CropBox missing from /Page, defaulting to MediaBox\n",
      "CropBox missing from /Page, defaulting to MediaBox\n",
      "CropBox missing from /Page, defaulting to MediaBox\n",
      "CropBox missing from /Page, defaulting to MediaBox\n",
      "CropBox missing from /Page, defaulting to MediaBox\n",
      "CropBox missing from /Page, defaulting to MediaBox\n",
      "CropBox missing from /Page, defaulting to MediaBox\n",
      "CropBox missing from /Page, defaulting to MediaBox\n",
      "CropBox missing from /Page, defaulting to MediaBox\n",
      "CropBox missing from /Page, defaulting to MediaBox\n",
      "CropBox missing from /Page, defaulting to MediaBox\n"
     ]
    }
   ],
   "source": [
    "import pdfplumber\n",
    "\n",
    "pdf = pdfplumber.open(pdf_path)\n",
    "pages = pdf.pages\n",
    "result = [page.extract_text() for page in pages]"
   ]
  },
  {
   "cell_type": "code",
   "execution_count": 17,
   "id": "1fd30cf4",
   "metadata": {},
   "outputs": [
    {
     "name": "stdout",
     "output_type": "stream",
     "text": [
      "□ 의무 및 역할\n",
      "◦ 선정자는「중소기업창업 지원사업 운영요령」 및 「창업사업화\n",
      "지원사업 통합관리지침」, 「동 사업 세부관리기준」, 협약서 등의\n",
      "사항을 준수하며, 사업 완수를 위해 최선의 노력을 다하여야 함\n",
      "* 지침 및 기준 등은 선정자를 대상으로 별도 안내 예정\n",
      "◦ 선정자는 사업계획서에 명시된 사업화 목표 달성을 위하여 사업\n",
      "계획을 성실히 이행하여 완수하여야 함\n",
      "◦ 선정자는 적법한 방법과 절차를 통해 정부지원사업비를 지급받아\n",
      "정부지원사업비를 지급 목적에 맞게 사용하여야 함\n",
      "◦ 선정자는 창업진흥원과 주관기관이 요청하는 자료 제출, 점검 및\n",
      "평가 등에 성실히 응하여야 함\n",
      "◦ 선정자는 협약종료일로부터 5년간 이력 관리 등에 필요한 제반\n",
      "요청사항에 성실히 응하여야 함\n",
      "◦ 선정자는 사업비 오·유용, 부정·불법집행의 사전예방을 위한 정기\n",
      "교육 및 보수교육*에 참석하여야 하며, 미참석 시 특별 점검을\n",
      "실시할 수 있음\n",
      "* 지침 및 세부관리기준 변경 등으로 인한 추가 교육\n",
      "◦ 선정자는 자기부담사업비(현금)를 창업진흥원이 정한 기한 내에\n",
      "지정한 계좌에 입금하여야 하며, 현물 투입이 있는 경우 해당 증빙\n",
      "자료를 구비하여 주관기관에 제출하여야 함\n",
      "◦ 창업기업이 법인인 경우 사업 운영과 사업비 관리 책임은 법인에\n",
      "있으며, 사업비의 유용·횡령·편취 등 부적정 사용에 대한 사업비\n",
      "환수 시 모든 책임은 창업기업 대표(선정자)에게 있고, 지침 및\n",
      "기준 등에 따라 제재 및 채권추심 등의 조치를 취할 수 있음\n",
      "- 4 -\n"
     ]
    }
   ],
   "source": [
    "print(result[3])"
   ]
  },
  {
   "cell_type": "markdown",
   "id": "c80427a8",
   "metadata": {},
   "source": [
    "## 6. AutoRAG"
   ]
  },
  {
   "cell_type": "code",
   "execution_count": 2,
   "id": "d7c65eb9",
   "metadata": {},
   "outputs": [],
   "source": [
    "from autorag.parser import Parser\n",
    "\n",
    "path = os.path.join(root_dir, 'data', 'parse_multi', '*')\n",
    "pjt_dir = os.path.join(root_dir, 'pdf_library')\n",
    "parser = Parser(data_path_glob=path, project_dir=pjt_dir)"
   ]
  },
  {
   "cell_type": "code",
   "execution_count": 6,
   "id": "3640b149",
   "metadata": {},
   "outputs": [
    {
     "name": "stdout",
     "output_type": "stream",
     "text": [
      "\u001b[2;36m[04/25/25 12:00:01]\u001b[0m\u001b[2;36m \u001b[0m\u001b[34mINFO    \u001b[0m \u001b[1m[\u001b[0mparser.py:\u001b[1;36m29\u001b[0m\u001b[1m]\u001b[0m >> Parsing Start\u001b[33m...\u001b[0m     \u001b]8;id=707600;file:///home/martinus/llm/lib/python3.10/site-packages/autorag/parser.py\u001b\\\u001b[2mparser.py\u001b[0m\u001b]8;;\u001b\\\u001b[2m:\u001b[0m\u001b]8;id=416853;file:///home/martinus/llm/lib/python3.10/site-packages/autorag/parser.py#29\u001b\\\u001b[2m29\u001b[0m\u001b]8;;\u001b\\\n",
      "\u001b[2;36m                   \u001b[0m\u001b[2;36m \u001b[0m\u001b[34mINFO    \u001b[0m \u001b[1m[\u001b[0mbase.py:\u001b[1;36m23\u001b[0m\u001b[1m]\u001b[0m >> Running parser -         \u001b]8;id=359428;file:///home/martinus/llm/lib/python3.10/site-packages/autorag/data/parse/base.py\u001b\\\u001b[2mbase.py\u001b[0m\u001b]8;;\u001b\\\u001b[2m:\u001b[0m\u001b]8;id=523237;file:///home/martinus/llm/lib/python3.10/site-packages/autorag/data/parse/base.py#23\u001b\\\u001b[2m23\u001b[0m\u001b]8;;\u001b\\\n",
      "\u001b[2;36m                    \u001b[0m         langchain_parse module\u001b[33m...\u001b[0m                \u001b[2m          \u001b[0m\n"
     ]
    },
    {
     "name": "stdout",
     "output_type": "stream",
     "text": [
      "\u001b[2;36m                   \u001b[0m\u001b[2;36m \u001b[0m\u001b[33mWARNING \u001b[0m \u001b[1m[\u001b[0mpdfpage.py:\u001b[1;36m202\u001b[0m\u001b[1m]\u001b[0m >> CropBox missing  \u001b]8;id=186963;file:///home/martinus/llm/lib/python3.10/site-packages/pdfminer/pdfpage.py\u001b\\\u001b[2mpdfpage.py\u001b[0m\u001b]8;;\u001b\\\u001b[2m:\u001b[0m\u001b]8;id=763478;file:///home/martinus/llm/lib/python3.10/site-packages/pdfminer/pdfpage.py#202\u001b\\\u001b[2m202\u001b[0m\u001b]8;;\u001b\\\n",
      "\u001b[2;36m                    \u001b[0m         from \u001b[35m/\u001b[0m\u001b[95mPage\u001b[0m, defaulting to MediaBox   \u001b[2m              \u001b[0m\n",
      "\u001b[2;36m                   \u001b[0m\u001b[2;36m \u001b[0m\u001b[33mWARNING \u001b[0m \u001b[1m[\u001b[0mpdfpage.py:\u001b[1;36m202\u001b[0m\u001b[1m]\u001b[0m >> CropBox missing  \u001b]8;id=306066;file:///home/martinus/llm/lib/python3.10/site-packages/pdfminer/pdfpage.py\u001b\\\u001b[2mpdfpage.py\u001b[0m\u001b]8;;\u001b\\\u001b[2m:\u001b[0m\u001b]8;id=661425;file:///home/martinus/llm/lib/python3.10/site-packages/pdfminer/pdfpage.py#202\u001b\\\u001b[2m202\u001b[0m\u001b]8;;\u001b\\\n",
      "\u001b[2;36m                    \u001b[0m         from \u001b[35m/\u001b[0m\u001b[95mPage\u001b[0m, defaulting to MediaBox   \u001b[2m              \u001b[0m\n",
      "\u001b[2;36m                   \u001b[0m\u001b[2;36m \u001b[0m\u001b[34mINFO    \u001b[0m \u001b[1m[\u001b[0mbase.py:\u001b[1;36m23\u001b[0m\u001b[1m]\u001b[0m >> Running parser -         \u001b]8;id=293309;file:///home/martinus/llm/lib/python3.10/site-packages/autorag/data/parse/base.py\u001b\\\u001b[2mbase.py\u001b[0m\u001b]8;;\u001b\\\u001b[2m:\u001b[0m\u001b]8;id=731763;file:///home/martinus/llm/lib/python3.10/site-packages/autorag/data/parse/base.py#23\u001b\\\u001b[2m23\u001b[0m\u001b]8;;\u001b\\\n",
      "\u001b[2;36m                    \u001b[0m         langchain_parse module\u001b[33m...\u001b[0m                \u001b[2m          \u001b[0m\n",
      "\u001b[2;36m                   \u001b[0m\u001b[2;36m \u001b[0m\u001b[34mINFO    \u001b[0m \u001b[1m[\u001b[0mbase.py:\u001b[1;36m23\u001b[0m\u001b[1m]\u001b[0m >> Running parser -         \u001b]8;id=613884;file:///home/martinus/llm/lib/python3.10/site-packages/autorag/data/parse/base.py\u001b\\\u001b[2mbase.py\u001b[0m\u001b]8;;\u001b\\\u001b[2m:\u001b[0m\u001b]8;id=362843;file:///home/martinus/llm/lib/python3.10/site-packages/autorag/data/parse/base.py#23\u001b\\\u001b[2m23\u001b[0m\u001b]8;;\u001b\\\n",
      "\u001b[2;36m                    \u001b[0m         langchain_parse module\u001b[33m...\u001b[0m                \u001b[2m          \u001b[0m\n",
      "\u001b[2;36m                   \u001b[0m\u001b[2;36m \u001b[0m\u001b[34mINFO    \u001b[0m \u001b[1m[\u001b[0mbase.py:\u001b[1;36m23\u001b[0m\u001b[1m]\u001b[0m >> Running parser -         \u001b]8;id=16911;file:///home/martinus/llm/lib/python3.10/site-packages/autorag/data/parse/base.py\u001b\\\u001b[2mbase.py\u001b[0m\u001b]8;;\u001b\\\u001b[2m:\u001b[0m\u001b]8;id=171300;file:///home/martinus/llm/lib/python3.10/site-packages/autorag/data/parse/base.py#23\u001b\\\u001b[2m23\u001b[0m\u001b]8;;\u001b\\\n",
      "\u001b[2;36m                    \u001b[0m         langchain_parse module\u001b[33m...\u001b[0m                \u001b[2m          \u001b[0m\n",
      "\u001b[2;36m                   \u001b[0m\u001b[2;36m \u001b[0m\u001b[34mINFO    \u001b[0m \u001b[1m[\u001b[0mbase.py:\u001b[1;36m23\u001b[0m\u001b[1m]\u001b[0m >> Running parser -         \u001b]8;id=988427;file:///home/martinus/llm/lib/python3.10/site-packages/autorag/data/parse/base.py\u001b\\\u001b[2mbase.py\u001b[0m\u001b]8;;\u001b\\\u001b[2m:\u001b[0m\u001b]8;id=384422;file:///home/martinus/llm/lib/python3.10/site-packages/autorag/data/parse/base.py#23\u001b\\\u001b[2m23\u001b[0m\u001b]8;;\u001b\\\n",
      "\u001b[2;36m                    \u001b[0m         langchain_parse module\u001b[33m...\u001b[0m                \u001b[2m          \u001b[0m\n",
      "\u001b[2;36m[04/25/25 12:00:05]\u001b[0m\u001b[2;36m \u001b[0m\u001b[34mINFO    \u001b[0m \u001b[1m[\u001b[0mbase.py:\u001b[1;36m23\u001b[0m\u001b[1m]\u001b[0m >> Running parser -         \u001b]8;id=904399;file:///home/martinus/llm/lib/python3.10/site-packages/autorag/data/parse/base.py\u001b\\\u001b[2mbase.py\u001b[0m\u001b]8;;\u001b\\\u001b[2m:\u001b[0m\u001b]8;id=519756;file:///home/martinus/llm/lib/python3.10/site-packages/autorag/data/parse/base.py#23\u001b\\\u001b[2m23\u001b[0m\u001b]8;;\u001b\\\n",
      "\u001b[2;36m                    \u001b[0m         langchain_parse module\u001b[33m...\u001b[0m                \u001b[2m          \u001b[0m\n",
      "\u001b[2;36m[04/25/25 12:00:08]\u001b[0m\u001b[2;36m \u001b[0m\u001b[34mINFO    \u001b[0m \u001b[1m[\u001b[0mparser.py:\u001b[1;36m37\u001b[0m\u001b[1m]\u001b[0m >> Parsing Done!        \u001b]8;id=915884;file:///home/martinus/llm/lib/python3.10/site-packages/autorag/parser.py\u001b\\\u001b[2mparser.py\u001b[0m\u001b]8;;\u001b\\\u001b[2m:\u001b[0m\u001b]8;id=236807;file:///home/martinus/llm/lib/python3.10/site-packages/autorag/parser.py#37\u001b\\\u001b[2m37\u001b[0m\u001b]8;;\u001b\\\n"
     ]
    }
   ],
   "source": [
    "yaml_path = os.path.join(root_dir, 'config', 'pdf_library.yaml')\n",
    "\n",
    "parser.start_parsing(yaml_path)"
   ]
  },
  {
   "cell_type": "markdown",
   "id": "12aac660",
   "metadata": {},
   "source": [
    "## 7. Check Result"
   ]
  },
  {
   "cell_type": "markdown",
   "id": "bd5db3da",
   "metadata": {},
   "source": [
    "### 7-1. CSV"
   ]
  },
  {
   "cell_type": "code",
   "execution_count": 7,
   "id": "0f03fc2a",
   "metadata": {},
   "outputs": [
    {
     "data": {
      "text/html": [
       "<div>\n",
       "<style scoped>\n",
       "    .dataframe tbody tr th:only-of-type {\n",
       "        vertical-align: middle;\n",
       "    }\n",
       "\n",
       "    .dataframe tbody tr th {\n",
       "        vertical-align: top;\n",
       "    }\n",
       "\n",
       "    .dataframe thead th {\n",
       "        text-align: right;\n",
       "    }\n",
       "</style>\n",
       "<table border=\"1\" class=\"dataframe\">\n",
       "  <thead>\n",
       "    <tr style=\"text-align: right;\">\n",
       "      <th></th>\n",
       "      <th>texts</th>\n",
       "      <th>path</th>\n",
       "      <th>page</th>\n",
       "      <th>last_modified_datetime</th>\n",
       "    </tr>\n",
       "  </thead>\n",
       "  <tbody>\n",
       "    <tr>\n",
       "      <th>0</th>\n",
       "      <td>1: Jack\\n2: McGinnis\\n3: 220 hobo Av.\\n4: Phil...</td>\n",
       "      <td>/home/martinus/workspace/RAG-Evaluation/Parsin...</td>\n",
       "      <td>-1</td>\n",
       "      <td>2025-04-25</td>\n",
       "    </tr>\n",
       "    <tr>\n",
       "      <th>1</th>\n",
       "      <td>1: John \"Da Man\"\\n2: Repici\\n3: 120 Jefferson ...</td>\n",
       "      <td>/home/martinus/workspace/RAG-Evaluation/Parsin...</td>\n",
       "      <td>-1</td>\n",
       "      <td>2025-04-25</td>\n",
       "    </tr>\n",
       "    <tr>\n",
       "      <th>2</th>\n",
       "      <td>1: Stephen\\n2: Tyler\\n3: 7452 Terrace \"At the ...</td>\n",
       "      <td>/home/martinus/workspace/RAG-Evaluation/Parsin...</td>\n",
       "      <td>-1</td>\n",
       "      <td>2025-04-25</td>\n",
       "    </tr>\n",
       "    <tr>\n",
       "      <th>3</th>\n",
       "      <td>1: \\n2: Blankman\\n3: \\n4: SomeTown\\n5: SD\\n6: ...</td>\n",
       "      <td>/home/martinus/workspace/RAG-Evaluation/Parsin...</td>\n",
       "      <td>-1</td>\n",
       "      <td>2025-04-25</td>\n",
       "    </tr>\n",
       "    <tr>\n",
       "      <th>4</th>\n",
       "      <td>1: Joan \"the bone\", Anne\\n2: Jet\\n3: 9th, at T...</td>\n",
       "      <td>/home/martinus/workspace/RAG-Evaluation/Parsin...</td>\n",
       "      <td>-1</td>\n",
       "      <td>2025-04-25</td>\n",
       "    </tr>\n",
       "  </tbody>\n",
       "</table>\n",
       "</div>"
      ],
      "text/plain": [
       "                                               texts  ... last_modified_datetime\n",
       "0  1: Jack\\n2: McGinnis\\n3: 220 hobo Av.\\n4: Phil...  ...             2025-04-25\n",
       "1  1: John \"Da Man\"\\n2: Repici\\n3: 120 Jefferson ...  ...             2025-04-25\n",
       "2  1: Stephen\\n2: Tyler\\n3: 7452 Terrace \"At the ...  ...             2025-04-25\n",
       "3  1: \\n2: Blankman\\n3: \\n4: SomeTown\\n5: SD\\n6: ...  ...             2025-04-25\n",
       "4  1: Joan \"the bone\", Anne\\n2: Jet\\n3: 9th, at T...  ...             2025-04-25\n",
       "\n",
       "[5 rows x 4 columns]"
      ]
     },
     "execution_count": 7,
     "metadata": {},
     "output_type": "execute_result"
    }
   ],
   "source": [
    "csv_path = os.path.join(pjt_dir, 'csv.parquet')\n",
    "\n",
    "csv_result = pd.read_parquet(csv_path)\n",
    "csv_result"
   ]
  },
  {
   "cell_type": "code",
   "execution_count": 10,
   "id": "e55d3926",
   "metadata": {},
   "outputs": [
    {
     "data": {
      "text/plain": [
       "['1: Jack\\n2: McGinnis\\n3: 220 hobo Av.\\n4: Phila\\n5: PA\\n6: 09119',\n",
       " '1: John \"Da Man\"\\n2: Repici\\n3: 120 Jefferson St.\\n4: Riverside\\n5: NJ\\n6: 08075',\n",
       " '1: Stephen\\n2: Tyler\\n3: 7452 Terrace \"At the Plaza\" road\\n4: SomeTown\\n5: SD\\n6: 91234',\n",
       " '1: \\n2: Blankman\\n3: \\n4: SomeTown\\n5: SD\\n6: 00298',\n",
       " '1: Joan \"the bone\", Anne\\n2: Jet\\n3: 9th, at Terrace plc\\n4: Desert City\\n5: CO\\n6: 00123']"
      ]
     },
     "execution_count": 10,
     "metadata": {},
     "output_type": "execute_result"
    }
   ],
   "source": [
    "csv_result[\"texts\"].tolist()"
   ]
  },
  {
   "cell_type": "code",
   "execution_count": 11,
   "id": "e7e8d7f9",
   "metadata": {},
   "outputs": [
    {
     "name": "stdout",
     "output_type": "stream",
     "text": [
      "1: \n",
      "2: Blankman\n",
      "3: \n",
      "4: SomeTown\n",
      "5: SD\n",
      "6: 00298\n"
     ]
    }
   ],
   "source": [
    "print(csv_result[\"texts\"].tolist()[3])"
   ]
  },
  {
   "cell_type": "markdown",
   "id": "d72531e9",
   "metadata": {},
   "source": [
    "### 7-2. PDF"
   ]
  },
  {
   "cell_type": "code",
   "execution_count": 12,
   "id": "12034c72",
   "metadata": {},
   "outputs": [
    {
     "data": {
      "text/html": [
       "<div>\n",
       "<style scoped>\n",
       "    .dataframe tbody tr th:only-of-type {\n",
       "        vertical-align: middle;\n",
       "    }\n",
       "\n",
       "    .dataframe tbody tr th {\n",
       "        vertical-align: top;\n",
       "    }\n",
       "\n",
       "    .dataframe thead th {\n",
       "        text-align: right;\n",
       "    }\n",
       "</style>\n",
       "<table border=\"1\" class=\"dataframe\">\n",
       "  <thead>\n",
       "    <tr style=\"text-align: right;\">\n",
       "      <th></th>\n",
       "      <th>texts</th>\n",
       "      <th>path</th>\n",
       "      <th>page</th>\n",
       "      <th>last_modified_datetime</th>\n",
       "    </tr>\n",
       "  </thead>\n",
       "  <tbody>\n",
       "    <tr>\n",
       "      <th>0</th>\n",
       "      <td>Rule 2.01\\n\\n2.00–THE PLAYING FIELD\\n\\n2.01  L...</td>\n",
       "      <td>/home/martinus/workspace/RAG-Evaluation/Parsin...</td>\n",
       "      <td>-1</td>\n",
       "      <td>2025-04-25</td>\n",
       "    </tr>\n",
       "  </tbody>\n",
       "</table>\n",
       "</div>"
      ],
      "text/plain": [
       "                                               texts  ... last_modified_datetime\n",
       "0  Rule 2.01\\n\\n2.00–THE PLAYING FIELD\\n\\n2.01  L...  ...             2025-04-25\n",
       "\n",
       "[1 rows x 4 columns]"
      ]
     },
     "execution_count": 12,
     "metadata": {},
     "output_type": "execute_result"
    }
   ],
   "source": [
    "pdf_path = os.path.join(pjt_dir, \"pdf.parquet\")\n",
    "\n",
    "pdf_result = pd.read_parquet(pdf_path)\n",
    "pdf_result"
   ]
  },
  {
   "cell_type": "code",
   "execution_count": 13,
   "id": "6454aa71",
   "metadata": {},
   "outputs": [
    {
     "data": {
      "text/plain": [
       "['Rule 2.01\\n\\n2.00–THE PLAYING FIELD\\n\\n2.01  Layout of the Field\\n\\nThe  field  shall  be  laid  out  according  to  the  instructions  below, \\nsupplemented by the diagrams in Appendices 1, 2, and 3.\\n\\nThe infield shall be a 90-foot square. The outfield shall be the area \\nbetween two foul lines formed by extending two sides of the square, \\nas in diagram in Appendix 1 (page 156). The distance from home \\nbase to the nearest fence, stand or other obstruction on fair territory \\nshall  be  250  feet  or  more.  A  distance  of  320  feet  or  more  along \\nthe  foul  lines,  and  400  feet  or  more  to  center  field  is  preferable. \\nThe  infield  shall  be  graded  so  that  the  base  lines  and  home  plate \\nare level. The pitcher’s plate shall be 10 inches above the level of \\nhome plate. The degree of slope from a point 6 inches in front of the \\npitcher’s plate to a point 6 feet toward home plate shall be 1 inch to \\n1 foot, and such degree of slope shall be uniform. The infield and \\noutfield, including the boundary lines, are fair territory and all other \\narea is foul territory.\\n\\nIt  is  desirable  that  the  line  from  home  base  through  the  pitcher’s \\nplate to second base shall run East-Northeast.\\n\\nIt is recommended that the distance from home base to the backstop, \\nand from the base lines to the nearest fence, stand or other obstruction \\non foul territory shall be 60 feet or more. See Appendix 1.\\n\\nWhen  location  of  home  base  is  determined,  with  a  steel  tape \\nmeasure  127  feet,  33⁄8  inches  in  desired  direction  to  establish \\nsecond base. From home base, measure 90 feet toward first base; \\nfrom second base, measure 90 feet toward first base; the intersection \\nof these lines establishes first base. From home base, measure 90 \\nfeet toward third base; from second base, measure 90 feet toward \\nthird base; the intersection of these lines establishes third base. The \\ndistance between first base and third base is 127 feet, 33⁄8 inches. All \\nmeasurements from home base shall be taken from the point where \\nthe first and third base lines intersect.\\n\\nThe catcher’s box, the batters’ boxes, the coaches’ boxes, the three-\\nfoot first base lines and the next batter’s boxes shall be laid out as \\nshown in the diagrams in Appendices 1 and 2.\\n\\n2']"
      ]
     },
     "execution_count": 13,
     "metadata": {},
     "output_type": "execute_result"
    }
   ],
   "source": [
    "pdf_result[\"texts\"].tolist()"
   ]
  },
  {
   "cell_type": "code",
   "execution_count": 14,
   "id": "280dd2bf",
   "metadata": {},
   "outputs": [
    {
     "name": "stdout",
     "output_type": "stream",
     "text": [
      "Rule 2.01\n",
      "\n",
      "2.00–THE PLAYING FIELD\n",
      "\n",
      "2.01  Layout of the Field\n",
      "\n",
      "The  field  shall  be  laid  out  according  to  the  instructions  below, \n",
      "supplemented by the diagrams in Appendices 1, 2, and 3.\n",
      "\n",
      "The infield shall be a 90-foot square. The outfield shall be the area \n",
      "between two foul lines formed by extending two sides of the square, \n",
      "as in diagram in Appendix 1 (page 156). The distance from home \n",
      "base to the nearest fence, stand or other obstruction on fair territory \n",
      "shall  be  250  feet  or  more.  A  distance  of  320  feet  or  more  along \n",
      "the  foul  lines,  and  400  feet  or  more  to  center  field  is  preferable. \n",
      "The  infield  shall  be  graded  so  that  the  base  lines  and  home  plate \n",
      "are level. The pitcher’s plate shall be 10 inches above the level of \n",
      "home plate. The degree of slope from a point 6 inches in front of the \n",
      "pitcher’s plate to a point 6 feet toward home plate shall be 1 inch to \n",
      "1 foot, and such degree of slope shall be uniform. The infield and \n",
      "outfield, including the boundary lines, are fair territory and all other \n",
      "area is foul territory.\n",
      "\n",
      "It  is  desirable  that  the  line  from  home  base  through  the  pitcher’s \n",
      "plate to second base shall run East-Northeast.\n",
      "\n",
      "It is recommended that the distance from home base to the backstop, \n",
      "and from the base lines to the nearest fence, stand or other obstruction \n",
      "on foul territory shall be 60 feet or more. See Appendix 1.\n",
      "\n",
      "When  location  of  home  base  is  determined,  with  a  steel  tape \n",
      "measure  127  feet,  33⁄8  inches  in  desired  direction  to  establish \n",
      "second base. From home base, measure 90 feet toward first base; \n",
      "from second base, measure 90 feet toward first base; the intersection \n",
      "of these lines establishes first base. From home base, measure 90 \n",
      "feet toward third base; from second base, measure 90 feet toward \n",
      "third base; the intersection of these lines establishes third base. The \n",
      "distance between first base and third base is 127 feet, 33⁄8 inches. All \n",
      "measurements from home base shall be taken from the point where \n",
      "the first and third base lines intersect.\n",
      "\n",
      "The catcher’s box, the batters’ boxes, the coaches’ boxes, the three-\n",
      "foot first base lines and the next batter’s boxes shall be laid out as \n",
      "shown in the diagrams in Appendices 1 and 2.\n",
      "\n",
      "2\n"
     ]
    }
   ],
   "source": [
    "print(pdf_result[\"texts\"].tolist()[0])"
   ]
  }
 ],
 "metadata": {
  "kernelspec": {
   "display_name": "llm",
   "language": "python",
   "name": "python3"
  },
  "language_info": {
   "codemirror_mode": {
    "name": "ipython",
    "version": 3
   },
   "file_extension": ".py",
   "mimetype": "text/x-python",
   "name": "python",
   "nbconvert_exporter": "python",
   "pygments_lexer": "ipython3",
   "version": "3.10.17"
  }
 },
 "nbformat": 4,
 "nbformat_minor": 5
}
