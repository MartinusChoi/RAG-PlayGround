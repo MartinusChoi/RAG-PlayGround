{
 "cells": [
  {
   "cell_type": "markdown",
   "id": "47c2572b",
   "metadata": {},
   "source": [
    "# Parse Document using OCR Model"
   ]
  },
  {
   "cell_type": "markdown",
   "id": "cc7e93ed",
   "metadata": {},
   "source": [
    "## 0. Import Library & Directory Setting"
   ]
  },
  {
   "cell_type": "code",
   "execution_count": 16,
   "id": "57196d6b",
   "metadata": {},
   "outputs": [],
   "source": [
    "import pandas as pd\n",
    "from glob import glob\n",
    "import os\n",
    "\n",
    "from dotenv import load_dotenv\n",
    "import nest_asyncio\n",
    "\n",
    "from llama_parse import LlamaParse\n",
    "\n",
    "from autorag.parser import Parser"
   ]
  },
  {
   "cell_type": "code",
   "execution_count": 13,
   "id": "73df7c90",
   "metadata": {},
   "outputs": [
    {
     "data": {
      "text/plain": [
       "'/home/martinus/workspace/RAG-Evaluation/Parsing/data/parse_single/sample.pdf'"
      ]
     },
     "execution_count": 13,
     "metadata": {},
     "output_type": "execute_result"
    }
   ],
   "source": [
    "cur_dir = os.getcwd()\n",
    "root_dir = cur_dir\n",
    "data_dir = os.path.join(root_dir, \"data\", \"parse_single\")\n",
    "glob_path = os.path.join(data_dir, \"*\")\n",
    "\n",
    "file_path = glob(glob_path)[0]\n",
    "file_path"
   ]
  },
  {
   "cell_type": "markdown",
   "id": "7ba8b20c",
   "metadata": {},
   "source": [
    "## 1. Set Environment Variables"
   ]
  },
  {
   "cell_type": "code",
   "execution_count": null,
   "id": "c8411853",
   "metadata": {},
   "outputs": [
    {
     "data": {
      "text/plain": [
       "True"
      ]
     },
     "execution_count": 7,
     "metadata": {},
     "output_type": "execute_result"
    }
   ],
   "source": [
    "load_dotenv()"
   ]
  },
  {
   "cell_type": "code",
   "execution_count": null,
   "id": "b41ef2ff",
   "metadata": {},
   "outputs": [],
   "source": [
    "nest_asyncio.apply() # jupyter를 활용해 실험 시 발생할 에러를 방지"
   ]
  },
  {
   "cell_type": "markdown",
   "id": "e7c57a0f",
   "metadata": {},
   "source": [
    "## 2. Use Llama Parse"
   ]
  },
  {
   "cell_type": "code",
   "execution_count": 14,
   "id": "73edef45",
   "metadata": {},
   "outputs": [],
   "source": [
    "parse_instance = LlamaParse(result_type=\"markdown\", language=\"ko\")"
   ]
  },
  {
   "cell_type": "code",
   "execution_count": 15,
   "id": "122f0391",
   "metadata": {},
   "outputs": [
    {
     "name": "stdout",
     "output_type": "stream",
     "text": [
      "Started parsing the file under job_id 49de00d1-bb60-495e-8e3c-7a62e76c66f1\n"
     ]
    },
    {
     "data": {
      "text/plain": [
       "[Document(id_='f9e7931a-f6c7-463a-b481-459abc912e7a', embedding=None, metadata={}, excluded_embed_metadata_keys=[], excluded_llm_metadata_keys=[], relationships={}, text='# 중소벤처기업부 공고 제2024–300호\\n\\n# 2024년 글로벌 팁스(Global TIPS) 창업기업 모집 공고\\n\\n해외투자와 연계하여 유망 창업기업의 해외 진출 및 글로벌 기업으로의 성장을 지원하는 『2024년 글로벌 팁스(Global TIPS)』에 참여할 창업기업을 다음과 같이 모집합니다.\\n\\n2024년 5월 7일\\n\\n중소벤처기업부 장관\\n\\n# 1  사업개요\\n\\n- 사업목적 : 미래 신성장 동력 발굴과 글로벌 선도기업 육성 등을 위해 해외 벤처캐피탈 등으로부터 투자받은 유망 창업기업의 글로벌 진출 활성화 도모\\n- 지원대상 : 해외 VC로부터 20만 불 이상 투자를 유치하고 해외 법인 설립·희망하는 업력 7년 이내 창업기업\\n- * 「중소기업창업 지원법」에 따른 신산업 분야([붙임4] 참조) 창업기업인 경우 업력 10년 기업까지 지원 가능\\n- 지원내용 :\\n|사업화자금 (최대 2억원, 평균 1.8억원)|현지진출 프로그램 등|\\n|---|---|\\n|시제품 제작, 지재권 취득, 사업모델 (BM) 개선 등에 소요되는 비용 지원|실무교육, 멘토링, 글로벌 네트워킹, 후속 투자유치 등 주관기관의 창업 프로그램 운영|\\n- 선정규모 : 20개사 내외\\n- 협약기간 : 협약시작일로부터 10개월 이내\\n- * 사업기간은 총 3년으로 선정 후, 1년 단위로 협약 연장', mimetype='text/plain', start_char_idx=None, end_char_idx=None, text_template='{metadata_str}\\n\\n{content}', metadata_template='{key}: {value}', metadata_seperator='\\n'),\n",
       " Document(id_='5a38df77-8506-4384-a9fd-04fb3ed9f2ee', embedding=None, metadata={}, excluded_embed_metadata_keys=[], excluded_llm_metadata_keys=[], relationships={}, text='# 2 신청자격 및 요건\\n\\n# □ 신청자격\\n\\n- ｢중소기업기본법｣ 제2조제1항에 따른 중소기업의 대표자이자, ｢중소기업창업 지원법｣ 제2조제2호 및 제3호에 따라 모집공고일 기준 창업 7년 이내인 창업기업 중,\\n- * 「중소기업창업 지원법」에 따른 신산업 분야([붙임4] 참조) 창업기업인 경우 업력 10년 기업까지 지원 가능\\n- - 해외 VC로부터 20만 불 이상 투자를 유치하고, 해외법인 설립*·희망 하는 국내 창업기업\\n- * 사업에 참여한 창업기업은 ① 신청 시 해외 법인 설립(단, 사업공고일 기준 3년 이내), ② 미설립 시 1차년도 협약기간 종료 시까지 해외법인 등 설립\\n\\n# < 신청 자격 세부 조건 >\\n\\n# ▶ 창업기업 : (신청가능 업력, 창업 7년 이내 기준) 2017.5.8. ~ 2024.5.7.\\n\\n- • ‘사업을 개시한 날’ 기준\\n- - - 개인사업자  : 사업자등록증 상 ‘개업일’ 기준\\n- - 법인사업자  : 법인등기부등본 상 ‘법인설립등기일’ 기준\\n\\n• 다수의 사업자등록증(개인, 법인)을 보유한 경우, 창업인정 기준에 따라 신청자격 적합 여부 결정 ([붙임1] 창업여부 기준표 참고하여 신청 전 창업여부 필히 확인)\\n- * 동 사업에 신청하는 사업자 기준으로 이전에 개시한 사업자(개인, 법인)와의 창업 여부 확인 필수\\n- • 공동대표 또는 각자대표로 구성된 기업의 경우, 대표자 전원이 ‘신청자격’에 해당되고, ‘신청 제외 대상’에 해당되지 않아야 함\\n- • 업력, 지분구조 등 창업기업 여부 확인 추가 진행될 수 있음(해외VC가 모집공고일 기준으로 지분 보유 등의 사실을 유지해야함)\\n- • 본점과 지점이 있는 경우 본점 사업자로만 신청 가능하며, 중복 신청한 경우 본점을 기준으로 요건검토 예정\\n\\n# ▶ 해외VC (투자사)\\n\\n1. ① 해외VC 요건(필수)\\n2. - • 해외VC의 본사 소재지가 ‘한국’이 아닌 ‘국외’\\n- • 해외VC의 소재지는 요건검토 시 적정 여부 판단\\n- • 모집공고일 기준으로 최근 3년 이내(2021.5.8. ~ 2024.5.7.)의 해외펀드 운용 실적 보유\\n- • 전문인력 (벤처캐피탈 및 액셀러레이터 등 투자 관련 경력 2년 이상) 1명 이상 보유\\n- • (우대) ‘한국’ 지사·사무소 보유 또는 글로벌 펀드 출자 VC\\n\\n② 투자유치 조건(투자방식은 요건 검토 시 적정 여부 판단)', mimetype='text/plain', start_char_idx=None, end_char_idx=None, text_template='{metadata_str}\\n\\n{content}', metadata_template='{key}: {value}', metadata_seperator='\\n'),\n",
       " Document(id_='9cb4ab78-6d25-4648-b5db-40beb1429aae', embedding=None, metadata={}, excluded_embed_metadata_keys=[], excluded_llm_metadata_keys=[], relationships={}, text='# 신청 제외 대상 (사업 신청‧접수 마감일 기준)\\n\\n# ① 금융기관 등으로부터 채무불이행으로 규제 중인 자 (기업)\\n\\n#  < ① 조건 예외 대상 >\\n\\n1. 채무변제 완료 후 증빙이 가능한 자\\n2. 신용회복위원회 프리워크아웃 또는 개인워크아웃 제도, 새출발기금 제도를 통해 채무조정합의서를 체결한 자\\n3. 법원의 회생계획인가 또는 변제계획인가를 받은 자, 파산절차에서 면책결정이 확정된 자\\n4. 신용보증기금·기술보증기금의 ‘재도전·재창업 재기지원보증’ 또는 중소벤처기업진흥공단·신용회복위원회의 ‘재창업 자금지원’을 받은 자\\n\\n# ② 국세 또는 지방세 체납 중인 자 (기업)\\n\\n#  < ② 조건 예외 대상 >\\n\\n1. 국세징수법 제105조제1항에 따라 강제징수의 유예를 받은 자 또는 지방세징수법 제105조제1항에 따라 체납처분의 유예를 받은 자\\n2. 국세·지방세 등의 특수채무 변제 후 증빙이 가능한 자\\n\\n# ③ 중소기업창업지원법 시행령 제4조(창업에서 제외되는 업종)의 업종을 영위하고 있는 자(기업)\\n\\n# ④ 2024년 중소벤처기업부 및 타 중앙정부‧공공기관의 ‘글로벌 창업지원사업’에 선정되어 사업을 수행 중인 자(기업)\\n\\n※ 중단 (중단처분·중도포기자) 포함\\n\\n* 창업지원사업 : 「2024년 창업지원사업 통합공고」 내 중앙부처가 운영하는 ‘글로벌’ 유형 창업지원사업 중 해외진출 및 사업화를 위한 시제품 제작비, 마케팅비 등 소요되는 자금을 (예비)창업자에게 지원하는 사업 ([붙임 3] 참조)\\n\\n** 동일년도 2개 이상의 글로벌 창업 지원사업에 중복 선정되는 경우, 각 사업의 협약 체결일 이전에 반드시 1개의 사업을 선택하여야 하며, 최초 협약을 체결한 1개의 사업만 수행 가능함\\n\\n*** 단, 2024년 글로벌 창업 지원사업이 아닌 경우 또는 지자체 지원사업은 협약 시작·종료일 등 협약 잔여기간에 관계없이 신청 가능\\n\\n# ⑤ 중소벤처기업부 창업지원사업에 참여 제한으로 제재 중인 자 (기업)\\n\\n# ⑥ 동 사업에 신청하는 사업자가 휴‧폐업 중인 자 (기업)\\n\\n# ⑦ 창업진흥원이 지정한 은행 계좌 (사업비 계좌) 개설 및 거래가 불가한 자 (기업)\\n\\n* 「특정 금융거래정보의 보고 및 이용 등에 관한 법률」 제5조의2제①항 및 가상통화 관련 자금세탁방지 가이드라인에 따라, 금융정보분석원의 신고‧등록이 되지 않은 자 (블록체인 기반 암호화 자산 매매 및 중개업, 가상화폐 거래소업, 가상화폐 개발업, 가상화폐 거래소 투자 및 자문업 등)\\n\\n# ⑧ 2024년 동 사업 주관기관의 전담조직의 장, 전담/겸직인력으로 참여 중 또는 참여 예정인 자\\n\\n# ⑨ 접수마감일 기준 중소벤처기업부로부터 등록 취소된 투자자로부터 투자받은 자(기업)\\n\\n# ⑩ 「근로기준법」에 따라 고용노동부가 공개하는 체불사업주 명단에 포함된 자 (기업)\\n\\n# ⑪ 「보조금 관리에 관한 법률」 제31조의2(보조사업 수행 배제 등)에 따라 수행대상에서 배제된 자(기업)\\n\\n# ⑫ 기타 중소벤처기업부 장관이 참여를 제한할 정당한 사유가 있다고 인정하는 자 (기업)', mimetype='text/plain', start_char_idx=None, end_char_idx=None, text_template='{metadata_str}\\n\\n{content}', metadata_template='{key}: {value}', metadata_seperator='\\n'),\n",
       " Document(id_='4c898d80-0c5a-43e5-824f-f2ce111e69cf', embedding=None, metadata={}, excluded_embed_metadata_keys=[], excluded_llm_metadata_keys=[], relationships={}, text='# 의무 및 역할\\n\\n- 선정자는「중소기업창업 지원사업 운영요령」 및 「창업사업화 지원사업 통합관리지침」, 「동 사업 세부관리기준」, 협약서 등의 사항을 준수하며, 사업 완수를 위해 최선의 노력을 다하여야 함\\n- 지침 및 기준 등은 선정자를 대상으로 별도 안내 예정\\n- 선정자는 사업계획서에 명시된 사업화 목표 달성을 위하여 사업 계획을 성실히 이행하여 완수하여야 함\\n- 선정자는 적법한 방법과 절차를 통해 정부지원사업비를 지급받아 정부지원사업비를 지급 목적에 맞게 사용하여야 함\\n- 선정자는 창업진흥원과 주관기관이 요청하는 자료 제출, 점검 및 평가 등에 성실히 응하여야 함\\n- 선정자는 협약종료일로부터 5년간 이력 관리 등에 필요한 제반 요청사항에 성실히 응하여야 함\\n- 선정자는 사업비 오·유용, 부정·불법집행의 사전예방을 위한 정기 교육 및 보수교육에 참석하여야 하며, 미참석 시 특별 점검을 실시할 수 있음\\n- 지침 및 세부관리기준 변경 등으로 인한 추가 교육\\n- 선정자는 자기부담사업비(현금)를 창업진흥원이 정한 기한 내에 지정한 계좌에 입금하여야 하며, 현물 투입이 있는 경우 해당 증빙 자료를 구비하여 주관기관에 제출하여야 함\\n- 창업기업이 법인인 경우 사업 운영과 사업비 관리 책임은 법인에 있으며, 사업비의 유용·횡령·편취 등 부적정 사용에 대한 사업비 환수 시 모든 책임은 창업기업 대표(선정자)에게 있고, 지침 및 기준 등에 따라 제재 및 채권추심 등의 조치를 취할 수 있음', mimetype='text/plain', start_char_idx=None, end_char_idx=None, text_template='{metadata_str}\\n\\n{content}', metadata_template='{key}: {value}', metadata_seperator='\\n'),\n",
       " Document(id_='fc2d67de-49d1-47a4-9bcf-40f9b2d96c62', embedding=None, metadata={}, excluded_embed_metadata_keys=[], excluded_llm_metadata_keys=[], relationships={}, text='# 3 지원내용\\n\\n□ 협약기간  : 협약시작일로부터 10개월 이내\\n\\n* 사업기간은 총 3년으로 선정 후, 1년 단위로 협약 연장\\n\\n□ 지원내용  : 사업화 자금 및 글로벌 현지진출 프로그램 등\\n\\n|구분|지원 세부 내용| | | | |\\n|---|---|---|---|---|---|\\n|사업화 자금|최대 2억원 (평균 1.8억원) 지원| | | | |\\n| |* 선정평가 결과에 따라 사업화 자금 (정부지원사업비) 차등 지원| | | | |\\n|< 총사업비 구성 및 예시 (정부지원사업비 1억 8,900만원인 경우) >|< 총사업비 구성 및 예시 (정부지원사업비 1억 8,900만원인 경우) >| | | | |\\n|총 사업비(예시)|정부지원사업비|창업기업 자기부담사업비| | | |\\n| |현금|현물| | | |\\n|사업화 자금|100%|총사업비의 70% 이하|총사업비의 10% 이상|총사업비의 20% 이하| |\\n|2.7억원|(100%)|(70%)|(10%)|(20%)| |\\n| |* 총 사업비 = 정부지원사업비 70% 이하 + 자기부담사업비 30% 이상| | | | |\\n| |** 자기부담사업비 (30% 이상) : 현금 10% 이상 + 현물 20% 이하| | | | |\\n|*** 현물은 창업기업 대표자 본인 및 사업화 수행에 직접 참여하는 고용 인력의 인건비, 사무실 임차료, 보유 기자재 등으로 부담| | | | | |\\n\\n• 현지진출 관련 실무교육 및 멘토링, 글로벌 네트워킹 등\\n\\n|프로그램(예시)|지원내용|\\n|---|---|\\n|현지진출 실무교육|• 진출국가별 창업 트렌드 및 진출 전략, 글로벌 VC의 투자 동향, IR피칭 스킬 등 교육|\\n|창업 선배기업 멘토링|• 현지진출 선배기업 특강 및 상담 등을 통한 경험을 공유하고, 1:1 멘토링 추진|\\n|글로벌 네트워킹|• 현지 진출기업 및 협업 파트너와 만남의 장을 마련하여 정보 교류 및 협업 방안 모색|\\n|후속 투자유치|• 글로벌 투자자 등이 참여하는 밋업데이, IR개최 등 해외 후속 투자유치 기회 제공|\\n', mimetype='text/plain', start_char_idx=None, end_char_idx=None, text_template='{metadata_str}\\n\\n{content}', metadata_template='{key}: {value}', metadata_seperator='\\n'),\n",
       " Document(id_='e0269eba-5d8b-4bd4-b2ea-d57aa8421252', embedding=None, metadata={}, excluded_embed_metadata_keys=[], excluded_llm_metadata_keys=[], relationships={}, text='# 4 신청 및 접수\\n\\n# □ 신청 ‧ 접수 기간\\n\\n◦ 접수기간  : 2024. 5. 7.(화) ~ 5. 28.(화), 16:00까지\\n\\n* 접수 현황에 따라 추가 모집 진행할 수 있음\\n\\n# 유의 사항\\n\\n1. 신청 마감일에는 문의 및 접속이 원활하지 않을 수 있으므로, 마감일 2~3일 이전에 ‘K-Startup 누리집’ 가입 및 사업 신청을 미리 진행하는 것을 권장 (“제출완료” 이후에도 신청 마감일시 전까지 수정 가능)\\n2. * 신청‧접수는 16:00 정각에 종료 (신규 신청 불가). 다만, 16:00 전에 1단계(약관동의) 후 신청서 작성 단계에 진입하여 과제번호를 부여받은 경우, 18:00까지 작성 항목 수정 또는 사업계획서 추가 업로드 등 가능\\n3. ‘제출완료’ 버튼을 클릭해야 접수 신청이 완료됨\\n4. 온라인으로만 신청이 가능하고, 신청 마감일 18시 이후에는 사업계획서 등 일체 내용 수정 및 삭제 불가\\n\\n# □ 신청방법\\n\\n◦ K-Startup 누리집 온라인 신청‧접수 (www.k-startup.go.kr)\\n\\n- 신청‧접수 시, K-Startup 누리집을 통해 ①실명인증 및 ②기업인증을 실시하여야 하며, 사전에 누리집 가입 및 실명인증 필요\\n\\n* 실명인증 : 서울신용평가정보(SCI)를 통한 개인 실명인증 진행 (외국인, 개명인, 미성년자 등 실명 정보가 등록되어 있지 않은 경우, 사전 실명 등록 및 적용 절차 진행 필수, 실명 등록에 최대 3일까지 소요될 수 있음)\\n\\n** 기업인증 : 공동인증서(기업용), 금융인증서, SCI기업실명인증, 국세청사업자 확인 중 택1\\n\\n*** 온라인 사업신청과 관련한 자세한 사항은 [별첨 3] 사업신청 매뉴얼 참고\\n\\n# 유의 사항\\n\\n1. 사업 신청은 반드시 창업기업 대표자 본인이 신청하여야 하며, 타인이 신청하는 경우 탈락 처리\\n2. K-Startup 누리집 신규 가입 시, 아이핀 또는 휴대폰 개인인증을 통한 본인 인증 필수. 서울신용평가정보(SCI)에 실명(개명)정보가 등록되어 있지 않아 실명 확인이 불가한 경우 K-Startup 누리집 가입 및 사업 신청이 제한되므로 유의', mimetype='text/plain', start_char_idx=None, end_char_idx=None, text_template='{metadata_str}\\n\\n{content}', metadata_template='{key}: {value}', metadata_seperator='\\n'),\n",
       " Document(id_='9e3ce700-1247-492b-9aa7-7d7bdb13539a', embedding=None, metadata={}, excluded_embed_metadata_keys=[], excluded_llm_metadata_keys=[], relationships={}, text='# 제출서류\\n\\n|제출서류|제출 방법|유의 사항|\\n|---|---|---|\\n|① 사업신청서|온라인 입력| |\\n|② 사업계획서| | |\\n|③ 해외VC 추천서(영문)| |* 해외법인 미설립 창업기업|\\n|④ 법인등기부등본 및 사업자등록증| |* 해외법인 설립 창업기업은 관련 증빙 포함 제출|\\n|⑤ 투자계약서‧투자금 납입내역| | |\\n|⑥ 주주명부|온라인시스템|(K-startup) 업로드|\\n|⑦ 청렴서약서| | |\\n|⑧ 사실증명(총 사업자 등록내역)| |※ 사업계획서 외 다른 서류는|\\n|⑨ 사업자등록증명원(신청기업 외 다른 ‘계속’ 사업자 보유 시)| |파일 첨부 회사명.zip’ (PDF) 으로 압축 후 제출|\\n|⑩ 휴‧폐업사업사실증명원(‘휴‧폐업’ 사업자 보유 시)| |* 제출서류의 용량 합계는 최대 30MB 초과 불가|\\n|⑪ (해당시) 기타 가점 관련 증빙서류 등| | |\\n\\n# 기타 가점 인정 세부 항목\\n\\n1. ① 팁스 성공 기업 (프리, 시드 포함)\\n2. ② 글로벌 지원사업 (글로벌액셀러레이팅, 글로벌창업사관학교, 해외실증(PoC), KSC 등) 성공(졸업) 기업\\n3. ③ 전략 기술분야 (소재‧부품‧장비, 10대 초격차 분야) [붙임5]\\n4. ④ (해외VC) ‘해외 VC글로벌’ 펀드(한국벤처투자 출자) 투자자\\n5. ⑤ (해외VC) 국내 지사·사무소 보유 여부\\n6. ⑥ (해외VC) 투자전략 및 지원계획 발표\\n\\n# 기타 주의사항\\n\\n- * 사업계획서 양식 : “[별첨1] 사업계획서 서식” 참조\\n- ** 해외VC 추천서 : “[별첨2] 증빙서류 제출목록” 참조\\n- *** 반드시 동 사업의 사업계획서 양식을 활용 (그 외 양식 제출 시 평가대상에서 제외)\\n- **** 가점 관련 증빙서류는 사업신청 시 제출하며, 미제출 시 가점 불인정\\n- ***** 창업기업 여부 확인을 위하여 추가적인 서류를 요청할 수 있으며, 기존에 발급받은 ‘창업기업 확인서’ 보유 시 해당 서류로 확인 대체 가능(단, 사업공고일 기준 확인서 상의 유효기간이 경과되지 않았어야 함)', mimetype='text/plain', start_char_idx=None, end_char_idx=None, text_template='{metadata_str}\\n\\n{content}', metadata_template='{key}: {value}', metadata_seperator='\\n'),\n",
       " Document(id_='f57e0554-6945-4438-90aa-aaeb2eb6ba67', embedding=None, metadata={}, excluded_embed_metadata_keys=[], excluded_llm_metadata_keys=[], relationships={}, text='# 5 평가 및 선정\\n\\n□ 평가 절차 : 총 2단계 평가 (서류 + 발표(현장실사))를 통해 최종 선정\\n\\n* 선정평가 운영 및 평가 일정, 평가 결과 등은 주관기관에서 안내 예정\\n\\n# 창업기업 선정평가 절차(안)\\n\\n|① 요건검토|② 서류평가|③ 발표평가|④ 최종 선정|\\n|---|---|---|---|\\n|자격기준 검토 및|제출한 사업계획서|창업기업 대표자|선정 확정 및|\\n|서류평가 대상자|토대로 서면 평가|발표 및 질의응답|정부지원사업비|\\n|확정| |심의 후 최종 공고| |\\n\\n~’24.6.7 예정 ’24.6.12~6.13 ’24.6.18.~6.20 ’24.7월.예정\\n\\n신청기업 요건검토는 창업진흥원 및 주관기관에서 상시 진행하며, 선정‧협약 이후에도 신청자격 미충족 등이 확인되는 경우 탈락 처리 예정\\n\\n※ 상기 일정은 신청기업의 수 등 대내외사정에 따라 변경될 수 있음\\n\\n# □ 평가 방법\\n\\n1. 요건검토 : 창업기업의 신청자격 및 가점사항, 해외VC 요건 및 투자유치 금액 등 검토 (투자적절성심의위원회) 및 적격여부 판단\\n2. 서류평가 : 신청서류를 바탕으로 중장기 계획, 경쟁력 확보 방안, 창업기업 대표자(팀원) 및 파트너의 역량 등을 평가\\n3. 발표평가 : 해외진출 국가 현황, 현지화 가능성, 글로벌 성장전략, 팀 (기업) 구성 등 종합적으로 평가\\n\\n* 평가시간 : 30분 이내(발표 20분 이내 + 질의응답 10분 이내)\\n\\n** 평가방법 : 대면평가를 원칙으로 하되, 상황에 따라 온라인 평가로 변경 가능\\n\\n- 현장실사(필요시) : 사업계획서 및 투자계약 관련 서류에 대한 사실 여부 정밀 검토를 위한 현장실사를 통해 최종 지원대상 추천\\n\\n* 가장납입, 허위서류 등 제출자료 내용과 실사결과가 다른 경우, 선정대상에서 제외되며 후순위 기업을 대상으로 현장실사 실시', mimetype='text/plain', start_char_idx=None, end_char_idx=None, text_template='{metadata_str}\\n\\n{content}', metadata_template='{key}: {value}', metadata_seperator='\\n'),\n",
       " Document(id_='65299c98-6b56-426b-b955-403738ec12de', embedding=None, metadata={}, excluded_embed_metadata_keys=[], excluded_llm_metadata_keys=[], relationships={}, text='# 최종선정\\n\\n서류 및 발표평가 결과에 최종 가점을 합산하여 지원 대상자 선정\\n\\n- 지원 규모 내에서 최종 지원기업을 선정하고, 창업기업별 정부지원 사업비를 배정하여 최종 확정 공고\\n- 창업기업 선정평가 결과 및 사업비 사용계획 적정성 등을 종합 고려하여 차등 배정\\n- 평가위원회에서 현장 확인이 필요하다고 판단되는 창업기업에 대해 주관기관 혹은 전담기관이 별도 현장실사를 진행할 수 있음\\n- 선정평가 결과 창업기업 역량이 본 사업 운영목적 및 요건에 적합하지 않을 경우 선정 예정규모 보다 적게 선발할 수 있음\\n\\n# 평가지표\\n\\n창업기업의 문제인식, 현지화 가능성, 글로벌 성장전략, 팀(기업) 구성 등 보유 역량 등을 종합적으로 평가\\n\\n주관기관 선정 규모와 관계없이, 평가 단계별 취득점수가 60점 미만일 경우 선정 대상에서 제외\\n\\n# 서류‧발표 평가지표 주요내용(안)\\n\\n|평가항목|서류평가|발표평가|\\n|---|---|---|\\n|문제인식|• 중장기 현지진출 계획 및 이행전략 • 글로벌 진출 동기 등|• 현지진출 타겟 국가 시장 현황 • 창업아이템 현지진출 필요성 등|\\n|실현가능성|• 창업아이템 개선/전환(Pivot) 방안 • 현지화 추진계획 및 차별화전략 등|• 현지 진출 계획에 따른 실행방안 • 구체적 현지사업화 실현 계획 등|\\n|성장전략|• 현지법인 설립 및 투자유치 전략 • 글로벌 경쟁력 확보 방안 등|• 해외VC의 기업육성 등 관리계획 • 해외자금 등 추가 조달 방안 등|\\n|팀(기업)구성|• 대표자 및 고용 인력이 보유한(예정인) 글로벌 역량과 현지화 노하우 등| |\\n', mimetype='text/plain', start_char_idx=None, end_char_idx=None, text_template='{metadata_str}\\n\\n{content}', metadata_template='{key}: {value}', metadata_seperator='\\n'),\n",
       " Document(id_='69943bdd-c3f6-45bd-a864-85bd7410dee3', embedding=None, metadata={}, excluded_embed_metadata_keys=[], excluded_llm_metadata_keys=[], relationships={}, text='# 서류 및 발표평가 결과에 최대 5점까지 가점 부여\\n\\n|가점 세부 항목|점수|비고|\\n|---|---|---|\\n|① 팁스 성공 기업 (프리, 시드 포함)|1점| |\\n|② 글로벌 지원사업 (글로벌액셀러레이팅, 글로벌창업사관학교, 해외실증 (PoC), KSC 등) 성공(졸업) 기업|1점| |\\n|③ 전략 기술분야 (소재‧부품‧장비, 10대 초격차 분야) [붙임5]|1점|최대 5점|\\n|④ (해외VC) ‘해외 VC글로벌’ 펀드(한국벤처투자 출자) 투자자|1점| |\\n|⑤ (해외VC) 국내 지사·사무소 보유 여부|1점| |\\n|⑥ (해외VC) 투자전략 및 지원계획 발표**|1점| |\\n\\n* 항목 ①, ② : 창업기업의 별도 서류 제출 없이 전담기관에서 여부 확인 예정\\n\\n** 항목 ④ : 창업기업의 별도 서류 제출 없이 주관기관에서 여부 확인 예정\\n\\n*** 해외 VC의 후속 투자전략 및 지원계획 현장(온라인ZOOM 등) 발표 시 가점 반영\\n\\n# 사업 운영일정\\n\\n※ 세부 일정은 대내‧외 사정에 의해 변경될 수 있음\\n\\n|공 고|창업기업 신청 ‧ 접수|요건검토 및 선정평가|\\n|---|---|---|\\n|ð|중소벤처기업부 K-Startup 누리집|창업진흥원, 주관기관|\\n|’24.5.7.(화)|’24.5월|’24.5~6월|\\n|협약체결 및 사업비 지급|협약 준비|선정 공지|\\n|ï|(자가부담사업비 입금 등)| |\\n|창업기업, 주관기관, 창업진흥원|창업기업|주관기관|\\n|’24.7월~|’24.7월|’24.7월|\\n|사업수행|수시점검 (필요시)|최종보고 및 점검|\\n|ð|창업기업|창업기업, 주관기관|\\n|협약일로부터 10개월|수시|협약종료 시점|\\n', mimetype='text/plain', start_char_idx=None, end_char_idx=None, text_template='{metadata_str}\\n\\n{content}', metadata_template='{key}: {value}', metadata_seperator='\\n'),\n",
       " Document(id_='fae839ba-706d-4480-bf0e-b8bcd720cc8e', embedding=None, metadata={}, excluded_embed_metadata_keys=[], excluded_llm_metadata_keys=[], relationships={}, text='# 6 유의사항\\n\\n◈ 창업지원사업에 신청하는 창업기업은 관련 법령에 따라 다음 사항에 유의하여야 합니다.\\n\\n1. 동 사업은 창업활동에 필요한 사항을 정부가 지원하는 사업으로, 다른 용도의 사업비 사용 또는 거짓 신청, 부정한 방법으로 정부지원사업비를 지원받은 경우 “형법”, “공공재정 부정청구 금지 및 부정이익 환수 등에 관한 법률”, “보조금 관리에 관한 법률”, “창업사업화 지원사업 통합관리지침” 등에 따라 형사처벌 또는 정부 지원사업비 전액 환수 및 창업사업화 지원사업 참여제한 등의 대상이 될 수 있습니다.\\n2. 동 사업비의 부정수급을 행할 경우 부정 사용금액을 포함하여 반환금액의 최대 5배 수준의 제재부가금이 부과될 수 있습니다.\\n3. 사업계획서 등을 타인이 대신 작성하여 제출하는 경우, 작성자(대필자)와 신청자(대표자, 창업기업) 등 관련자 전원이 사기 또는 업무방해죄 등으로 처벌될 수 있습니다.\\n4. 중소벤처기업부는 “국고보조금 통합관리지침” 제32조, “공공재정 부정청구 금지 및 부정이익 환수 등에 관한 법률”에 따라 고의, 거짓 등의 방법으로 부정수급을 행한 사실이 있다고 사료되는 경우 해당자를 고발 조치 할 수 있습니다.\\n\\n# □ 신청 시 유의사항\\n\\n# 【창업기업 대표자】\\n\\n- 동 사업 신청은 해당 창업기업의 대표자가 하여야 하며, 동 사업 신청자가 사업계획서 등 제출서류 상의 신청자와 일치하지 않을 경우 평가대상 제외 및 탈락 처리되거나 추후 발견 시 선정 및 협약 취소될 수 있음\\n- 동 사업 신청자가 공고문 및 관련규정 등에 위배되거나, 참여 신청서 및 사업계획서 내용을 허위 기재, 도용, 누락한 경우 평가 대상에서 제외될 수 있음\\n- 고의 또는 과실로 타인의 사업계획서를 모방·표절하거나 도용하여 신청하는 경우, 중소벤처기업부 (창업진흥원 등) 창업 지원사업 참여 제한(3년) 및 정부지원사업비 전액 환수 등의 제재조치가 취해짐', mimetype='text/plain', start_char_idx=None, end_char_idx=None, text_template='{metadata_str}\\n\\n{content}', metadata_template='{key}: {value}', metadata_seperator='\\n'),\n",
       " Document(id_='4a019b7d-c207-4aed-a936-4b51e6c6ad14', embedding=None, metadata={}, excluded_embed_metadata_keys=[], excluded_llm_metadata_keys=[], relationships={}, text='* 합의 하에 공동 작성한 동일‧유사 사업계획서로 선정된 경우일지라도, 공동작성자 모두 타인의 사업계획서를 모방‧표절하거나 도용하여 신청함으로 판단하여 동일하게 평가대상 제외, 선정취소, 참여제한 등 제재를 받을 수 있음\\n\\n동일·유사 여부의 판단은 본 공고에 따른 신청에만 국한되지 않고 창업진흥원이 수행하는 모든 창업지원사업에 제출된 사업계획서를 대상으로 함\\n\\n- ’24년도 중소벤처기업부 및 타 중앙정부·공공기관의 글로벌 창업 지원 사업과 동시수행(협약체결) 불가\\n- (주의) 2개 이상 사업의 모집공고 기간이 겹쳐 중복 선정되는 경우, 반드시 1개의 사업을 선택하여야 하며, 최초 협약을 체결한 1개의 사업만 수행 가능\\n- 공동대표 또는 각자대표로 구성된 창업기업의 경우 대표자 전원이 신청자격에 해당하고, 신청 제외 대상에 해당하지 아니하여야 함\\n\\n* 선정 완료 후 공동대표 또는 각자대표에 대한 신청자격을 재검토하여 신청 제외 대상으로 확인되는 경우, 참여제한 및 정부지원사업비 환수 등의 조치를 받을 수 있음\\n\\n- 공동대표 또는 각자대표로 구성된 창업기업의 경우 대표 중 한 명으로 회원가입 및 사업신청 진행\\n- 공동대표 또는 각자대표의 경력, 이력 등 사업계획서에 제시된 사항을 모두 기재하여야 하며, 공동대표 또는 각자대표에 대한 신청자격 및 지원제외 대상여부 확인을 위하여 관련 증빙자료를 필히 제출\\n\\n◦ 신청‧접수 제한 시간까지 사업 신청을 완료한 자에 한하여 평가에 참여 가능\\n\\n【창업사업통합정보관리시스템(PMS) 작성】\\n\\n- 과제명은 사업계획서 내 과제명과 동일하여야 하며, 회원 기본정보에서 소속기업은 ‘현재’ 소속기업명으로 기재\\n- * 이전 소속기업으로 사업신청 시, 사업신청 불인정\\n- 신청 가능한 가점을 반드시 모두 선택\\n- 사업 신청자는 채무불이행 여부 등 신용조회에 동의한 것으로 간주', mimetype='text/plain', start_char_idx=None, end_char_idx=None, text_template='{metadata_str}\\n\\n{content}', metadata_template='{key}: {value}', metadata_seperator='\\n'),\n",
       " Document(id_='25710062-68a1-49b0-8c3c-d520df48621b', embedding=None, metadata={}, excluded_embed_metadata_keys=[], excluded_llm_metadata_keys=[], relationships={}, text='# 사업계획서 작성\\n\\n- 중장기 사업수행 계획은 총사업 기간(3년)에 맞추어 작성하며, 상세 사업수행 계획은 협약기간에 맞추어 작성\\n- 중장기 사업수행계획 + 1년차 상세 사업수행계획 + 2년차 목표\\n- 증빙서류는 공고일 이후 발급된 증빙서류를 준비하여 제출\\n- 법인등기부등본(말소사항 포함), 사업자등록증, 4대사회보험 사업장 가입명부 등\\n- 4대사회보험 사업장 가입명부는 발급가능한 4대사회보험 서류(국민연금 사업장 가입자 명부, 고용보험 사업장 자격취득자 명부 등)만 인정\\n- ‘소재·부품·장비’, ‘스타트업 10대 초격차’ 산업분야* 가점 신청 시 사업계획서에 분야 및 품목(분류)명 모두 기재\\n- [붙임5] 소재·부품·장비 및 스타트업 10대 초격차 분야 참조\\n\\n# 평가 중 유의사항\\n\\n- 공고문 및 관련 규정에 위배되거나, 사업계획서의 내용을 허위 기재 또는 누락이 확인된 경우, 평가 대상 제외 등의 불이익이 있을 수 있음\\n- 전 평가 과정에 창업자(팀) 본인(대표), 창업기업대표가 직접 참여 하여야 하고, 불참 시 선정대상에서 제외될 수 있음\\n- 신청자격 관련 증빙서류 미제출 등의 사유로 인한 신청자격 확인 불가 시 평가대상에서 제외하며, 가점 관련 증빙서류 미제출시 가점 부여 대상에서 제외함\\n- 평가 관련 이의신청은 결과 통보일로부터 7일 이내(통보일 기산, 휴일포함) 1회에 한하여 평가를 운영한 주관기관에 신청 가능\\n- 주관기관은 평가과정의 공정성 등을 확인하기 위하여 창업기업 대표자의 동의하에 발표평가 전 과정을 녹음 또는 녹화할 수 있음', mimetype='text/plain', start_char_idx=None, end_char_idx=None, text_template='{metadata_str}\\n\\n{content}', metadata_template='{key}: {value}', metadata_seperator='\\n'),\n",
       " Document(id_='05f9064b-695a-400c-b9fc-0c7513bb4e4d', embedding=None, metadata={}, excluded_embed_metadata_keys=[], excluded_llm_metadata_keys=[], relationships={}, text='# 선정 후 유의사항\\n\\n- 동 사업에 선정된 자가 공고문 및 관련 규정에 위배되거나, 사업 계획서의 내용을 허위 기재 또는 누락이 확인된 경우, 선정 또는 협약취소, 중소벤처기업부 창업지원사업 참여제한 및 정부지원 사업비 환수 등의 조치를 받을 수 있음\\n- 선정자는 동 공고문 및 「중소기업창업 지원사업 운영요령」, 「창업사업화 지원사업 통합관리지침」,「동 사업 세부 관리기준」, 창업진흥원‧주관기관의 안내자료를 준수하여야 하며, 이를 미숙지 하여 발생하는 불이익 및 그에 따른 책임은 동 사업을 신청한 선정자에게 있음\\n- 선정 이후라도 선정자에 대한 신청자격 및 사업계획의 유사성 등을 재확인하여 요건 불충족 사항이 확인되는 경우 선정 또는 협약취소, 정부지원사업비 환수 및 참여제한 등의 제재가 있을 수 있음\\n- 정부지원사업비는 협약 후 분할하여 지급될수 있으며 ‘창업사업 통합정보관리시스템’을 통해 총 사업비가 관리·운영됨\\n- 동 사업의 수시‧최종 점검 결과에 따라 창업기업 사업지원 중단 또는 동 사업의 정부지원사업비 환수 등의 제재조치가 있을 수 있음\\n- 협약기간 중 대표자와의 연락두절 등 그 기간이 2주 이상 유지되어 부재가 발생하는 경우 관련 지침에 따라 선정취소 또는 협약 해약, 참여제한 및 정부지원사업비 환수 등의 제재가 있을 수 있음\\n- 창업진흥원과 주관기관은 선정된 창업기업의 사업비 횡령, 편취 등 용도 외 사업비 집행으로 인한 환수조치 발생 시, 채권추심 등의 행정 행위를 취할 수 있음\\n- 협약기간 내 대표자 변경 시 협약취소 등 제재조치가 있을 수 있음', mimetype='text/plain', start_char_idx=None, end_char_idx=None, text_template='{metadata_str}\\n\\n{content}', metadata_template='{key}: {value}', metadata_seperator='\\n'),\n",
       " Document(id_='fc583db9-de0c-4958-b602-3b6c3d057ca9', embedding=None, metadata={}, excluded_embed_metadata_keys=[], excluded_llm_metadata_keys=[], relationships={}, text='◦ 선정자는 창업진흥원이 지정한 은행 계좌 (사업비계좌) 개설 및 창업 사업통합관리시스템을 통한 사업비 지출 (회계처리)이 가능하여야 함\\n\\n* 지정 은행(신한은행)의 계좌개설 및 거래가 불가한 자의 경우 선정이 취소될 수 있음\\n\\n◦「특정 금융거래정보의 보고 및 이용 등에 관한 법률」제5조의2 ①항 및 가상통화 관련 자금세탁방지 가이드라인에 따라, 금융회사로부터 계좌개설 불가 등의 금융거래 제한사항이 있는 경우 협약체결 및 사업화 지원이 불가함\\n\\n# 7 사업 신청 문의\\n\\n□ 문의처\\n\\n◦ (시스템 문의) 국번 없이 1357\\n\\n◦ (사업 문의) 주관기관 및 통합콜센터\\n\\n|구 분|담당 기관|전화번호|\\n|---|---|---|\\n|주관기관|한국벤처투자 글로벌투자2팀|02-2156-2469|\\n|글로벌 팁스| |02-2156-2181|\\n|전담기관|창업진흥원 민관협력팀|(국번없이) 1357|\\n|사업신청 및 시스템 문의|중소기업 통합 콜센터|(국번없이) 1357|\\n\\n프로그램 홈페이지: www.k-startup.go.kr', mimetype='text/plain', start_char_idx=None, end_char_idx=None, text_template='{metadata_str}\\n\\n{content}', metadata_template='{key}: {value}', metadata_seperator='\\n'),\n",
       " Document(id_='ce0752f8-8692-4be9-ab03-a09d3bcfb2ca', embedding=None, metadata={}, excluded_embed_metadata_keys=[], excluded_llm_metadata_keys=[], relationships={}, text='# 붙임1 창업기업 확인에 관한 유의사항\\n\\n# □ 창업의 범위\\n\\n- 다음의 요건을 모두 충족하는 기업\\n\\n# 제2조(창업의 범위)\\n\\n① 「중소기업창업 지원법」(이하 “법”이라 한다) 제2조제2호의 창업은 중소기업을 새로 설립하여 사업을 개시하는 것으로서 다음 각 호의 어느 하나에 해당하지 않는 것으로 한다.\\n\\n1. 타인으로부터 사업을 상속 또는 증여받은 개인이 기존 사업과 같은 종류의 사업을 개인인 중소기업자로서 개시하는 것\\n2. 개인인 중소기업자가 기존 사업을 계속 영위하면서 중소기업을 새로 설립하는 것으로서 다음 각 목에 해당하는 것\\n- 가. 개인인 중소기업자로 사업을 개시하는 것\\n- 나. 개인인 중소기업자가 단독으로 또는 「중소기업기본법 시행령」에 따른 친족과 합하여 의결권 있는 발행주식(출자지분을 포함한다. 이하 같다) 총수의 100분의 50을 초과하여 소유하거나 의결권 있는 발행주식 총수를 기준으로 가장 많은 주식의 지분을 소유하는 법인인 중소기업을 설립하여 기존 사업과 같은 종류의 사업을 개시하는 것\\n3. 개인인 중소기업자가 기존 사업을 폐업한 후 중소기업을 새로 설립하여 기존 사업과 같은 종류의 사업을 개시하는 것. 다만, 사업을 폐업한 날부터 3년(부도 또는 파산으로 폐업한 경우에는 2년을 말한다) 이상 지난 후에 기존 사업과 같은 종류의 사업을 개시하는 경우는 제외한다.\\n4. 법인인 기업이 의결권 있는 발행주식 총수의 100분의 50을 초과하여 소유하는 다른 법인인 중소기업을 새로 설립하여 사업을 개시하는 것. 이 경우 소유비율은 법인인 기업과 그 소속 임원이 소유하고 있는 주식을 합산하여 계산한다.\\n5. 법인의 과점주주(「국세기본법」 제39조제2호에 따른 과점주주를 말한다. 이하 이 조에서 같다)가 새로 설립되는 법인인 중소기업자의 과점주주가 되어 사업을 개시하는 것\\n6. 「상법」에 따른 법인인 중소기업자가 회사의 형태를 변경하여 변경 전의 사업과 같은 종류의 사업을 계속하는 것\\n\\n② 창업기업에 해당하는 개인인 중소기업자가 본인이 대표자가 되어 새로 설립하는 법인인 중소기업에 기존 사업에 관한 모든 권리와 의무를 포괄적으로 이전시킨 경우에는 그 법인은 기존 창업기업으로서의 지위를 승계한다.\\n\\n③ 제1항제1호, 제2호나목, 제3호 및 제6호에 따른 같은 종류의 사업의 범위는 「통계법」 제22조제1항에 따라 통계청장이 작성ㆍ고시하는 한국표준산업분류(이하 “한국표준산업분류”라 한다)상의 세세분류 기준에 따른다.\\n\\n④ 제1항 각 호의 기준에 관한 세부기준은 중소벤처기업부장관이 정하여 고시한다.', mimetype='text/plain', start_char_idx=None, end_char_idx=None, text_template='{metadata_str}\\n\\n{content}', metadata_template='{key}: {value}', metadata_seperator='\\n'),\n",
       " Document(id_='9730b0c9-29d9-4682-9574-7f6d9f1ad289', embedding=None, metadata={}, excluded_embed_metadata_keys=[], excluded_llm_metadata_keys=[], relationships={}, text='# 창업여부 기준표\\n\\n|신청기업구분|상세 구분|창업여부| |\\n|---|---|---|---|\\n|타인으로부터|기존 사업과 동종의 사업 개시|창업아님| |\\n|이종|창업| | |\\n|기존 개인사업자|-|창업아님| |\\n|개인기업|이종창업|폐업 3년 초과-|창업|\\n|기존 개인사업자|폐업 3년 까지|창업| |\\n|폐업|동종창업|부도/파산 – 2년 초과|창업아님|\\n| |부도/파산 – 2년 까지|창업아님| |\\n|기존 법인사업자|-|창업| |\\n|유지 또는 폐업|창업(사업을 개시한 날부터) 7년 이내| | |\\n|이종창업|-|창업| |\\n| |폐업 3년 초과|창업| |\\n|기존 개인사업자|동종창업|폐업 3년 까지|창업아님|\\n|폐업|부도/파산 – 2년 초과|창업| |\\n| |부도/파산 – 2년 까지|창업아님| |\\n|동종전환|포괄양수도 계약에 의한 법인전환|개인사업자의 창업자 지위승계| |\\n|이종창업|-|창업| |\\n|법인기업|단독 또는 친족과 합하여 의 결권 있는 발행주식 총수의|창업아님| |\\n| |동종창업 50% 초과 또는 최대주주| | |\\n| |단독 또는 친족과 합하여 의 결권 있는 발행주식 총수의 50% 이하이면서 최대주주 아님|창업| |\\n|자회사 여부|법인주주(임원 포함)가 의결권 있는 발행주식 총수의 50% 초과 소유|창업아님| |\\n|과점주주 여부|다른 법인의 과점주주가 발행주식 총수 또는 출자총액의 50% 초과 소유|창업아님| |\\n|회사형태 변경|동종유지|창업아님| |\\n| |이종|창업| |\\n\\n※ 포괄양수도 계약에 의한 법인전환 : 양도기업(기존 개인사업자) 개시일로부터 7년 이내인 창업기업 (창업여부 기준표에 따라 창업여부 판단)이고, 양도-양수기업 간 대표자 동일, 동종 업종, 양도기업 (기존 개인사업자) 폐업 완료, 양도기업의 권리‧의무의 전부를 포괄적으로 양도하여야 함\\n\\n※ 동종의 범위 : ‘한국표준산업분류(제10차)’를 기준으로 세세분류(코드번호 5자리)가 모두 일치하면 “동종”\\n\\n※ 과점주주 : 국세기본법 제39조제2호에 따른 해당 법인의 발행주식 총수 또는 출자총액의 100분의 50을 초과하면서 그 법인의 경영에 대하여 지배적인 영향력을 행사하는 자들\\n\\n※ 창업지원법 시행령 부칙 제2조(창업 범위의 변경에 관한 경과조치) : 이 영 시행(2024.3.15.) 전에 중소 기업을 새로 설립하여 사업을 개시하는 경우에 대한 창업의 범위에 관하여는 제2조제1항제4호의 개정 규정에도 불구하고 종전의 규정에 따름', mimetype='text/plain', start_char_idx=None, end_char_idx=None, text_template='{metadata_str}\\n\\n{content}', metadata_template='{key}: {value}', metadata_seperator='\\n'),\n",
       " Document(id_='e52b9ff9-8660-4122-8f14-c42c4ed0f014', embedding=None, metadata={}, excluded_embed_metadata_keys=[], excluded_llm_metadata_keys=[], relationships={}, text='# 붙임2    지원 제외 대상 업종\\n\\n▶ 중소기업창업지원법 시행령 제4조(창업에서 제외되는 업종)의 업종을 영위하고 있거나 또는 영위하고자 하는 자(기업)\\n\\n|연번|대상 업종|코드번호|세세분류|\\n|---|---|---|---|\\n|1|일반유흥주점업|56211| |\\n|2|무도유흥주점업|56212| |\\n|3|기타 사행시설 관리 및 운영업|91249| |\\n|4|그 밖에 1~3에 준하는 업종으로서 중소벤처기업부령으로 정하는 업종|-| |\\n\\n* 대상 업종의 세부사항은 제10차 한국표준산업분류코드(통계청, kssc.kostat.go.kr) 참고', mimetype='text/plain', start_char_idx=None, end_char_idx=None, text_template='{metadata_str}\\n\\n{content}', metadata_template='{key}: {value}', metadata_seperator='\\n'),\n",
       " Document(id_='dd285d73-6dba-4427-8b3b-386b596fecb7', embedding=None, metadata={}, excluded_embed_metadata_keys=[], excluded_llm_metadata_keys=[], relationships={}, text='# 붙임3 동시수행 불가한 글로벌 창업지원사업 목록\\n\\n※ ’24년도 중소벤처기업부 및 타 중앙정부·공공기관의 글로벌 창업 지원사업과 동시수행 (협약체결) 불가\\n\\n* (주의) 2개 이상 사업의 모집공고 기간이 겹쳐 중복 선정되는 경우, 반드시 1개의 사업을 선택하여야 하며, 최초 협약을 체결한 1개의 사업만 수행 가능\\n\\n# 2024년 동시수행 불가한 글로벌 창업지원사업 목록\\n\\n|연번|글로벌 창업지원사업명|소관 부처|\\n|---|---|---|\\n|1|글로벌 스타트업 육성 (글로벌 액셀러레이팅, 해외실증(PoC))|중소벤처기업부|\\n|2|K-스타트업 센터 사업|중소벤처기업부|\\n|3|선도기업 연계 해외진출 지원|문화체육관광부|\\n|4|관광 글로벌 선도기업 육성|문화체육관광부|\\n', mimetype='text/plain', start_char_idx=None, end_char_idx=None, text_template='{metadata_str}\\n\\n{content}', metadata_template='{key}: {value}', metadata_seperator='\\n'),\n",
       " Document(id_='eaa3d974-67aa-4a9a-9054-3306fa7b654e', embedding=None, metadata={}, excluded_embed_metadata_keys=[], excluded_llm_metadata_keys=[], relationships={}, text='# 신산업 창업 분야\\n\\n※ 「중소기업창업 지원법」 제25조 4항에 따라 신산업 창업 분야인 창업기업인 경우 업력 10년까지의 기업도 신청 가능\\n\\n* 신산업 창업 분야 창업기업 : 「신산업 창업 분야에 관한 규정」(중소벤처기업부 고시 제 2024-2호) [별표1]에 따른 신산업 창업 분야의 사업을 영위하는 창업기업\\n\\n→ 신산업 창업 분야 여부는 요건검토 및 선정평가, 최종선정 과정 등에서 검토하며, 해당 분야가 아닌 것으로 확인되는 경우 선정 취소 및 협약 해지 될 수 있음\\n\\n# 27개 신산업 창업 분야\\n\\n|인공지능|스마트 제조|드론·개인이동수단|\\n|---|---|---|\\n|빅데이터|시스템반도체|미래형 선박|\\n|5G+|자율주행차|재난/안전|\\n|블록체인|전기수소차|스마트시티|\\n|서비스플랫폼|바이오|스마트홈|\\n|실감형콘텐츠|의료기기|신재생에너지|\\n|지능형 로봇|기능성 식품|이차전지|\\n|CCUS(탄소포집·활용·저장)|우주|양자|\\n|자원순환 및 에너지 재활용|차세대 원전|사이버 보안|\\n', mimetype='text/plain', start_char_idx=None, end_char_idx=None, text_template='{metadata_str}\\n\\n{content}', metadata_template='{key}: {value}', metadata_seperator='\\n'),\n",
       " Document(id_='192ac66e-8c97-427d-9ecb-2e53916f3dce', embedding=None, metadata={}, excluded_embed_metadata_keys=[], excluded_llm_metadata_keys=[], relationships={}, text='# 붙임5 소재·부품·장비 및 스타트업 10대 초격차 분야\\n\\n☞ 품목별 시장 및 기술환경 등 세부 분석 자료는 중소기업 기술로드맵 홈페이지 (http://smroadmap.smtech.go.kr/) 참조 (※ 포털에서 “중소기업 기술로드맵” 검색)\\n\\n# □ 소재·부품·장비 분야(9개 분야, 113개)\\n\\n|전략분야|전략품목|\\n|---|---|\\n|발전용 연소 장치|압연부품|\\n|감속기|초경|\\n|기계금속 (14개)|량및고기능성을가지는금속기반이종접합 복·합소 재|\\n|정밀생산기계부품| |\\n| |지능형 플라스틱 사출 성형기|\\n|로봇용 서보모터|내열합금기반 부품 제조를 위한 진공 정밀주조 장치|\\n|베어링|FDM 방식 3D 프린팅 금속분말|\\n|산업용 누설 방지 부품|Fe-Si계 연자성 합금 분말|\\n|동력전달장치용 부품|폐이차전지 가공소재|\\n|유기섬유|친환경 분해성 소재|\\n|플루오린 레진|인공근육용 저온 상전이 소재|\\n|미래소재 (12개)|UV경화 수지|\\n|점접착제| |\\n|고부가 에폭시 수지| |\\n|고효율 단열재| |\\n|디스플레이용 증착 및 식각 장치 및 부품| |\\n|고유연·고경도 디스플레이용 소재| |\\n|고투명, 고경도 유무기 하이브리드 코팅 소재|디스플레이용 양자점 소재|\\n|마이크로 LED 디스플레이용 소재·부품|디스플레이용 광·전자기 세라믹|\\n|평판디스플레이 제조 로봇|플렉시블 디스플레이용 하드코팅 소재|\\n|박막봉지 소재/장치|실리콘 웨이퍼|\\n|반도체|전력(파워)반도체(Power IC)|\\n|반도체 노광 공정/장치| |\\n| |반도체 리페어 장치|\\n|반도체 측정/분석/검사 장치 및 부품| |\\n|반도체 증착 장치 및 부품| |\\n| |식각장치용 컨트롤러 및 센서|\\n|반도체 CMP 장치 및 부품| |\\n| |반도체 이온주입기|\\n|반도체 세정 장치 및 부품| |\\n| |반도체 이송 반송 모듈 및 장치|\\n|고효율 유무기 하이브리드 방열 소재| |\\n', mimetype='text/plain', start_char_idx=None, end_char_idx=None, text_template='{metadata_str}\\n\\n{content}', metadata_template='{key}: {value}', metadata_seperator='\\n'),\n",
       " Document(id_='ceea7b55-9e02-421d-a3f6-b49c58cba800', embedding=None, metadata={}, excluded_embed_metadata_keys=[], excluded_llm_metadata_keys=[], relationships={}, text='# 전략분야\\n\\n# 전략품목\\n\\n|수소 저장·운반용 복합 소재|4D FMCW 라이다 신호처리 소프트웨어|\\n|---|---|\\n|운전자 편의 시스템|EVITA secure 기반 보안 반도체 및 암호화 모듈|\\n|전장 및 제어·열관리 시스템|대형자동차용스퍼터링및아크하이브리드장치및전원장치|\\n|자동차|차량용 동력전달장치|\\n|(13개)|차량부품 경량화를 위한 발포 소재|\\n|엔진 주변 부품|자동차 중대형 부품용 DLC 코팅 공정 및 장비|\\n|조향 부품| |\\n|자동차용 복합소재| |\\n|차량용 지능형 반도체| |\\n|수동소자|광학부품 및 기기|\\n|MLCC|황화리튬 소재|\\n|이차전지용 파우치|초고전압용 세라믹 적층콘덴서(MLCC) 내부전극|\\n|전기·전자|이차전지 전극/전해액 첨가 소재|\\n|(12개)|초고밀도 충전어댑터용 평면용 트랜스포머|\\n|이차전지 분리막|전기차량용 직류전동기|\\n|RF부품| |\\n|통신용 전력증폭 소자| |\\n|바이오의약품 생산 정제 공정 시스템 및 부품|방사선 진단 장치|\\n|바이오의약품 생산 품질 분석 시스템|의료용 레이저 장치|\\n|바이오의약품 생산 품질 관리 시스템|초병렬적 합성 핵산 후처리 장치|\\n|바이오|바이오의약품 생산 배양시스템|\\n|(14개)|바이오의약품 정제용 크로마토그래피 레진|\\n|바이오 의약품 생산용 배지|차세대 백신 제작용 핵심 소재|\\n|바이오의약품생산 제품분석용 소모품|차세대 백신 전달 및 제형 소재|\\n|바이오의약품 생산 배양 공정 관리 시스템 및 부품|첨단바이오의약품 제조용 핵심 소재|\\n|TMS 부품|수전해용 차세대 핵심소재|\\n|TOC 측정기 및 부품|수소충전소 핵심부품|\\n|공업용 순수 생산 핵심소재/장치|건물용 연료전지 MEA(Membrane Electrode Assembly)|\\n|그린에너지|질소산화물 센서|\\n|(16개)|연료전지용 열교환기|\\n|VOCs 저감 장치|세라믹 전해전지 스택|\\n|고출력·고효율 태양전지 셀|고효율 헤파필터|\\n|태양전지용 소재|산화알루미늄 분말|\\n|태양전지용 CVD 장치|2차전지 음극용 인조흑연|\\n|Bio Processor 용 저전력 PIM 반도체|고해상도 MIMO 레이더 칩셋 및 패키지|\\n|비대면|RF Beamforming 용 저전력 PIM 반도체|\\n|디지털| |\\n|(7개)|대용량·초고속 광송신 및 수신부품(LD,PD)|\\n|Sub-THz 급 Multi-Channel 레이더 칩셋| |\\n', mimetype='text/plain', start_char_idx=None, end_char_idx=None, text_template='{metadata_str}\\n\\n{content}', metadata_template='{key}: {value}', metadata_seperator='\\n'),\n",
       " Document(id_='f3b2795d-6730-45a9-997f-a22ec6df5a2e', embedding=None, metadata={}, excluded_embed_metadata_keys=[], excluded_llm_metadata_keys=[], relationships={}, text='# 스타트업 10대 초격차 분야\\n\\n|10대 분야|세부 분류(예)|\\n|---|---|\\n|➊ 시스템반도체|로직‧아날로그 IC, 마이크로컴포넌트|\\n|➋ 바이오·헬스|의약, 임상기술, 의료기기|\\n|➌ 미래모빌리티|전기·수소차, 자율주행|\\n|➍ 친환경·에너지|자원순환, CCUS, 친환경 신소재, 신재생, 이차전지, 에너지 절감|\\n|➎ 로봇|지능형‧서비스 로봇, 스마트시스템|\\n|➏ 빅데이터·AI|컴퓨터비전, 빅데이터 수집 및 활용, 고객데이터플랫폼, AIoT|\\n|➐ 사이버보안·네트워크|복호화, 블록체인, 5·6G, 무선통신, 클라우드, 메타버스, 모바일 엣지컴퓨팅|\\n|➑ 우주항공·해양|위성, 발사체, 기지국, 비행체, 첨단선박|\\n|➒ 차세대원전|원자로, 원전 재료, 안전기술|\\n|➓ 양자기술|양자컴퓨터, 양자센서, 양자통신|\\n\\n* 상기 내역은 ‘2024년 중소기업 기술 로드맵’ 개편 내용에 따라 변경될 수 있음', mimetype='text/plain', start_char_idx=None, end_char_idx=None, text_template='{metadata_str}\\n\\n{content}', metadata_template='{key}: {value}', metadata_seperator='\\n')]"
      ]
     },
     "execution_count": 15,
     "metadata": {},
     "output_type": "execute_result"
    }
   ],
   "source": [
    "parse_instance.load_data(file_path)"
   ]
  },
  {
   "cell_type": "markdown",
   "id": "c09cdae0",
   "metadata": {},
   "source": [
    "## 3. Use Llama Parse with AutoRAG"
   ]
  },
  {
   "cell_type": "code",
   "execution_count": 17,
   "id": "1c161aeb",
   "metadata": {},
   "outputs": [],
   "source": [
    "pjt_dir = os.path.join(root_dir, \"ocr_model\", \"llama_parse\")\n",
    "\n",
    "parser = Parser(data_path_glob=glob_path, project_dir=pjt_dir)"
   ]
  },
  {
   "cell_type": "code",
   "execution_count": 20,
   "id": "43945885",
   "metadata": {},
   "outputs": [
    {
     "name": "stdout",
     "output_type": "stream",
     "text": [
      "\u001b[2;36m[04/27/25 20:20:43]\u001b[0m\u001b[2;36m \u001b[0m\u001b[34mINFO    \u001b[0m \u001b[1m[\u001b[0mparser.py:\u001b[1;36m29\u001b[0m\u001b[1m]\u001b[0m >> Parsing Start\u001b[33m...\u001b[0m     \u001b]8;id=295816;file:///home/martinus/llm/lib/python3.10/site-packages/autorag/parser.py\u001b\\\u001b[2mparser.py\u001b[0m\u001b]8;;\u001b\\\u001b[2m:\u001b[0m\u001b]8;id=334341;file:///home/martinus/llm/lib/python3.10/site-packages/autorag/parser.py#29\u001b\\\u001b[2m29\u001b[0m\u001b]8;;\u001b\\\n",
      "\u001b[2;36m                   \u001b[0m\u001b[2;36m \u001b[0m\u001b[34mINFO    \u001b[0m \u001b[1m[\u001b[0mbase.py:\u001b[1;36m23\u001b[0m\u001b[1m]\u001b[0m >> Running parser -         \u001b]8;id=230000;file:///home/martinus/llm/lib/python3.10/site-packages/autorag/data/parse/base.py\u001b\\\u001b[2mbase.py\u001b[0m\u001b]8;;\u001b\\\u001b[2m:\u001b[0m\u001b]8;id=183997;file:///home/martinus/llm/lib/python3.10/site-packages/autorag/data/parse/base.py#23\u001b\\\u001b[2m23\u001b[0m\u001b]8;;\u001b\\\n",
      "\u001b[2;36m                    \u001b[0m         llama_parse module\u001b[33m...\u001b[0m                    \u001b[2m          \u001b[0m\n",
      "\u001b[2;36m[04/27/25 20:20:50]\u001b[0m\u001b[2;36m \u001b[0m\u001b[34mINFO    \u001b[0m \u001b[1m[\u001b[0m_client.py:\u001b[1;36m1786\u001b[0m\u001b[1m]\u001b[0m >> HTTP Request:  \u001b]8;id=145312;file:///home/martinus/llm/lib/python3.10/site-packages/httpx/_client.py\u001b\\\u001b[2m_client.py\u001b[0m\u001b]8;;\u001b\\\u001b[2m:\u001b[0m\u001b]8;id=998982;file:///home/martinus/llm/lib/python3.10/site-packages/httpx/_client.py#1786\u001b\\\u001b[2m1786\u001b[0m\u001b]8;;\u001b\\\n",
      "\u001b[2;36m                    \u001b[0m         \u001b[1;33mPOST\u001b[0m                                \u001b[2m               \u001b[0m\n",
      "\u001b[2;36m                    \u001b[0m         \u001b[4;94mhttps://api.cloud.llamaindex.ai/api\u001b[0m \u001b[2m               \u001b[0m\n",
      "\u001b[2;36m                    \u001b[0m         \u001b[4;94m/parsing/upload\u001b[0m \u001b[32m\"HTTP/1.1 200 OK\"\u001b[0m   \u001b[2m               \u001b[0m\n",
      "Started parsing the file under job_id efd8bbb2-51c3-423a-b315-1a3b46902e40\n",
      "\u001b[2;36m[04/27/25 20:20:53]\u001b[0m\u001b[2;36m \u001b[0m\u001b[34mINFO    \u001b[0m \u001b[1m[\u001b[0m_client.py:\u001b[1;36m1786\u001b[0m\u001b[1m]\u001b[0m >> HTTP Request:  \u001b]8;id=177687;file:///home/martinus/llm/lib/python3.10/site-packages/httpx/_client.py\u001b\\\u001b[2m_client.py\u001b[0m\u001b]8;;\u001b\\\u001b[2m:\u001b[0m\u001b]8;id=246399;file:///home/martinus/llm/lib/python3.10/site-packages/httpx/_client.py#1786\u001b\\\u001b[2m1786\u001b[0m\u001b]8;;\u001b\\\n",
      "\u001b[2;36m                    \u001b[0m         \u001b[1;33mGET\u001b[0m                                 \u001b[2m               \u001b[0m\n",
      "\u001b[2;36m                    \u001b[0m         \u001b[4;94mhttps://api.cloud.llamaindex.ai/api\u001b[0m \u001b[2m               \u001b[0m\n",
      "\u001b[2;36m                    \u001b[0m         \u001b[4;94m/parsing/job/efd8bbb2-51c3-423a-b31\u001b[0m \u001b[2m               \u001b[0m\n",
      "\u001b[2;36m                    \u001b[0m         \u001b[4;94m5-1a3b46902e40\u001b[0m \u001b[32m\"HTTP/1.1 200 OK\"\u001b[0m    \u001b[2m               \u001b[0m\n",
      "\u001b[2;36m[04/27/25 20:20:55]\u001b[0m\u001b[2;36m \u001b[0m\u001b[34mINFO    \u001b[0m \u001b[1m[\u001b[0m_client.py:\u001b[1;36m1786\u001b[0m\u001b[1m]\u001b[0m >> HTTP Request:  \u001b]8;id=129766;file:///home/martinus/llm/lib/python3.10/site-packages/httpx/_client.py\u001b\\\u001b[2m_client.py\u001b[0m\u001b]8;;\u001b\\\u001b[2m:\u001b[0m\u001b]8;id=240894;file:///home/martinus/llm/lib/python3.10/site-packages/httpx/_client.py#1786\u001b\\\u001b[2m1786\u001b[0m\u001b]8;;\u001b\\\n",
      "\u001b[2;36m                    \u001b[0m         \u001b[1;33mGET\u001b[0m                                 \u001b[2m               \u001b[0m\n",
      "\u001b[2;36m                    \u001b[0m         \u001b[4;94mhttps://api.cloud.llamaindex.ai/api\u001b[0m \u001b[2m               \u001b[0m\n",
      "\u001b[2;36m                    \u001b[0m         \u001b[4;94m/parsing/job/efd8bbb2-51c3-423a-b31\u001b[0m \u001b[2m               \u001b[0m\n",
      "\u001b[2;36m                    \u001b[0m         \u001b[4;94m5-1a3b46902e40\u001b[0m \u001b[32m\"HTTP/1.1 200 OK\"\u001b[0m    \u001b[2m               \u001b[0m\n",
      "\u001b[2;36m[04/27/25 20:20:56]\u001b[0m\u001b[2;36m \u001b[0m\u001b[34mINFO    \u001b[0m \u001b[1m[\u001b[0m_client.py:\u001b[1;36m1786\u001b[0m\u001b[1m]\u001b[0m >> HTTP Request:  \u001b]8;id=283463;file:///home/martinus/llm/lib/python3.10/site-packages/httpx/_client.py\u001b\\\u001b[2m_client.py\u001b[0m\u001b]8;;\u001b\\\u001b[2m:\u001b[0m\u001b]8;id=519147;file:///home/martinus/llm/lib/python3.10/site-packages/httpx/_client.py#1786\u001b\\\u001b[2m1786\u001b[0m\u001b]8;;\u001b\\\n",
      "\u001b[2;36m                    \u001b[0m         \u001b[1;33mGET\u001b[0m                                 \u001b[2m               \u001b[0m\n",
      "\u001b[2;36m                    \u001b[0m         \u001b[4;94mhttps://api.cloud.llamaindex.ai/api\u001b[0m \u001b[2m               \u001b[0m\n",
      "\u001b[2;36m                    \u001b[0m         \u001b[4;94m/parsing/job/efd8bbb2-51c3-423a-b31\u001b[0m \u001b[2m               \u001b[0m\n",
      "\u001b[2;36m                    \u001b[0m         \u001b[4;94m5-1a3b46902e40/result/markdown\u001b[0m      \u001b[2m               \u001b[0m\n",
      "\u001b[2;36m                    \u001b[0m         \u001b[32m\"HTTP/1.1 200 OK\"\u001b[0m                   \u001b[2m               \u001b[0m\n",
      "\u001b[2;36m                   \u001b[0m\u001b[2;36m \u001b[0m\u001b[34mINFO    \u001b[0m \u001b[1m[\u001b[0mparser.py:\u001b[1;36m37\u001b[0m\u001b[1m]\u001b[0m >> Parsing Done!        \u001b]8;id=306593;file:///home/martinus/llm/lib/python3.10/site-packages/autorag/parser.py\u001b\\\u001b[2mparser.py\u001b[0m\u001b]8;;\u001b\\\u001b[2m:\u001b[0m\u001b]8;id=42528;file:///home/martinus/llm/lib/python3.10/site-packages/autorag/parser.py#37\u001b\\\u001b[2m37\u001b[0m\u001b]8;;\u001b\\\n"
     ]
    }
   ],
   "source": [
    "yaml_path = os.path.join(root_dir, \"config\", \"llamaparse.yaml\")\n",
    "\n",
    "parser.start_parsing(yaml_path, all_files=True)"
   ]
  },
  {
   "cell_type": "markdown",
   "id": "b7dc7415",
   "metadata": {},
   "source": [
    "## 4. Check Result"
   ]
  },
  {
   "cell_type": "code",
   "execution_count": 21,
   "id": "9a9657f5",
   "metadata": {},
   "outputs": [],
   "source": [
    "result_path = os.path.join(pjt_dir, \"parsed_result.parquet\")\n",
    "llamaparse_result = pd.read_parquet(result_path)"
   ]
  },
  {
   "cell_type": "code",
   "execution_count": 22,
   "id": "cbb80ae5",
   "metadata": {},
   "outputs": [
    {
     "data": {
      "text/html": [
       "<div>\n",
       "<style scoped>\n",
       "    .dataframe tbody tr th:only-of-type {\n",
       "        vertical-align: middle;\n",
       "    }\n",
       "\n",
       "    .dataframe tbody tr th {\n",
       "        vertical-align: top;\n",
       "    }\n",
       "\n",
       "    .dataframe thead th {\n",
       "        text-align: right;\n",
       "    }\n",
       "</style>\n",
       "<table border=\"1\" class=\"dataframe\">\n",
       "  <thead>\n",
       "    <tr style=\"text-align: right;\">\n",
       "      <th></th>\n",
       "      <th>texts</th>\n",
       "      <th>path</th>\n",
       "      <th>page</th>\n",
       "      <th>last_modified_datetime</th>\n",
       "    </tr>\n",
       "  </thead>\n",
       "  <tbody>\n",
       "    <tr>\n",
       "      <th>0</th>\n",
       "      <td># 중소벤처기업부 공고 제2024–300호\\n\\n# 2024년 글로벌 팁스(Glob...</td>\n",
       "      <td>/home/martinus/workspace/RAG-Evaluation/Parsin...</td>\n",
       "      <td>1</td>\n",
       "      <td>2025-04-20</td>\n",
       "    </tr>\n",
       "    <tr>\n",
       "      <th>1</th>\n",
       "      <td># 2 신청자격 및 요건\\n\\n# □ 신청자격\\n\\n- ｢중소기업기본법｣ 제2조제1...</td>\n",
       "      <td>/home/martinus/workspace/RAG-Evaluation/Parsin...</td>\n",
       "      <td>2</td>\n",
       "      <td>2025-04-20</td>\n",
       "    </tr>\n",
       "    <tr>\n",
       "      <th>2</th>\n",
       "      <td># 신청 제외 대상 (사업 신청‧접수 마감일 기준)\\n\\n# ① 금융기관 등으로부터...</td>\n",
       "      <td>/home/martinus/workspace/RAG-Evaluation/Parsin...</td>\n",
       "      <td>3</td>\n",
       "      <td>2025-04-20</td>\n",
       "    </tr>\n",
       "    <tr>\n",
       "      <th>3</th>\n",
       "      <td># 의무 및 역할\\n\\n- 선정자는「중소기업창업 지원사업 운영요령」 및 「창업사업화...</td>\n",
       "      <td>/home/martinus/workspace/RAG-Evaluation/Parsin...</td>\n",
       "      <td>4</td>\n",
       "      <td>2025-04-20</td>\n",
       "    </tr>\n",
       "    <tr>\n",
       "      <th>4</th>\n",
       "      <td># 3 지원내용\\n\\n□ 협약기간  : 협약시작일로부터 10개월 이내\\n\\n* 사업...</td>\n",
       "      <td>/home/martinus/workspace/RAG-Evaluation/Parsin...</td>\n",
       "      <td>5</td>\n",
       "      <td>2025-04-20</td>\n",
       "    </tr>\n",
       "    <tr>\n",
       "      <th>5</th>\n",
       "      <td># 4 신청 및 접수\\n\\n# □ 신청 ‧ 접수 기간\\n\\n◦ 접수기간  : 202...</td>\n",
       "      <td>/home/martinus/workspace/RAG-Evaluation/Parsin...</td>\n",
       "      <td>6</td>\n",
       "      <td>2025-04-20</td>\n",
       "    </tr>\n",
       "    <tr>\n",
       "      <th>6</th>\n",
       "      <td># 제출서류\\n\\n|제출서류|제출 방법|유의 사항|\\n|---|---|---|\\n|...</td>\n",
       "      <td>/home/martinus/workspace/RAG-Evaluation/Parsin...</td>\n",
       "      <td>7</td>\n",
       "      <td>2025-04-20</td>\n",
       "    </tr>\n",
       "    <tr>\n",
       "      <th>7</th>\n",
       "      <td># 5 평가 및 선정\\n\\n□ 평가 절차 : 총 2단계 평가 (서류 + 발표(현장실...</td>\n",
       "      <td>/home/martinus/workspace/RAG-Evaluation/Parsin...</td>\n",
       "      <td>8</td>\n",
       "      <td>2025-04-20</td>\n",
       "    </tr>\n",
       "    <tr>\n",
       "      <th>8</th>\n",
       "      <td># 최종선정\\n\\n서류 및 발표평가 결과에 최종 가점을 합산하여 지원 대상자 선정\\...</td>\n",
       "      <td>/home/martinus/workspace/RAG-Evaluation/Parsin...</td>\n",
       "      <td>9</td>\n",
       "      <td>2025-04-20</td>\n",
       "    </tr>\n",
       "    <tr>\n",
       "      <th>9</th>\n",
       "      <td># 서류 및 발표평가 결과에 최대 5점까지 가점 부여\\n\\n|가점 세부 항목|점수|...</td>\n",
       "      <td>/home/martinus/workspace/RAG-Evaluation/Parsin...</td>\n",
       "      <td>10</td>\n",
       "      <td>2025-04-20</td>\n",
       "    </tr>\n",
       "    <tr>\n",
       "      <th>10</th>\n",
       "      <td># 6 유의사항\\n\\n◈ 창업지원사업에 신청하는 창업기업은 관련 법령에 따라 다음 ...</td>\n",
       "      <td>/home/martinus/workspace/RAG-Evaluation/Parsin...</td>\n",
       "      <td>11</td>\n",
       "      <td>2025-04-20</td>\n",
       "    </tr>\n",
       "    <tr>\n",
       "      <th>11</th>\n",
       "      <td>* 합의 하에 공동 작성한 동일‧유사 사업계획서로 선정된 경우일지라도, 공동작성자 ...</td>\n",
       "      <td>/home/martinus/workspace/RAG-Evaluation/Parsin...</td>\n",
       "      <td>12</td>\n",
       "      <td>2025-04-20</td>\n",
       "    </tr>\n",
       "    <tr>\n",
       "      <th>12</th>\n",
       "      <td># 사업계획서 작성\\n\\n- 중장기 사업수행 계획은 총사업 기간(3년)에 맞추어 작...</td>\n",
       "      <td>/home/martinus/workspace/RAG-Evaluation/Parsin...</td>\n",
       "      <td>13</td>\n",
       "      <td>2025-04-20</td>\n",
       "    </tr>\n",
       "    <tr>\n",
       "      <th>13</th>\n",
       "      <td># 선정 후 유의사항\\n\\n- 동 사업에 선정된 자가 공고문 및 관련 규정에 위배되...</td>\n",
       "      <td>/home/martinus/workspace/RAG-Evaluation/Parsin...</td>\n",
       "      <td>14</td>\n",
       "      <td>2025-04-20</td>\n",
       "    </tr>\n",
       "    <tr>\n",
       "      <th>14</th>\n",
       "      <td>◦ 선정자는 창업진흥원이 지정한 은행 계좌 (사업비계좌) 개설 및 창업 사업통합관리...</td>\n",
       "      <td>/home/martinus/workspace/RAG-Evaluation/Parsin...</td>\n",
       "      <td>15</td>\n",
       "      <td>2025-04-20</td>\n",
       "    </tr>\n",
       "    <tr>\n",
       "      <th>15</th>\n",
       "      <td># 붙임1 창업기업 확인에 관한 유의사항\\n\\n# □ 창업의 범위\\n\\n- 다음의 ...</td>\n",
       "      <td>/home/martinus/workspace/RAG-Evaluation/Parsin...</td>\n",
       "      <td>16</td>\n",
       "      <td>2025-04-20</td>\n",
       "    </tr>\n",
       "    <tr>\n",
       "      <th>16</th>\n",
       "      <td># 창업여부 기준표\\n\\n|신청기업구분|상세 구분|창업여부| |\\n|---|---|...</td>\n",
       "      <td>/home/martinus/workspace/RAG-Evaluation/Parsin...</td>\n",
       "      <td>17</td>\n",
       "      <td>2025-04-20</td>\n",
       "    </tr>\n",
       "    <tr>\n",
       "      <th>17</th>\n",
       "      <td># 붙임2    지원 제외 대상 업종\\n\\n▶ 중소기업창업지원법 시행령 제4조(창업...</td>\n",
       "      <td>/home/martinus/workspace/RAG-Evaluation/Parsin...</td>\n",
       "      <td>18</td>\n",
       "      <td>2025-04-20</td>\n",
       "    </tr>\n",
       "    <tr>\n",
       "      <th>18</th>\n",
       "      <td># 붙임3 동시수행 불가한 글로벌 창업지원사업 목록\\n\\n※ ’24년도 중소벤처기업...</td>\n",
       "      <td>/home/martinus/workspace/RAG-Evaluation/Parsin...</td>\n",
       "      <td>19</td>\n",
       "      <td>2025-04-20</td>\n",
       "    </tr>\n",
       "    <tr>\n",
       "      <th>19</th>\n",
       "      <td># 신산업 창업 분야\\n\\n※ 「중소기업창업 지원법」 제25조 4항에 따라 신산업 ...</td>\n",
       "      <td>/home/martinus/workspace/RAG-Evaluation/Parsin...</td>\n",
       "      <td>20</td>\n",
       "      <td>2025-04-20</td>\n",
       "    </tr>\n",
       "    <tr>\n",
       "      <th>20</th>\n",
       "      <td># 붙임5 소재·부품·장비 및 스타트업 10대 초격차 분야\\n\\n☞ 품목별 시장 및...</td>\n",
       "      <td>/home/martinus/workspace/RAG-Evaluation/Parsin...</td>\n",
       "      <td>21</td>\n",
       "      <td>2025-04-20</td>\n",
       "    </tr>\n",
       "    <tr>\n",
       "      <th>21</th>\n",
       "      <td># 전략분야\\n\\n# 전략품목\\n\\n|수소 저장·운반용 복합 소재|4D FMCW 라...</td>\n",
       "      <td>/home/martinus/workspace/RAG-Evaluation/Parsin...</td>\n",
       "      <td>22</td>\n",
       "      <td>2025-04-20</td>\n",
       "    </tr>\n",
       "    <tr>\n",
       "      <th>22</th>\n",
       "      <td># 스타트업 10대 초격차 분야\\n\\n|10대 분야|세부 분류(예)|\\n|---|-...</td>\n",
       "      <td>/home/martinus/workspace/RAG-Evaluation/Parsin...</td>\n",
       "      <td>23</td>\n",
       "      <td>2025-04-20</td>\n",
       "    </tr>\n",
       "  </tbody>\n",
       "</table>\n",
       "</div>"
      ],
      "text/plain": [
       "                                                texts  \\\n",
       "0   # 중소벤처기업부 공고 제2024–300호\\n\\n# 2024년 글로벌 팁스(Glob...   \n",
       "1   # 2 신청자격 및 요건\\n\\n# □ 신청자격\\n\\n- ｢중소기업기본법｣ 제2조제1...   \n",
       "2   # 신청 제외 대상 (사업 신청‧접수 마감일 기준)\\n\\n# ① 금융기관 등으로부터...   \n",
       "3   # 의무 및 역할\\n\\n- 선정자는「중소기업창업 지원사업 운영요령」 및 「창업사업화...   \n",
       "4   # 3 지원내용\\n\\n□ 협약기간  : 협약시작일로부터 10개월 이내\\n\\n* 사업...   \n",
       "5   # 4 신청 및 접수\\n\\n# □ 신청 ‧ 접수 기간\\n\\n◦ 접수기간  : 202...   \n",
       "6   # 제출서류\\n\\n|제출서류|제출 방법|유의 사항|\\n|---|---|---|\\n|...   \n",
       "7   # 5 평가 및 선정\\n\\n□ 평가 절차 : 총 2단계 평가 (서류 + 발표(현장실...   \n",
       "8   # 최종선정\\n\\n서류 및 발표평가 결과에 최종 가점을 합산하여 지원 대상자 선정\\...   \n",
       "9   # 서류 및 발표평가 결과에 최대 5점까지 가점 부여\\n\\n|가점 세부 항목|점수|...   \n",
       "10  # 6 유의사항\\n\\n◈ 창업지원사업에 신청하는 창업기업은 관련 법령에 따라 다음 ...   \n",
       "11  * 합의 하에 공동 작성한 동일‧유사 사업계획서로 선정된 경우일지라도, 공동작성자 ...   \n",
       "12  # 사업계획서 작성\\n\\n- 중장기 사업수행 계획은 총사업 기간(3년)에 맞추어 작...   \n",
       "13  # 선정 후 유의사항\\n\\n- 동 사업에 선정된 자가 공고문 및 관련 규정에 위배되...   \n",
       "14  ◦ 선정자는 창업진흥원이 지정한 은행 계좌 (사업비계좌) 개설 및 창업 사업통합관리...   \n",
       "15  # 붙임1 창업기업 확인에 관한 유의사항\\n\\n# □ 창업의 범위\\n\\n- 다음의 ...   \n",
       "16  # 창업여부 기준표\\n\\n|신청기업구분|상세 구분|창업여부| |\\n|---|---|...   \n",
       "17  # 붙임2    지원 제외 대상 업종\\n\\n▶ 중소기업창업지원법 시행령 제4조(창업...   \n",
       "18  # 붙임3 동시수행 불가한 글로벌 창업지원사업 목록\\n\\n※ ’24년도 중소벤처기업...   \n",
       "19  # 신산업 창업 분야\\n\\n※ 「중소기업창업 지원법」 제25조 4항에 따라 신산업 ...   \n",
       "20  # 붙임5 소재·부품·장비 및 스타트업 10대 초격차 분야\\n\\n☞ 품목별 시장 및...   \n",
       "21  # 전략분야\\n\\n# 전략품목\\n\\n|수소 저장·운반용 복합 소재|4D FMCW 라...   \n",
       "22  # 스타트업 10대 초격차 분야\\n\\n|10대 분야|세부 분류(예)|\\n|---|-...   \n",
       "\n",
       "                                                 path  page  \\\n",
       "0   /home/martinus/workspace/RAG-Evaluation/Parsin...     1   \n",
       "1   /home/martinus/workspace/RAG-Evaluation/Parsin...     2   \n",
       "2   /home/martinus/workspace/RAG-Evaluation/Parsin...     3   \n",
       "3   /home/martinus/workspace/RAG-Evaluation/Parsin...     4   \n",
       "4   /home/martinus/workspace/RAG-Evaluation/Parsin...     5   \n",
       "5   /home/martinus/workspace/RAG-Evaluation/Parsin...     6   \n",
       "6   /home/martinus/workspace/RAG-Evaluation/Parsin...     7   \n",
       "7   /home/martinus/workspace/RAG-Evaluation/Parsin...     8   \n",
       "8   /home/martinus/workspace/RAG-Evaluation/Parsin...     9   \n",
       "9   /home/martinus/workspace/RAG-Evaluation/Parsin...    10   \n",
       "10  /home/martinus/workspace/RAG-Evaluation/Parsin...    11   \n",
       "11  /home/martinus/workspace/RAG-Evaluation/Parsin...    12   \n",
       "12  /home/martinus/workspace/RAG-Evaluation/Parsin...    13   \n",
       "13  /home/martinus/workspace/RAG-Evaluation/Parsin...    14   \n",
       "14  /home/martinus/workspace/RAG-Evaluation/Parsin...    15   \n",
       "15  /home/martinus/workspace/RAG-Evaluation/Parsin...    16   \n",
       "16  /home/martinus/workspace/RAG-Evaluation/Parsin...    17   \n",
       "17  /home/martinus/workspace/RAG-Evaluation/Parsin...    18   \n",
       "18  /home/martinus/workspace/RAG-Evaluation/Parsin...    19   \n",
       "19  /home/martinus/workspace/RAG-Evaluation/Parsin...    20   \n",
       "20  /home/martinus/workspace/RAG-Evaluation/Parsin...    21   \n",
       "21  /home/martinus/workspace/RAG-Evaluation/Parsin...    22   \n",
       "22  /home/martinus/workspace/RAG-Evaluation/Parsin...    23   \n",
       "\n",
       "   last_modified_datetime  \n",
       "0              2025-04-20  \n",
       "1              2025-04-20  \n",
       "2              2025-04-20  \n",
       "3              2025-04-20  \n",
       "4              2025-04-20  \n",
       "5              2025-04-20  \n",
       "6              2025-04-20  \n",
       "7              2025-04-20  \n",
       "8              2025-04-20  \n",
       "9              2025-04-20  \n",
       "10             2025-04-20  \n",
       "11             2025-04-20  \n",
       "12             2025-04-20  \n",
       "13             2025-04-20  \n",
       "14             2025-04-20  \n",
       "15             2025-04-20  \n",
       "16             2025-04-20  \n",
       "17             2025-04-20  \n",
       "18             2025-04-20  \n",
       "19             2025-04-20  \n",
       "20             2025-04-20  \n",
       "21             2025-04-20  \n",
       "22             2025-04-20  "
      ]
     },
     "execution_count": 22,
     "metadata": {},
     "output_type": "execute_result"
    }
   ],
   "source": [
    "llamaparse_result"
   ]
  },
  {
   "cell_type": "code",
   "execution_count": 23,
   "id": "37815f07",
   "metadata": {},
   "outputs": [
    {
     "name": "stdout",
     "output_type": "stream",
     "text": [
      "# 3 지원내용\n",
      "\n",
      "□ 협약기간  : 협약시작일로부터 10개월 이내\n",
      "\n",
      "* 사업기간은 총 3년으로 선정 후, 1년 단위로 협약 연장\n",
      "\n",
      "□ 지원내용  : 사업화 자금 및 글로벌 현지진출 프로그램 등\n",
      "\n",
      "|구분|지원 세부 내용| | | | |\n",
      "|---|---|---|---|---|---|\n",
      "|사업화 자금|최대 2억원 (평균 1.8억원) 지원| | | | |\n",
      "| |* 선정평가 결과에 따라 사업화 자금 (정부지원사업비) 차등 지원| | | | |\n",
      "|< 총사업비 구성 및 예시 (정부지원사업비 1억 8,900만원인 경우) >|< 총사업비 구성 및 예시 (정부지원사업비 1억 8,900만원인 경우) >| | | | |\n",
      "|총 사업비(예시)|정부지원사업비|창업기업 자기부담사업비| | | |\n",
      "| |현금|현물| | | |\n",
      "|사업화 자금|100%|총사업비의 70% 이하|총사업비의 10% 이상|총사업비의 20% 이하| |\n",
      "|2.7억원|(100%)|(70%)|(10%)|(20%)| |\n",
      "| |* 총 사업비 = 정부지원사업비 70% 이하 + 자기부담사업비 30% 이상| | | | |\n",
      "| |** 자기부담사업비 (30% 이상) : 현금 10% 이상 + 현물 20% 이하| | | | |\n",
      "|*** 현물은 창업기업 대표자 본인 및 사업화 수행에 직접 참여하는 고용 인력의 인건비, 사무실 임차료, 보유 기자재 등으로 부담| | | | | |\n",
      "\n",
      "• 현지진출 관련 실무교육 및 멘토링, 글로벌 네트워킹 등\n",
      "\n",
      "|프로그램(예시)|지원내용|\n",
      "|---|---|\n",
      "|현지진출 실무교육|• 진출국가별 창업 트렌드 및 진출 전략, 글로벌 VC의 투자 동향, IR피칭 스킬 등 교육|\n",
      "|창업 선배기업 멘토링|• 현지진출 선배기업 특강 및 상담 등을 통한 경험을 공유하고, 1:1 멘토링 추진|\n",
      "|글로벌 네트워킹|• 현지 진출기업 및 협업 파트너와 만남의 장을 마련하여 정보 교류 및 협업 방안 모색|\n",
      "|후속 투자유치|• 글로벌 투자자 등이 참여하는 밋업데이, IR개최 등 해외 후속 투자유치 기회 제공|\n",
      "\n"
     ]
    }
   ],
   "source": [
    "print(llamaparse_result[\"texts\"].tolist()[4])"
   ]
  },
  {
   "cell_type": "markdown",
   "id": "d36c0221",
   "metadata": {},
   "source": []
  }
 ],
 "metadata": {
  "kernelspec": {
   "display_name": "llm",
   "language": "python",
   "name": "python3"
  },
  "language_info": {
   "codemirror_mode": {
    "name": "ipython",
    "version": 3
   },
   "file_extension": ".py",
   "mimetype": "text/x-python",
   "name": "python",
   "nbconvert_exporter": "python",
   "pygments_lexer": "ipython3",
   "version": "3.10.17"
  }
 },
 "nbformat": 4,
 "nbformat_minor": 5
}
